{
 "cells": [
  {
   "cell_type": "code",
   "execution_count": 6,
   "id": "4899d9c7",
   "metadata": {},
   "outputs": [
    {
     "name": "stdout",
     "output_type": "stream",
     "text": [
      "1\n",
      "2\n",
      "3\n",
      "4\n",
      "5\n",
      "6\n",
      "7\n",
      "8\n",
      "9\n",
      "10\n",
      "11\n",
      "12\n",
      "13\n",
      "14\n",
      "15\n"
     ]
    }
   ],
   "source": [
    "n=15\n",
    "for i in range(1,n+1):\n",
    "    print(i)\n"
   ]
  },
  {
   "cell_type": "code",
   "execution_count": 8,
   "id": "e2b30f3e",
   "metadata": {},
   "outputs": [
    {
     "name": "stdout",
     "output_type": "stream",
     "text": [
      "15\n",
      "14\n",
      "13\n",
      "12\n",
      "11\n",
      "10\n",
      "9\n",
      "8\n",
      "7\n",
      "6\n",
      "5\n",
      "4\n",
      "3\n",
      "2\n",
      "1\n"
     ]
    }
   ],
   "source": [
    "n=15\n",
    "for i in range(1,n+1):\n",
    "    print(n-i+1)\n"
   ]
  },
  {
   "cell_type": "code",
   "execution_count": 16,
   "id": "cbed4e3e",
   "metadata": {},
   "outputs": [
    {
     "name": "stdout",
     "output_type": "stream",
     "text": [
      "9\n",
      "18\n",
      "27\n",
      "36\n",
      "45\n",
      "54\n",
      "63\n",
      "72\n",
      "81\n",
      "90\n"
     ]
    }
   ],
   "source": [
    "n=9\n",
    "for i in range(n,n*11,n):\n",
    "    print(i)\n"
   ]
  },
  {
   "cell_type": "code",
   "execution_count": 18,
   "id": "f4371b06",
   "metadata": {},
   "outputs": [
    {
     "name": "stdout",
     "output_type": "stream",
     "text": [
      "90\n",
      "81\n",
      "72\n",
      "63\n",
      "54\n",
      "45\n",
      "36\n",
      "27\n",
      "18\n",
      "9\n"
     ]
    }
   ],
   "source": [
    "n=9\n",
    "for i in range(n,n*11,n):\n",
    "    print(n*11-i)\n"
   ]
  },
  {
   "cell_type": "code",
   "execution_count": 24,
   "id": "ce89bd6b",
   "metadata": {},
   "outputs": [
    {
     "name": "stdout",
     "output_type": "stream",
     "text": [
      "2\n",
      "4\n",
      "6\n",
      "8\n",
      "10\n",
      "12\n",
      "14\n",
      "16\n",
      "18\n",
      "20\n",
      "22\n",
      "24\n",
      "26\n",
      "28\n",
      "30\n",
      "32\n",
      "34\n",
      "36\n",
      "38\n",
      "40\n",
      "42\n",
      "44\n",
      "46\n",
      "48\n",
      "50\n",
      "52\n",
      "54\n",
      "56\n",
      "58\n",
      "60\n",
      "62\n",
      "64\n",
      "66\n",
      "68\n",
      "70\n",
      "72\n",
      "74\n",
      "76\n",
      "78\n",
      "80\n",
      "82\n",
      "84\n",
      "86\n",
      "88\n",
      "90\n",
      "92\n",
      "94\n",
      "96\n",
      "98\n",
      "100\n"
     ]
    }
   ],
   "source": [
    "for i in range(2,101,2):\n",
    "    print(i)\n"
   ]
  },
  {
   "cell_type": "code",
   "execution_count": 25,
   "id": "49921c8f",
   "metadata": {},
   "outputs": [
    {
     "name": "stdout",
     "output_type": "stream",
     "text": [
      "1\n",
      "3\n",
      "5\n",
      "7\n",
      "9\n",
      "11\n",
      "13\n",
      "15\n",
      "17\n",
      "19\n",
      "21\n",
      "23\n",
      "25\n",
      "27\n",
      "29\n",
      "31\n",
      "33\n",
      "35\n",
      "37\n",
      "39\n",
      "41\n",
      "43\n",
      "45\n",
      "47\n",
      "49\n",
      "51\n",
      "53\n",
      "55\n",
      "57\n",
      "59\n",
      "61\n",
      "63\n",
      "65\n",
      "67\n",
      "69\n",
      "71\n",
      "73\n",
      "75\n",
      "77\n",
      "79\n",
      "81\n",
      "83\n",
      "85\n",
      "87\n",
      "89\n",
      "91\n",
      "93\n",
      "95\n",
      "97\n",
      "99\n"
     ]
    }
   ],
   "source": [
    "for i in range(1,101,2):\n",
    "    print(i)"
   ]
  },
  {
   "cell_type": "code",
   "execution_count": 29,
   "id": "5a57ef59",
   "metadata": {},
   "outputs": [
    {
     "name": "stdout",
     "output_type": "stream",
     "text": [
      "a\n",
      "b\n",
      "c\n",
      "d\n",
      "e\n",
      "f\n",
      "g\n",
      "h\n",
      "i\n",
      "j\n",
      "k\n",
      "l\n",
      "m\n",
      "n\n",
      "o\n",
      "p\n",
      "q\n",
      "r\n",
      "s\n",
      "t\n",
      "u\n",
      "v\n",
      "w\n",
      "x\n",
      "y\n",
      "z\n"
     ]
    }
   ],
   "source": [
    "for i in range(ord('a'),ord('z')+1,1):\n",
    "    print(chr(i))"
   ]
  },
  {
   "cell_type": "code",
   "execution_count": 37,
   "id": "be82c660",
   "metadata": {},
   "outputs": [
    {
     "name": "stdout",
     "output_type": "stream",
     "text": [
      "Z\n",
      "Y\n",
      "X\n",
      "W\n",
      "V\n",
      "U\n",
      "T\n",
      "S\n",
      "R\n",
      "Q\n",
      "P\n",
      "O\n",
      "N\n",
      "M\n",
      "L\n",
      "K\n",
      "J\n",
      "I\n",
      "H\n",
      "G\n",
      "F\n",
      "E\n",
      "D\n",
      "C\n",
      "B\n",
      "A\n"
     ]
    }
   ],
   "source": [
    "for i in range(ord('Z'),ord('A')-1,-1):\n",
    "    print(chr(i))"
   ]
  },
  {
   "cell_type": "code",
   "execution_count": 39,
   "id": "a0f90690",
   "metadata": {},
   "outputs": [
    {
     "name": "stdout",
     "output_type": "stream",
     "text": [
      "120\n"
     ]
    }
   ],
   "source": [
    "n=15\n",
    "s=0\n",
    "for i in range(1,n+1):\n",
    "    s+=i\n",
    "print(s)"
   ]
  },
  {
   "cell_type": "code",
   "execution_count": 66,
   "id": "325f04d0",
   "metadata": {},
   "outputs": [
    {
     "name": "stdout",
     "output_type": "stream",
     "text": [
      "32= \n",
      "33=!\n",
      "34=\"\n",
      "35=#\n",
      "36=$\n",
      "37=%\n",
      "38=&\n",
      "39='\n",
      "40=(\n",
      "41=)\n",
      "42=*\n",
      "43=+\n",
      "44=,\n",
      "45=-\n",
      "46=.\n",
      "47=/\n",
      "48=0\n",
      "49=1\n",
      "50=2\n",
      "51=3\n",
      "52=4\n",
      "53=5\n",
      "54=6\n",
      "55=7\n",
      "56=8\n",
      "57=9\n",
      "58=:\n",
      "59=;\n",
      "60=<\n",
      "61==\n",
      "62=>\n",
      "63=?\n",
      "64=@\n",
      "65=A\n",
      "66=B\n",
      "67=C\n",
      "68=D\n",
      "69=E\n",
      "70=F\n",
      "71=G\n",
      "72=H\n",
      "73=I\n",
      "74=J\n",
      "75=K\n",
      "76=L\n",
      "77=M\n",
      "78=N\n",
      "79=O\n",
      "80=P\n",
      "81=Q\n",
      "82=R\n",
      "83=S\n",
      "84=T\n",
      "85=U\n",
      "86=V\n",
      "87=W\n",
      "88=X\n",
      "89=Y\n",
      "90=Z\n",
      "91=[\n",
      "92=\\\n",
      "93=]\n",
      "94=^\n",
      "95=_\n",
      "96=`\n",
      "97=a\n",
      "98=b\n",
      "99=c\n",
      "100=d\n",
      "101=e\n",
      "102=f\n",
      "103=g\n",
      "104=h\n",
      "105=i\n",
      "106=j\n",
      "107=k\n",
      "108=l\n",
      "109=m\n",
      "110=n\n",
      "111=o\n",
      "112=p\n",
      "113=q\n",
      "114=r\n",
      "115=s\n",
      "116=t\n",
      "117=u\n",
      "118=v\n",
      "119=w\n",
      "120=x\n",
      "121=y\n",
      "122=z\n",
      "123={\n",
      "124=|\n",
      "125=}\n",
      "126=~\n"
     ]
    }
   ],
   "source": [
    "for i in range(32,127):\n",
    "    print(f\"{i}={chr(i)}\")"
   ]
  },
  {
   "cell_type": "code",
   "execution_count": 42,
   "id": "d65da57f",
   "metadata": {},
   "outputs": [
    {
     "name": "stdout",
     "output_type": "stream",
     "text": [
      "Enter a number: 5\n",
      "Factorial of 5 is 120\n"
     ]
    }
   ],
   "source": [
    "\n",
    "def factorial(n):\n",
    "    if n == 0:\n",
    "        return 1\n",
    "    else:\n",
    "        return n * factorial(n - 1)\n",
    "\n",
    "num = int(input(\"Enter a number: \"))\n",
    "print(\"Factorial of\", num, \"is\", factorial(num))\n"
   ]
  },
  {
   "cell_type": "code",
   "execution_count": 43,
   "id": "319feb8d",
   "metadata": {},
   "outputs": [
    {
     "name": "stdout",
     "output_type": "stream",
     "text": [
      "Enter the base number: 8\n",
      "Enter the exponent number: 2\n",
      "8.0 raised to the power of 2.0 is 64.0\n"
     ]
    }
   ],
   "source": [
    "\n",
    "base = float(input(\"Enter the base number: \"))\n",
    "exponent = float(input(\"Enter the exponent number: \"))\n",
    "\n",
    "result = base ** exponent\n",
    "print(f\"{base} raised to the power of {exponent} is {result}\")\n"
   ]
  },
  {
   "cell_type": "code",
   "execution_count": 44,
   "id": "385b4154",
   "metadata": {},
   "outputs": [
    {
     "name": "stdout",
     "output_type": "stream",
     "text": [
      "Enter a number: 1234\n",
      "Reversed number: 4321\n"
     ]
    }
   ],
   "source": [
    "number = int(input(\"Enter a number: \"))\n",
    "reverse = 0\n",
    "\n",
    "while number > 0:\n",
    "    digit = number % 10\n",
    "    reverse = reverse * 10 + digit\n",
    "    number //= 10\n",
    "\n",
    "print(\"Reversed number:\", reverse)\n"
   ]
  },
  {
   "cell_type": "code",
   "execution_count": 45,
   "id": "803382f1",
   "metadata": {},
   "outputs": [
    {
     "name": "stdout",
     "output_type": "stream",
     "text": [
      "Enter a number: 124\n",
      "Sum of digits: 7\n"
     ]
    }
   ],
   "source": [
    "\n",
    "number = int(input(\"Enter a number: \"))\n",
    "sum_of_digits = 0\n",
    "\n",
    "while number > 0:\n",
    "    digit = number % 10\n",
    "    sum_of_digits += digit\n",
    "    number //= 10\n",
    "\n",
    "print(\"Sum of digits:\", sum_of_digits)\n"
   ]
  },
  {
   "cell_type": "code",
   "execution_count": 46,
   "id": "d6a16176",
   "metadata": {},
   "outputs": [
    {
     "name": "stdout",
     "output_type": "stream",
     "text": [
      "Enter a number: 15\n",
      "15 is not a prime number\n"
     ]
    }
   ],
   "source": [
    "\n",
    "num = int(input(\"Enter a number: \"))\n",
    "\n",
    "if num > 1:\n",
    "    for i in range(2, int(num**0.5) + 1):\n",
    "        if (num % i) == 0:\n",
    "            print(num, \"is not a prime number\")\n",
    "            break\n",
    "    else:\n",
    "        print(num, \"is a prime number\")\n",
    "else:\n",
    "    print(num, \"is not a prime number\")\n"
   ]
  },
  {
   "cell_type": "code",
   "execution_count": 47,
   "id": "6907d7b5",
   "metadata": {},
   "outputs": [
    {
     "name": "stdout",
     "output_type": "stream",
     "text": [
      "Enter first number: 14\n",
      "Enter second number: 21\n",
      "The HCF of 14 and 21 is 7\n"
     ]
    }
   ],
   "source": [
    "\n",
    "\n",
    "def calculate_hcf(x, y):\n",
    "    while y:\n",
    "        x, y = y, x % y\n",
    "    return x\n",
    "\n",
    "num1 = int(input(\"Enter first number: \"))\n",
    "num2 = int(input(\"Enter second number: \"))\n",
    "\n",
    "print(\"The HCF of\", num1, \"and\", num2, \"is\", calculate_hcf(num1, num2))\n"
   ]
  },
  {
   "cell_type": "code",
   "execution_count": 48,
   "id": "d7df0959",
   "metadata": {},
   "outputs": [
    {
     "name": "stdout",
     "output_type": "stream",
     "text": [
      "Enter a number (or type 'done' to finish): 14.25\n",
      "Do you want to continue (yes/no)? n\n",
      "Count of positive numbers: 1\n",
      "Count of negative numbers: 0\n",
      "Count of zeros: 0\n"
     ]
    }
   ],
   "source": [
    "\n",
    "positive_count = 0\n",
    "negative_count = 0\n",
    "zero_count = 0\n",
    "\n",
    "while True:\n",
    "    num = float(input(\"Enter a number (or type 'done' to finish): \"))\n",
    "    if num == 0:\n",
    "        zero_count += 1\n",
    "    elif num > 0:\n",
    "        positive_count += 1\n",
    "    elif num < 0:\n",
    "        negative_count += 1\n",
    "\n",
    "    if input(\"Do you want to continue (yes/no)? \").lower() != \"yes\":\n",
    "        break\n",
    "\n",
    "print(\"Count of positive numbers:\", positive_count)\n",
    "print(\"Count of negative numbers:\", negative_count)\n",
    "print(\"Count of zeros:\", zero_count)\n"
   ]
  },
  {
   "cell_type": "code",
   "execution_count": 55,
   "id": "a6f01327",
   "metadata": {},
   "outputs": [
    {
     "name": "stdout",
     "output_type": "stream",
     "text": [
      "Enter a number (enter any non-numeric value to stop): 4\n",
      "Enter a number (enter any non-numeric value to stop): 3\n",
      "Enter a number (enter any non-numeric value to stop): 7\n",
      "Enter a number (enter any non-numeric value to stop): 9\n",
      "Enter a number (enter any non-numeric value to stop): 1\n",
      "Enter a number (enter any non-numeric value to stop): f\n",
      "Largest number entered: 9.0\n",
      "Smallest number entered: 1.0\n"
     ]
    }
   ],
   "source": [
    "\n",
    "numbers = [] \n",
    "while True:\n",
    "    try:\n",
    "        num = float(input(\"Enter a number (enter any non-numeric value to stop): \"))\n",
    "        numbers.append(num)\n",
    "    except ValueError:\n",
    "        break\n",
    "if len(numbers) == 0:\n",
    "    print(\"No numbers entered.\")\n",
    "else:\n",
    "    largest = max(numbers)\n",
    "    smallest = min(numbers)\n",
    "    print(\"Largest number entered:\", largest)\n",
    "    print(\"Smallest number entered:\", smallest)\n"
   ]
  },
  {
   "cell_type": "code",
   "execution_count": 56,
   "id": "f8127f78",
   "metadata": {},
   "outputs": [
    {
     "name": "stdout",
     "output_type": "stream",
     "text": [
      "Number of integers divisible by 9: 11\n",
      "Sum of integers divisible by 9: 1683\n"
     ]
    }
   ],
   "source": [
    "\n",
    "count = 0\n",
    "total = 0\n",
    "\n",
    "for num in range(100, 201):\n",
    "    if num % 9 == 0:\n",
    "        count += 1\n",
    "        total += num\n",
    "\n",
    "print(\"Number of integers divisible by 9:\", count)\n",
    "print(\"Sum of integers divisible by 9:\", total)\n"
   ]
  },
  {
   "cell_type": "code",
   "execution_count": 57,
   "id": "60ad44c7",
   "metadata": {},
   "outputs": [
    {
     "name": "stdout",
     "output_type": "stream",
     "text": [
      "Enter a binary number: 1010\n",
      "Decimal equivalent: 10\n"
     ]
    }
   ],
   "source": [
    "\n",
    "binary = input(\"Enter a binary number: \")\n",
    "\n",
    "decimal = 0\n",
    "for digit in binary:\n",
    "    decimal = decimal * 2 + int(digit)\n",
    "\n",
    "print(\"Decimal equivalent:\", decimal)\n"
   ]
  },
  {
   "cell_type": "code",
   "execution_count": 61,
   "id": "b13c89c3",
   "metadata": {},
   "outputs": [
    {
     "name": "stdout",
     "output_type": "stream",
     "text": [
      "Enter a number: 2\n",
      "2 is a Strong Number.\n"
     ]
    }
   ],
   "source": [
    "\n",
    "\n",
    "def factorial(n):\n",
    "    if n == 0:\n",
    "        return 1\n",
    "    else:\n",
    "        return n * factorial(n - 1)\n",
    "\n",
    "def is_strong_number(num):\n",
    "    temp = num\n",
    "    sum_of_factorial = 0\n",
    "\n",
    "    while temp > 0:\n",
    "        digit = temp % 10\n",
    "        sum_of_factorial += factorial(digit)\n",
    "        temp //= 10\n",
    "\n",
    "    return sum_of_factorial == num\n",
    "\n",
    "number = int(input(\"Enter a number: \"))\n",
    "\n",
    "if is_strong_number(number):\n",
    "    print(number, \"is a Strong Number.\")\n",
    "else:\n",
    "    print(number, \"is not a Strong Number.\")\n"
   ]
  },
  {
   "cell_type": "code",
   "execution_count": 62,
   "id": "b35d9147",
   "metadata": {},
   "outputs": [
    {
     "name": "stdout",
     "output_type": "stream",
     "text": [
      "Enter a hexadecimal number: 4A3\n",
      "Decimal equivalent: 1187\n"
     ]
    }
   ],
   "source": [
    "\n",
    "hexadecimal = input(\"Enter a hexadecimal number: \")\n",
    "\n",
    "decimal = int(hexadecimal, 16)\n",
    "\n",
    "print(\"Decimal equivalent:\", decimal)\n"
   ]
  },
  {
   "cell_type": "code",
   "execution_count": null,
   "id": "366c188e",
   "metadata": {},
   "outputs": [],
   "source": []
  }
 ],
 "metadata": {
  "kernelspec": {
   "display_name": "Python 3 (ipykernel)",
   "language": "python",
   "name": "python3"
  },
  "language_info": {
   "codemirror_mode": {
    "name": "ipython",
    "version": 3
   },
   "file_extension": ".py",
   "mimetype": "text/x-python",
   "name": "python",
   "nbconvert_exporter": "python",
   "pygments_lexer": "ipython3",
   "version": "3.10.9"
  }
 },
 "nbformat": 4,
 "nbformat_minor": 5
}
