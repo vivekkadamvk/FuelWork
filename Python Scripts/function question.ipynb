{
 "cells": [
  {
   "cell_type": "code",
   "execution_count": null,
   "id": "3a9f7184",
   "metadata": {},
   "outputs": [],
   "source": [
    "1. Write a Python program to reverse a string without using built-in functions.\n",
    "\n",
    "2. Write a Python program to check if a given list of  string is a valid palindrome or not (ignoring cases and spaces).\n",
    "\n",
    "3. Write a Python program to remove all the vowels from a string.\n",
    "\n",
    "4. Write a Python function to generate a Fibonacci sequence of a given length.\n",
    "\n",
    "5. Write a Python program to find the largest and smallest elements in a list.\n",
    "\n",
    "6. Write a Python function to check if a given number is an Armstrong number or not.\n",
    "\n",
    "7. Write a Python program to sort a list of integers in ascending order.\n",
    "\n",
    "9. Write a Python program to count the number of words in a string.\n",
    "\n",
    "11. Write a Python program to find the sum of all the numbers in a list.\n",
    "\n",
    "12. Write a Python function to check if a given number is prime or not.\n",
    "\n",
    "13. Write a Python program to sort a list of strings in alphabetical order.\n",
    "\n",
    "14. Write a Python function to find the factorial of a given number.\n",
    "\n",
    "15.Write a Python program to remove all duplicates from a list.\n",
    "\n",
    "17 Write a Python function to calculate the area of a circle given its radius.\n"
   ]
  },
  {
   "cell_type": "code",
   "execution_count": 2,
   "id": "95d8a4a0",
   "metadata": {},
   "outputs": [
    {
     "name": "stdout",
     "output_type": "stream",
     "text": [
      "given list item >banana< is not valid palindrome\n",
      "given list item >python< is not valid palindrome\n"
     ]
    },
    {
     "data": {
      "text/plain": [
       "['racecar', 'level', 'deified']"
      ]
     },
     "execution_count": 2,
     "metadata": {},
     "output_type": "execute_result"
    }
   ],
   "source": [
    "# Write a Python program to check if a given list is a valid \n",
    "# palindrome or not (ignoring cases and spaces).\n",
    "\n",
    "def palindrome(list1):\n",
    "    result=[]\n",
    "    for i in list1:\n",
    "        if i==i[::-1]:\n",
    "            result.append(i)\n",
    "        else:\n",
    "            print(f\"given list item >{i}< is not valid palindrome\")\n",
    "    return result\n",
    "\n",
    "list2=['racecar', 'banana', 'level', 'python', 'deified']\n",
    "palindrome(list2)\n",
    "            \n",
    "            "
   ]
  },
  {
   "cell_type": "code",
   "execution_count": null,
   "id": "25363d3d",
   "metadata": {},
   "outputs": [],
   "source": [
    "list1=[0.9,77,'nilesh','somkule',{'cricket','ipl','india'},'india']\n",
    "tlp=('india',\"bcci\",0.8,0.9,[0.9,77,'ipl'])"
   ]
  },
  {
   "cell_type": "code",
   "execution_count": 4,
   "id": "edacc926",
   "metadata": {},
   "outputs": [],
   "source": [
    "list_1 = ['hello',\"happy\",\"thank\",\"good\"]\n",
    "list_2 = [\"bye\",\"you\",\"birthday\",\"world\"]\n"
   ]
  },
  {
   "cell_type": "code",
   "execution_count": null,
   "id": "ccd0f59a",
   "metadata": {},
   "outputs": [],
   "source": []
  },
  {
   "cell_type": "code",
   "execution_count": null,
   "id": "f7e5a62f",
   "metadata": {},
   "outputs": [],
   "source": []
  },
  {
   "cell_type": "code",
   "execution_count": null,
   "id": "3f1fe439",
   "metadata": {},
   "outputs": [],
   "source": [
    "1. Write a Python function to calculate the factorial of a given number.\n",
    "\n",
    "2. Create a function that takes a list of numbers as input and returns \n",
    "   the sum of all the numbers in the list.\n",
    "\n",
    "4. Create a function that takes a string as input and returns the \n",
    "    reversed version of the string.\n",
    "\n",
    "5. Write a Python function to check if a string is a palindrome or not.\n",
    "\n",
    "6 Create a function that takes two lists as input and returns True if they \n",
    "  have at least one common element, otherwise returns False.\n",
    "\n",
    "8. Create a function that takes a list of integers as input and returns a \n",
    "   new list with only the even numbers from the original list.\n",
    "    \n",
    "9. Write a Python function that takes a number and returns the \n",
    "   sum of its digits.\n",
    "\n",
    "10. Create a function that takes a list of strings and returns the \n",
    "    longest string in the list"
   ]
  },
  {
   "cell_type": "code",
   "execution_count": 2,
   "id": "23132017",
   "metadata": {},
   "outputs": [
    {
     "data": {
      "text/plain": [
       "'gninrael enihcam'"
      ]
     },
     "execution_count": 2,
     "metadata": {},
     "output_type": "execute_result"
    }
   ],
   "source": [
    "# 1. Write a Python program to reverse a string without using built-in functions.\n",
    "\n",
    "def reverse(string):\n",
    "    a=string[::-1]\n",
    "    return a\n",
    "reverse('machine learning')"
   ]
  },
  {
   "cell_type": "code",
   "execution_count": null,
   "id": "0da2210c",
   "metadata": {},
   "outputs": [],
   "source": [
    "# Write a Python program to check if a given list is a valid \n",
    "# palindrome or not (ignoring cases and spaces).\n",
    "\n",
    "def palindrome(list1):\n",
    "    result=[]\n",
    "    for i in list1:\n",
    "        if i==i[::-1]:\n",
    "            result.append(i)\n",
    "        else:\n",
    "            print(f\"given list item >{i}< is not valid palindrome\")\n",
    "    return result\n",
    "\n",
    "list2=['racecar', 'banana', 'level', 'python', 'deified']\n",
    "palindrome(list2)"
   ]
  },
  {
   "cell_type": "code",
   "execution_count": 6,
   "id": "8610a54b",
   "metadata": {},
   "outputs": [
    {
     "name": "stdout",
     "output_type": "stream",
     "text": [
      "nlsh\n"
     ]
    }
   ],
   "source": [
    "# 3. Write a Python program to remove all the vowels from a string.\n",
    "def remove(string):\n",
    "    vowels='aeiouAEIOU'\n",
    "    result=''\n",
    "    for i in string:\n",
    "        if i not in vowels:\n",
    "            result+=i\n",
    "    return result\n",
    "\n",
    "a=remove(\"nilesh\")\n",
    "print(a)"
   ]
  },
  {
   "cell_type": "code",
   "execution_count": 10,
   "id": "2f5b2029",
   "metadata": {},
   "outputs": [
    {
     "name": "stdout",
     "output_type": "stream",
     "text": [
      "[0, 1, 1, 2, 3, 5, 8, 13, 21, 34]\n"
     ]
    }
   ],
   "source": [
    "# 4. Write a Python function to generate a Fibonacci sequence of a given length.\n",
    "\n",
    "def fibonacci(length):\n",
    "    if length==0:\n",
    "        return []\n",
    "    elif length==1:\n",
    "        return [0]\n",
    "    else:\n",
    "        value=[0,1]\n",
    "        while len(value)<length:\n",
    "            next_no=value[-1]+value[-2]\n",
    "            value.append(next_no)\n",
    "    return value\n",
    "\n",
    "fibonacci_series=fibonacci(10)\n",
    "print(fibonacci_series)"
   ]
  },
  {
   "cell_type": "code",
   "execution_count": 16,
   "id": "f152af13",
   "metadata": {},
   "outputs": [
    {
     "name": "stdout",
     "output_type": "stream",
     "text": [
      "Enter Number to check :-10\n",
      "composite Number 10\n"
     ]
    }
   ],
   "source": [
    "def prime_no(n):\n",
    "    count=0\n",
    "    for i in range(1,n+1):\n",
    "        if n%i==0:\n",
    "            count=count+1\n",
    "        \n",
    "    if count==2:\n",
    "        print(\"prime Number\",n)\n",
    "    else:\n",
    "        print('composite Number',n)\n",
    "        \n",
    "n=int(input(\"Enter Number to check :-\"))\n",
    "prime_no(n)"
   ]
  },
  {
   "cell_type": "code",
   "execution_count": null,
   "id": "b4b47d82",
   "metadata": {},
   "outputs": [],
   "source": []
  },
  {
   "cell_type": "code",
   "execution_count": 14,
   "id": "69dc3a65",
   "metadata": {},
   "outputs": [
    {
     "data": {
      "text/plain": [
       "13"
      ]
     },
     "execution_count": 14,
     "metadata": {},
     "output_type": "execute_result"
    }
   ],
   "source": [
    "13"
   ]
  },
  {
   "cell_type": "code",
   "execution_count": 17,
   "id": "09054def",
   "metadata": {},
   "outputs": [
    {
     "name": "stdout",
     "output_type": "stream",
     "text": [
      "Sorted list of strings: ['apple', 'banana', 'grape', 'orange']\n"
     ]
    }
   ],
   "source": [
    "def sort_strings(string_list):\n",
    "    sorted_list = sorted(string_list)\n",
    "    return sorted_list\n",
    "\n",
    "# Example usage\n",
    "strings = [\"banana\", \"apple\", \"orange\", \"grape\"]\n",
    "sorted_strings = sort_strings(strings)\n",
    "print(\"Sorted list of strings:\", sorted_strings)\n"
   ]
  },
  {
   "cell_type": "code",
   "execution_count": 20,
   "id": "a5d7bbe5",
   "metadata": {},
   "outputs": [
    {
     "name": "stdout",
     "output_type": "stream",
     "text": [
      "Longest string in the list: strawberry\n"
     ]
    }
   ],
   "source": [
    "def longest_string(strings):\n",
    "    longest = \"\"\n",
    "    for i in strings:\n",
    "        if len(i) > len(longest):\n",
    "            longest = i\n",
    "    return longest\n",
    "\n",
    "# Example usage\n",
    "string_list = [\"apple\", \"banana\", \"orange\", \"strawberry\"]\n",
    "longest = longest_string(string_list)\n",
    "print(\"Longest string in the list:\", longest)\n",
    "\n"
   ]
  },
  {
   "cell_type": "code",
   "execution_count": 8,
   "id": "030dffe1",
   "metadata": {},
   "outputs": [
    {
     "name": "stdout",
     "output_type": "stream",
     "text": [
      "Enter radius :-5\n"
     ]
    },
    {
     "data": {
      "text/plain": [
       "78.5"
      ]
     },
     "execution_count": 8,
     "metadata": {},
     "output_type": "execute_result"
    }
   ],
   "source": [
    "import math\n",
    "\n",
    "def radius_func(radius):\n",
    "    area=math.pis**2\n",
    "    return area\n",
    "\n",
    "n=float(input(\"Enter radius :-\"))\n",
    "radius_func(n)"
   ]
  },
  {
   "cell_type": "code",
   "execution_count": 10,
   "id": "3d767262",
   "metadata": {},
   "outputs": [
    {
     "name": "stdout",
     "output_type": "stream",
     "text": [
      "Enter radius :-5\n"
     ]
    },
    {
     "data": {
      "text/plain": [
       "78.53981633974483"
      ]
     },
     "execution_count": 10,
     "metadata": {},
     "output_type": "execute_result"
    }
   ],
   "source": [
    "import math\n",
    "\n",
    "def radius_func(radius):\n",
    "    area=math.pi*radius**2\n",
    "    return area\n",
    "\n",
    "n=float(input(\"Enter radius :-\"))\n",
    "radius_func(n)"
   ]
  },
  {
   "cell_type": "code",
   "execution_count": null,
   "id": "e17408ee",
   "metadata": {},
   "outputs": [],
   "source": []
  }
 ],
 "metadata": {
  "kernelspec": {
   "display_name": "Python 3 (ipykernel)",
   "language": "python",
   "name": "python3"
  },
  "language_info": {
   "codemirror_mode": {
    "name": "ipython",
    "version": 3
   },
   "file_extension": ".py",
   "mimetype": "text/x-python",
   "name": "python",
   "nbconvert_exporter": "python",
   "pygments_lexer": "ipython3",
   "version": "3.11.5"
  }
 },
 "nbformat": 4,
 "nbformat_minor": 5
}
