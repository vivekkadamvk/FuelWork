{
 "cells": [
  {
   "cell_type": "code",
   "execution_count": 1,
   "id": "91528a1d",
   "metadata": {},
   "outputs": [
    {
     "name": "stdout",
     "output_type": "stream",
     "text": [
      "10\n",
      "10\n"
     ]
    }
   ],
   "source": [
    "a=int(input())\n",
    "print(a)"
   ]
  },
  {
   "cell_type": "code",
   "execution_count": 1,
   "id": "11f03bd0",
   "metadata": {},
   "outputs": [
    {
     "name": "stdout",
     "output_type": "stream",
     "text": [
      "hello\n",
      "hello\n"
     ]
    }
   ],
   "source": [
    "a=input()\n",
    "print(a)"
   ]
  },
  {
   "cell_type": "code",
   "execution_count": 1,
   "id": "0432b2b8",
   "metadata": {},
   "outputs": [
    {
     "name": "stdout",
     "output_type": "stream",
     "text": [
      "Enter First Number = 10\n",
      "Enter Second Number = 15\n",
      "10\n",
      "15\n",
      "Please Enter Operation\n",
      "+\n",
      "25\n"
     ]
    }
   ],
   "source": [
    "\n",
    "a = int(input(\"Enter First Number = \"))\n",
    "b=int(input(\"Enter Second Number = \"))\n",
    "\n",
    "print(a)\n",
    "print(b)\n",
    "print(\"Please Enter Operation\")\n",
    "j=str(input())\n",
    "if j=='+':\n",
    "    print(a+b)\n",
    "elif j=='-':\n",
    "    print(a-b)\n",
    "elif j=='*':\n",
    "    print(a*b)\n",
    "elif j=='/':\n",
    "    print(a/b)\n",
    "else:\n",
    "    print(\"Please Enter Valid Operation\")\n"
   ]
  },
  {
   "cell_type": "code",
   "execution_count": 21,
   "id": "4955bc8c",
   "metadata": {},
   "outputs": [
    {
     "name": "stdout",
     "output_type": "stream",
     "text": [
      "[0, 1, 2, 3, 4, 5]\n",
      "6\n",
      "4\n"
     ]
    }
   ],
   "source": [
    "l=[]\n",
    "for i in range(6):\n",
    "    if type(i)==int:\n",
    "        l.append(i)\n",
    "print(l)\n",
    "print(len(l))\n",
    "print(l[4])\n"
   ]
  },
  {
   "cell_type": "code",
   "execution_count": 17,
   "id": "cc3369f8",
   "metadata": {},
   "outputs": [
    {
     "name": "stdout",
     "output_type": "stream",
     "text": [
      "10\n",
      "15\n",
      "15\n"
     ]
    }
   ],
   "source": [
    "a=int(input())\n",
    "b=int(input())\n",
    "if a>b :\n",
    "    print(a)\n",
    "else:\n",
    "    print(b)"
   ]
  },
  {
   "cell_type": "code",
   "execution_count": 45,
   "id": "19285f05",
   "metadata": {},
   "outputs": [
    {
     "name": "stdout",
     "output_type": "stream",
     "text": [
      "W,o,r,l,d\n"
     ]
    }
   ],
   "source": [
    "#s=\"Hello \"\n",
    "s1=\"World\"\n",
    "s2=','.join(s1)\n",
    "print(s2)"
   ]
  },
  {
   "cell_type": "code",
   "execution_count": 47,
   "id": "ba7a8bd6",
   "metadata": {},
   "outputs": [
    {
     "name": "stdout",
     "output_type": "stream",
     "text": [
      "Hello\n",
      "Reversed String: olleH\n"
     ]
    }
   ],
   "source": [
    "s=input(str())\n",
    "print(\"Reversed String:\",s[::-1])\n"
   ]
  },
  {
   "cell_type": "code",
   "execution_count": 32,
   "id": "e4711631",
   "metadata": {},
   "outputs": [
    {
     "name": "stdout",
     "output_type": "stream",
     "text": [
      "Hello123\n",
      "Hello\n",
      "123\n"
     ]
    }
   ],
   "source": [
    "l1=\"\"\n",
    "d=\"\"\n",
    "s=input(str())\n",
    "\n",
    "for i in s:\n",
    "    if (i>='a' and i<='z') or (i>='A' and i<='Z'):\n",
    "        l1+=i\n",
    "    else:\n",
    "        d+=i\n",
    "print(l1)\n",
    "print(d)"
   ]
  },
  {
   "cell_type": "code",
   "execution_count": null,
   "id": "d889cc11",
   "metadata": {},
   "outputs": [],
   "source": []
  }
 ],
 "metadata": {
  "kernelspec": {
   "display_name": "Python 3 (ipykernel)",
   "language": "python",
   "name": "python3"
  },
  "language_info": {
   "codemirror_mode": {
    "name": "ipython",
    "version": 3
   },
   "file_extension": ".py",
   "mimetype": "text/x-python",
   "name": "python",
   "nbconvert_exporter": "python",
   "pygments_lexer": "ipython3",
   "version": "3.10.9"
  }
 },
 "nbformat": 4,
 "nbformat_minor": 5
}
