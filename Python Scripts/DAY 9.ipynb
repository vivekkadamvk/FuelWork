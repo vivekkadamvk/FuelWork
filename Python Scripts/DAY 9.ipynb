{
 "cells": [
  {
   "cell_type": "markdown",
   "id": "483627b3",
   "metadata": {},
   "source": [
    "## Flow Control Statement"
   ]
  },
  {
   "cell_type": "markdown",
   "id": "b112e696",
   "metadata": {},
   "source": [
    "### Selection Statement"
   ]
  },
  {
   "cell_type": "code",
   "execution_count": 1,
   "id": "3caf01ef",
   "metadata": {},
   "outputs": [
    {
     "name": "stdout",
     "output_type": "stream",
     "text": [
      "Enter your name: Vivek\n",
      "Hello Vivek\n",
      "How are You?\n"
     ]
    }
   ],
   "source": [
    "name=input(\"Enter your name: \")\n",
    "if name==\"Vivek\":\n",
    "    print(\"Hello Vivek\")\n",
    "print(\"How are You?\")"
   ]
  },
  {
   "cell_type": "code",
   "execution_count": 2,
   "id": "cb33020a",
   "metadata": {},
   "outputs": [
    {
     "name": "stdout",
     "output_type": "stream",
     "text": [
      "Enter your name: Abhi\n",
      "Hello Guest\n",
      "How are You?\n"
     ]
    }
   ],
   "source": [
    "name=input(\"Enter your name: \")\n",
    "if name==\"Vivek\":\n",
    "    print(\"Hello Vivek\")\n",
    "else:\n",
    "    print(\"Hello Guest\")\n",
    "print(\"How are You?\")"
   ]
  },
  {
   "cell_type": "code",
   "execution_count": 3,
   "id": "20a96f87",
   "metadata": {},
   "outputs": [
    {
     "name": "stdout",
     "output_type": "stream",
     "text": [
      "Enter your car name: Tesla\n",
      "Tesla Car\n",
      "You are so beautiful\n"
     ]
    }
   ],
   "source": [
    "name=input(\"Enter your car name: \")\n",
    "if name==\"Tesla\":\n",
    "    print(\"Tesla Car\")\n",
    "else:\n",
    "    print(\"Other Car\")\n",
    "print(\"You are so beautiful\")"
   ]
  },
  {
   "cell_type": "code",
   "execution_count": 4,
   "id": "70597dfd",
   "metadata": {},
   "outputs": [
    {
     "name": "stdout",
     "output_type": "stream",
     "text": [
      "1\n",
      "5\n",
      "4\n",
      "Minimum 1\n",
      "Maximum 5\n"
     ]
    }
   ],
   "source": [
    "a=int(input())\n",
    "b=int(input())\n",
    "c=int(input())\n",
    "print(\"Minimum\",min(a,b,c))\n",
    "print(\"Maximum\",max(a,b,c))"
   ]
  },
  {
   "cell_type": "code",
   "execution_count": 5,
   "id": "748f8357",
   "metadata": {},
   "outputs": [
    {
     "name": "stdout",
     "output_type": "stream",
     "text": [
      "1\n",
      "5\n",
      "4\n",
      "Minimum:  1\n",
      "Maximum:  5\n"
     ]
    }
   ],
   "source": [
    "a=int(input())\n",
    "b=int(input())\n",
    "c=int(input())\n",
    "if b>c and a>c:\n",
    "    print(\"Minimum: \",c)\n",
    "elif a>b and c>b:\n",
    "    print(\"Minimum: \",b)\n",
    "else:\n",
    "    print(\"Minimum: \",a)\n",
    "\n",
    "if b>c and b>a:\n",
    "    print(\"Maximum: \",b)\n",
    "elif a>b and a>c:\n",
    "    print(\"Maximum: \",a)\n",
    "else:\n",
    "    print(\"Maximum: \",c)"
   ]
  },
  {
   "cell_type": "markdown",
   "id": "73fd240f",
   "metadata": {},
   "source": [
    "### Iterative Statement"
   ]
  },
  {
   "cell_type": "code",
   "execution_count": 6,
   "id": "785c65ae",
   "metadata": {},
   "outputs": [
    {
     "name": "stdout",
     "output_type": "stream",
     "text": [
      "Character present at 0 index:L\n",
      "Character present at 1 index:I\n",
      "Character present at 2 index:O\n",
      "Character present at 3 index:N\n"
     ]
    }
   ],
   "source": [
    "S=\"LION\"\n",
    "for x in S:\n",
    "    print(\"Character present at {} index:{}\".format(S.index(x),x))"
   ]
  },
  {
   "cell_type": "code",
   "execution_count": 7,
   "id": "a6d45376",
   "metadata": {},
   "outputs": [
    {
     "name": "stdout",
     "output_type": "stream",
     "text": [
      "Hello\n",
      "Hello\n",
      "Hello\n",
      "Hello\n",
      "Hello\n",
      "Hello\n",
      "Hello\n",
      "Hello\n",
      "Hello\n",
      "Hello\n"
     ]
    }
   ],
   "source": [
    "for i in range(10):\n",
    "    print(\"Hello\")"
   ]
  },
  {
   "cell_type": "code",
   "execution_count": 8,
   "id": "d9637fb9",
   "metadata": {},
   "outputs": [
    {
     "name": "stdout",
     "output_type": "stream",
     "text": [
      "2\n",
      "4\n",
      "6\n",
      "8\n",
      "10\n",
      "12\n",
      "14\n",
      "16\n",
      "18\n",
      "20\n"
     ]
    }
   ],
   "source": [
    "for i in range(1,21):\n",
    "    if i%2==0:\n",
    "        print(i)"
   ]
  },
  {
   "cell_type": "code",
   "execution_count": 9,
   "id": "7e2990a4",
   "metadata": {},
   "outputs": [
    {
     "name": "stdout",
     "output_type": "stream",
     "text": [
      "2\n",
      "4\n",
      "6\n",
      "8\n",
      "10\n",
      "12\n",
      "14\n",
      "16\n",
      "18\n",
      "20\n"
     ]
    }
   ],
   "source": [
    "for i in range(2,21,2):\n",
    "    print(i)"
   ]
  },
  {
   "cell_type": "code",
   "execution_count": 10,
   "id": "202959ed",
   "metadata": {},
   "outputs": [
    {
     "name": "stdout",
     "output_type": "stream",
     "text": [
      "1\n",
      "3\n",
      "5\n",
      "7\n",
      "9\n",
      "11\n",
      "13\n",
      "15\n",
      "17\n",
      "19\n"
     ]
    }
   ],
   "source": [
    "for i in range(1,21,2):\n",
    "    print(i)"
   ]
  },
  {
   "cell_type": "code",
   "execution_count": 11,
   "id": "dd87cedb",
   "metadata": {},
   "outputs": [
    {
     "name": "stdout",
     "output_type": "stream",
     "text": [
      "10\n",
      "9\n",
      "8\n",
      "7\n",
      "6\n",
      "5\n",
      "4\n",
      "3\n",
      "2\n",
      "1\n"
     ]
    }
   ],
   "source": [
    "\n",
    "for i in range(10,0,-1):\n",
    "    print(i)"
   ]
  },
  {
   "cell_type": "code",
   "execution_count": 12,
   "id": "aeab6de8",
   "metadata": {},
   "outputs": [
    {
     "name": "stdout",
     "output_type": "stream",
     "text": [
      "Sum:  6\n"
     ]
    }
   ],
   "source": [
    "l=[1,2,3]\n",
    "s=0\n",
    "\n",
    "\n",
    "\n",
    "\n",
    "for i in l:\n",
    "    s+=i\n",
    "print(\"Sum: \",s)"
   ]
  },
  {
   "cell_type": "code",
   "execution_count": 14,
   "id": "c227b0d9",
   "metadata": {},
   "outputs": [
    {
     "name": "stdout",
     "output_type": "stream",
     "text": [
      "Hello\n",
      "Hello\n",
      "Hello\n",
      "Hello\n",
      "Hello\n",
      "Hello\n",
      "Hello\n",
      "Hello\n",
      "Hello\n",
      "Hello\n"
     ]
    }
   ],
   "source": [
    "i=0\n",
    "while(i<10):\n",
    "    print(\"Hello\")\n",
    "    i+=1"
   ]
  },
  {
   "cell_type": "code",
   "execution_count": 19,
   "id": "bc187ea2",
   "metadata": {},
   "outputs": [
    {
     "name": "stdout",
     "output_type": "stream",
     "text": [
      "3\n",
      "6\n",
      "9\n",
      "12\n",
      "15\n",
      "18\n"
     ]
    }
   ],
   "source": [
    " i=3\n",
    "while(i<20):\n",
    "    print(i)\n",
    "    i+=3"
   ]
  },
  {
   "cell_type": "code",
   "execution_count": 20,
   "id": "071924e3",
   "metadata": {},
   "outputs": [
    {
     "name": "stdout",
     "output_type": "stream",
     "text": [
      "Enter Name:hello\n",
      "Enter Name:sunny\n",
      "Thanks\n"
     ]
    }
   ],
   "source": [
    "name=''\n",
    "while name!='sunny':\n",
    "    name=input('Enter Name:')\n",
    "print('Thanks')"
   ]
  },
  {
   "cell_type": "code",
   "execution_count": 21,
   "id": "12548975",
   "metadata": {},
   "outputs": [
    {
     "name": "stdout",
     "output_type": "stream",
     "text": [
      "Hello\n",
      "Hello\n",
      "Hello\n",
      "Hello\n",
      "Hello\n",
      "Hello\n"
     ]
    }
   ],
   "source": [
    "for i in range(3):\n",
    "    for i in range(2):\n",
    "        print(\"Hello\")"
   ]
  },
  {
   "cell_type": "code",
   "execution_count": 22,
   "id": "20efb071",
   "metadata": {},
   "outputs": [
    {
     "name": "stdout",
     "output_type": "stream",
     "text": [
      "0\n",
      "1\n",
      "2\n",
      "3\n",
      "4\n",
      "5\n",
      "6\n",
      "loop breaked\n"
     ]
    }
   ],
   "source": [
    "for i in range(10):\n",
    "    if i==7:\n",
    "        print(\"loop breaked\")\n",
    "        break\n",
    "    print(i)"
   ]
  },
  {
   "cell_type": "code",
   "execution_count": 29,
   "id": "bbd16b74",
   "metadata": {},
   "outputs": [
    {
     "name": "stdout",
     "output_type": "stream",
     "text": [
      "100\n",
      "200\n",
      "650 Insurance required\n"
     ]
    }
   ],
   "source": [
    "cart=[100,200,650,60,30,800]\n",
    "for i in cart:\n",
    "    if i>500:\n",
    "        print(i,\"Insurance required\")\n",
    "        break\n",
    "    print(i)"
   ]
  },
  {
   "cell_type": "code",
   "execution_count": 25,
   "id": "81d36d0d",
   "metadata": {},
   "outputs": [
    {
     "name": "stdout",
     "output_type": "stream",
     "text": [
      "0\n",
      "1\n",
      "2\n",
      "3\n",
      "4\n",
      "5\n",
      "6\n",
      "loop skipped\n",
      "8\n",
      "9\n"
     ]
    }
   ],
   "source": [
    "for i in range(10):\n",
    "    if i==7:\n",
    "        print(\"loop skipped\")\n",
    "        continue\n",
    "    print(i)"
   ]
  },
  {
   "cell_type": "code",
   "execution_count": 28,
   "id": "49ff2d7f",
   "metadata": {},
   "outputs": [
    {
     "name": "stdout",
     "output_type": "stream",
     "text": [
      "100\n",
      "200\n",
      "650 Insurance required\n",
      "60\n",
      "30\n",
      "800 Insurance required\n"
     ]
    }
   ],
   "source": [
    "cart=[100,200,650,60,30,800]\n",
    "for i in cart:\n",
    "    if i>500:\n",
    "        print(i,\"Insurance required\")\n",
    "        continue\n",
    "    print(i)"
   ]
  },
  {
   "cell_type": "code",
   "execution_count": 30,
   "id": "ad99cb4c",
   "metadata": {},
   "outputs": [],
   "source": [
    "for i in range(10):\n",
    "    if i%2==0:\n",
    "        break\n",
    "    print(i)"
   ]
  },
  {
   "cell_type": "code",
   "execution_count": 32,
   "id": "88c50128",
   "metadata": {},
   "outputs": [
    {
     "name": "stdout",
     "output_type": "stream",
     "text": [
      "1\n",
      "3\n",
      "5\n",
      "7\n",
      "9\n"
     ]
    }
   ],
   "source": [
    "for i in range(10):\n",
    "    if i%2==0:\n",
    "        continue\n",
    "    print(i)"
   ]
  },
  {
   "cell_type": "code",
   "execution_count": 34,
   "id": "970187e1",
   "metadata": {},
   "outputs": [
    {
     "name": "stdout",
     "output_type": "stream",
     "text": [
      "1 0\n",
      "2 0\n",
      "2 1\n"
     ]
    }
   ],
   "source": [
    "for i in range(3):\n",
    "    for j in range(3):\n",
    "        if(i==j):\n",
    "            break\n",
    "        print(i,j)"
   ]
  },
  {
   "cell_type": "code",
   "execution_count": 35,
   "id": "73f51718",
   "metadata": {},
   "outputs": [
    {
     "name": "stdout",
     "output_type": "stream",
     "text": [
      "0 1\n",
      "0 2\n",
      "1 0\n",
      "1 2\n",
      "2 0\n",
      "2 1\n"
     ]
    }
   ],
   "source": [
    "for i in range(3):\n",
    "    for j in range(3):\n",
    "        if(i==j):\n",
    "            continue\n",
    "        print(i,j)"
   ]
  },
  {
   "cell_type": "markdown",
   "id": "af3a1aec",
   "metadata": {},
   "source": [
    "### int(): returns an integer number\n",
    "### float(): returns an float value\n",
    "### input(): allow user input\n",
    "### len(): Returns the length of an object\n",
    "### range(): Returns a sequence of numbers, starting from 0 and increments by 1 (by default)\n",
    "### sorted(): Returns a sorted list\n",
    "### memoryview(): Returns a memory view object\n",
    "### tuple(): Returns a tuple\n",
    "### str(): Returns a string object\n",
    "### type(): Returns the type of an object"
   ]
  },
  {
   "cell_type": "code",
   "execution_count": 36,
   "id": "453a8e35",
   "metadata": {},
   "outputs": [
    {
     "data": {
      "text/plain": [
       "15"
      ]
     },
     "execution_count": 36,
     "metadata": {},
     "output_type": "execute_result"
    }
   ],
   "source": [
    "x=15.25\n",
    "y=int(x)\n",
    "y"
   ]
  },
  {
   "cell_type": "code",
   "execution_count": 37,
   "id": "be00b0fa",
   "metadata": {},
   "outputs": [
    {
     "data": {
      "text/plain": [
       "15.0"
      ]
     },
     "execution_count": 37,
     "metadata": {},
     "output_type": "execute_result"
    }
   ],
   "source": [
    "x=15\n",
    "y=float(x)\n",
    "y"
   ]
  },
  {
   "cell_type": "code",
   "execution_count": 38,
   "id": "a44bcbde",
   "metadata": {},
   "outputs": [
    {
     "name": "stdout",
     "output_type": "stream",
     "text": [
      "Type Here:Hello\n"
     ]
    },
    {
     "data": {
      "text/plain": [
       "'Hello'"
      ]
     },
     "execution_count": 38,
     "metadata": {},
     "output_type": "execute_result"
    }
   ],
   "source": [
    "x=input(\"Type Here:\")\n",
    "x"
   ]
  },
  {
   "cell_type": "code",
   "execution_count": 39,
   "id": "6e6af15c",
   "metadata": {},
   "outputs": [
    {
     "data": {
      "text/plain": [
       "3"
      ]
     },
     "execution_count": 39,
     "metadata": {},
     "output_type": "execute_result"
    }
   ],
   "source": [
    "l=[1,5,4]\n",
    "len(l)"
   ]
  },
  {
   "cell_type": "code",
   "execution_count": 40,
   "id": "36f9dee2",
   "metadata": {},
   "outputs": [
    {
     "name": "stdout",
     "output_type": "stream",
     "text": [
      "0\n",
      "1\n",
      "2\n",
      "3\n"
     ]
    }
   ],
   "source": [
    "for i in range(4):\n",
    "    print(i)"
   ]
  },
  {
   "cell_type": "code",
   "execution_count": 47,
   "id": "d46571a6",
   "metadata": {},
   "outputs": [
    {
     "data": {
      "text/plain": [
       "[1, 2, 4, 5, 6, 7, 8]"
      ]
     },
     "execution_count": 47,
     "metadata": {},
     "output_type": "execute_result"
    }
   ],
   "source": [
    "l=[5,4,6,8,2,7,1]\n",
    "sorted(l)    "
   ]
  },
  {
   "cell_type": "code",
   "execution_count": 46,
   "id": "48e67f29",
   "metadata": {},
   "outputs": [
    {
     "data": {
      "text/plain": [
       "<memory at 0x000001E8D381AA40>"
      ]
     },
     "execution_count": 46,
     "metadata": {},
     "output_type": "execute_result"
    }
   ],
   "source": [
    "import numpy as np\n",
    "arr = np.array([1, 2, 3, 4, 5, 6])\n",
    "memoryview(arr)"
   ]
  },
  {
   "cell_type": "code",
   "execution_count": 48,
   "id": "04205159",
   "metadata": {},
   "outputs": [
    {
     "data": {
      "text/plain": [
       "(5, 4, 6, 8, 2, 7, 1)"
      ]
     },
     "execution_count": 48,
     "metadata": {},
     "output_type": "execute_result"
    }
   ],
   "source": [
    "tuple(l)"
   ]
  },
  {
   "cell_type": "code",
   "execution_count": 49,
   "id": "b3c5451e",
   "metadata": {},
   "outputs": [
    {
     "data": {
      "text/plain": [
       "'[5, 4, 6, 8, 2, 7, 1]'"
      ]
     },
     "execution_count": 49,
     "metadata": {},
     "output_type": "execute_result"
    }
   ],
   "source": [
    "str(l)"
   ]
  },
  {
   "cell_type": "code",
   "execution_count": 50,
   "id": "13e78eac",
   "metadata": {},
   "outputs": [
    {
     "data": {
      "text/plain": [
       "list"
      ]
     },
     "execution_count": 50,
     "metadata": {},
     "output_type": "execute_result"
    }
   ],
   "source": [
    "type(l)"
   ]
  },
  {
   "cell_type": "code",
   "execution_count": null,
   "id": "fffe5717",
   "metadata": {},
   "outputs": [],
   "source": []
  }
 ],
 "metadata": {
  "kernelspec": {
   "display_name": "Python 3 (ipykernel)",
   "language": "python",
   "name": "python3"
  },
  "language_info": {
   "codemirror_mode": {
    "name": "ipython",
    "version": 3
   },
   "file_extension": ".py",
   "mimetype": "text/x-python",
   "name": "python",
   "nbconvert_exporter": "python",
   "pygments_lexer": "ipython3",
   "version": "3.10.9"
  }
 },
 "nbformat": 4,
 "nbformat_minor": 5
}
