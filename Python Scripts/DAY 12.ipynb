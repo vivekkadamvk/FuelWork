{
 "cells": [
  {
   "cell_type": "code",
   "execution_count": 2,
   "id": "a2e02d39",
   "metadata": {},
   "outputs": [
    {
     "name": "stdout",
     "output_type": "stream",
     "text": [
      "Collecting pymysql\n",
      "  Downloading PyMySQL-1.1.0-py3-none-any.whl (44 kB)\n",
      "     ---------------------------------------- 44.8/44.8 kB 1.1 MB/s eta 0:00:00\n",
      "Installing collected packages: pymysql\n",
      "Successfully installed pymysql-1.1.0\n",
      "Note: you may need to restart the kernel to use updated packages.\n"
     ]
    }
   ],
   "source": [
    "pip install pymysql\n"
   ]
  },
  {
   "cell_type": "code",
   "execution_count": 3,
   "id": "ec7795ec",
   "metadata": {},
   "outputs": [],
   "source": [
    "import pymysql"
   ]
  },
  {
   "cell_type": "code",
   "execution_count": 4,
   "id": "3c8e41f3",
   "metadata": {},
   "outputs": [
    {
     "name": "stdout",
     "output_type": "stream",
     "text": [
      "Collecting mysql-connector-python\n",
      "  Downloading mysql_connector_python-8.3.0-cp310-cp310-win_amd64.whl (15.4 MB)\n",
      "     ---------------------------------------- 15.4/15.4 MB 9.2 MB/s eta 0:00:00\n",
      "Installing collected packages: mysql-connector-python\n",
      "Successfully installed mysql-connector-python-8.3.0\n",
      "Note: you may need to restart the kernel to use updated packages.\n"
     ]
    }
   ],
   "source": [
    "pip install mysql-connector-python"
   ]
  },
  {
   "cell_type": "code",
   "execution_count": 29,
   "id": "26cfcdb0",
   "metadata": {},
   "outputs": [
    {
     "name": "stdout",
     "output_type": "stream",
     "text": [
      "<mysql.connector.connection_cext.CMySQLConnection object at 0x00000206357905E0>\n"
     ]
    }
   ],
   "source": [
    " \n",
    "import mysql.connector\n",
    " \n",
    "mydb = mysql.connector.connect(\n",
    "    host = \"localhost\",\n",
    "    user = \"Vivek\",\n",
    "    password = \"student\"\n",
    ")\n",
    "print(mydb)"
   ]
  },
  {
   "cell_type": "code",
   "execution_count": 17,
   "id": "c4b46c13",
   "metadata": {},
   "outputs": [
    {
     "name": "stdout",
     "output_type": "stream",
     "text": [
      "('information_schema',)\n",
      "('mysql',)\n",
      "('performance_schema',)\n",
      "('sakila',)\n",
      "('sys',)\n",
      "('vk',)\n",
      "('world',)\n"
     ]
    }
   ],
   "source": [
    " \n",
    "import mysql.connector\n",
    " \n",
    "mydb = mysql.connector.connect(\n",
    "    host = \"localhost\",\n",
    "    user = \"Vivek\",\n",
    "    password = \"student\"\n",
    ")\n",
    " \n",
    "# Creating an instance of 'cursor' class \n",
    "# which is used to execute the 'SQL' \n",
    "# statements in 'Python'\n",
    "cursor = mydb.cursor()\n",
    " \n",
    "cursor.execute(\"SHOW DATABASES\")\n",
    " \n",
    "for x in cursor:\n",
    "  print(x)"
   ]
  },
  {
   "cell_type": "code",
   "execution_count": 28,
   "id": "9bda4b7d",
   "metadata": {},
   "outputs": [
    {
     "name": "stdout",
     "output_type": "stream",
     "text": [
      "('Vivek',)\n",
      "\n",
      "\n",
      "('Abhi',)\n",
      "\n",
      "\n",
      "('Prasanna',)\n",
      "\n",
      "\n",
      "('Adesh',)\n",
      "\n",
      "\n",
      "('Suyog',)\n",
      "\n",
      "\n",
      "('Siddharth',)\n",
      "\n",
      "\n",
      "('Saurabh',)\n",
      "\n",
      "\n"
     ]
    }
   ],
   "source": [
    " \n",
    "import mysql.connector\n",
    " \n",
    "mydb = mysql.connector.connect(\n",
    "    host = \"localhost\",\n",
    "    user = \"Vivek\",\n",
    "    password = \"student\"\n",
    ")\n",
    " \n",
    "# Creating an instance of 'cursor' class \n",
    "# which is used to execute the 'SQL' \n",
    "# statements in 'Python'\n",
    "cursor = mydb.cursor()\n",
    " \n",
    "cursor.execute(\"USE vk\")\n",
    "cursor.execute(\"select * from vk;\")\n",
    "result = cursor.fetchall() \n",
    "for row in result: \n",
    "    print(row) \n",
    "    print(\"\\n\") "
   ]
  },
  {
   "cell_type": "code",
   "execution_count": 34,
   "id": "bdb731ab",
   "metadata": {},
   "outputs": [
    {
     "name": "stdout",
     "output_type": "stream",
     "text": [
      "1 record(s) inserted.\n"
     ]
    }
   ],
   "source": [
    " \n",
    "import mysql.connector\n",
    " \n",
    "mydb = mysql.connector.connect(\n",
    "    host = \"localhost\",\n",
    "    user = \"Vivek\",\n",
    "    password = \"student\"\n",
    ")\n",
    " \n",
    "# Creating an instance of 'cursor' class \n",
    "# which is used to execute the 'SQL' \n",
    "# statements in 'Python'\n",
    "cursor = mydb.cursor()\n",
    "\n",
    "\n",
    "query = 'INSERT INTO vk (name) VALUES (\"Aditya\")'\n",
    "\n",
    "\n",
    "cursor.execute(\"USE vk\")\n",
    "cursor.execute(query)\n",
    "\n",
    "# we commit(save) the records to the table\n",
    "mydb.commit()\n",
    "\n",
    "print(cursor.rowcount, \"record(s) inserted.\")"
   ]
  },
  {
   "cell_type": "code",
   "execution_count": 35,
   "id": "5df812f4",
   "metadata": {},
   "outputs": [
    {
     "name": "stdout",
     "output_type": "stream",
     "text": [
      "('Vivek',)\n",
      "\n",
      "\n",
      "('Abhi',)\n",
      "\n",
      "\n",
      "('Prasanna',)\n",
      "\n",
      "\n",
      "('Adesh',)\n",
      "\n",
      "\n",
      "('Suyog',)\n",
      "\n",
      "\n",
      "('Siddharth',)\n",
      "\n",
      "\n",
      "('Saurabh',)\n",
      "\n",
      "\n",
      "('Aditya',)\n",
      "\n",
      "\n"
     ]
    }
   ],
   "source": [
    "cursor.execute(\"select * from vk;\")\n",
    "result = cursor.fetchall() \n",
    "for row in result: \n",
    "    print(row) \n",
    "    print(\"\\n\") "
   ]
  },
  {
   "cell_type": "code",
   "execution_count": null,
   "id": "2c0341b3",
   "metadata": {},
   "outputs": [],
   "source": []
  }
 ],
 "metadata": {
  "kernelspec": {
   "display_name": "Python 3 (ipykernel)",
   "language": "python",
   "name": "python3"
  },
  "language_info": {
   "codemirror_mode": {
    "name": "ipython",
    "version": 3
   },
   "file_extension": ".py",
   "mimetype": "text/x-python",
   "name": "python",
   "nbconvert_exporter": "python",
   "pygments_lexer": "ipython3",
   "version": "3.10.9"
  }
 },
 "nbformat": 4,
 "nbformat_minor": 5
}
