{
 "cells": [
  {
   "cell_type": "code",
   "execution_count": 9,
   "id": "fb4cf4ff",
   "metadata": {},
   "outputs": [
    {
     "name": "stdout",
     "output_type": "stream",
     "text": [
      "9\n"
     ]
    }
   ],
   "source": [
    "import random\n",
    "x=random.randint(1,10)\n",
    "print(x)"
   ]
  },
  {
   "cell_type": "code",
   "execution_count": 28,
   "id": "0ba229db",
   "metadata": {},
   "outputs": [
    {
     "data": {
      "text/plain": [
       "array([7, 7, 5, 7, 5, 3, 5, 5, 7, 5, 7, 9, 7, 5, 5, 9, 5, 9, 3, 5, 5, 3,\n",
       "       7, 7, 7, 3, 7, 5, 5, 5, 5, 7, 7, 5, 7, 9, 9, 5, 9, 5, 5, 5, 3, 7,\n",
       "       5, 5, 5, 7, 9, 7, 5, 7, 7, 5, 3, 5, 3, 7, 3, 3, 5, 9, 7, 3, 9, 9,\n",
       "       3, 5, 9, 5, 9, 5, 7, 9, 5, 7, 3, 7, 9, 3, 9, 7, 7, 3, 3, 7, 5, 5,\n",
       "       7, 9, 5, 9, 7, 3, 5, 5, 3, 5, 5, 9])"
      ]
     },
     "execution_count": 28,
     "metadata": {},
     "output_type": "execute_result"
    }
   ],
   "source": [
    "from numpy import random\n",
    "x=random.choice([3,5,7,9],p=[0.1,0.4,0.3,0.2],size=(100))\n",
    "x"
   ]
  },
  {
   "cell_type": "code",
   "execution_count": 29,
   "id": "3eefa416",
   "metadata": {},
   "outputs": [
    {
     "name": "stdout",
     "output_type": "stream",
     "text": [
      "[3 5 4 1 2]\n"
     ]
    }
   ],
   "source": [
    "from numpy import random\n",
    "import numpy as np\n",
    "\n",
    "arr = np.array([1, 2, 3, 4, 5])\n",
    "\n",
    "random.shuffle(arr)\n",
    "\n",
    "print(arr)"
   ]
  },
  {
   "cell_type": "code",
   "execution_count": 30,
   "id": "584aaf15",
   "metadata": {},
   "outputs": [
    {
     "name": "stdout",
     "output_type": "stream",
     "text": [
      "[3 4 1 5 2]\n"
     ]
    }
   ],
   "source": [
    " from numpy import random\n",
    "import numpy as np\n",
    "\n",
    "arr = np.array([1, 2, 3, 4, 5])\n",
    "\n",
    "print(random.permutation(arr))"
   ]
  },
  {
   "cell_type": "code",
   "execution_count": 31,
   "id": "8a4e1b5a",
   "metadata": {},
   "outputs": [
    {
     "name": "stdout",
     "output_type": "stream",
     "text": [
      "[5, 7, 9, 11]\n"
     ]
    }
   ],
   "source": [
    "x = [1, 2, 3, 4]\n",
    "y = [4, 5, 6, 7]\n",
    "z = []\n",
    "\n",
    "for i, j in zip(x, y):\n",
    "  z.append(i + j)\n",
    "print(z)"
   ]
  },
  {
   "cell_type": "code",
   "execution_count": 41,
   "id": "31c77e74",
   "metadata": {},
   "outputs": [
    {
     "name": "stdout",
     "output_type": "stream",
     "text": [
      "[5 7 9 11]\n"
     ]
    }
   ],
   "source": [
    "import numpy as np\n",
    "def ad(a,b):\n",
    "    return a+b\n",
    "\n",
    "x = [1, 2, 3, 4]\n",
    "y = [4, 5, 6, 7]\n",
    "ad = np.frompyfunc(ad,2, 1)\n",
    "\n",
    "print(ad(x,y))"
   ]
  },
  {
   "cell_type": "code",
   "execution_count": null,
   "id": "9b510112",
   "metadata": {},
   "outputs": [],
   "source": []
  }
 ],
 "metadata": {
  "kernelspec": {
   "display_name": "Python 3 (ipykernel)",
   "language": "python",
   "name": "python3"
  },
  "language_info": {
   "codemirror_mode": {
    "name": "ipython",
    "version": 3
   },
   "file_extension": ".py",
   "mimetype": "text/x-python",
   "name": "python",
   "nbconvert_exporter": "python",
   "pygments_lexer": "ipython3",
   "version": "3.10.9"
  }
 },
 "nbformat": 4,
 "nbformat_minor": 5
}
