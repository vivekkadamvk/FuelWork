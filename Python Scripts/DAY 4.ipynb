{
 "cells": [
  {
   "cell_type": "markdown",
   "id": "9bedc4b0",
   "metadata": {},
   "source": [
    "# Python Pretest"
   ]
  },
  {
   "cell_type": "markdown",
   "id": "3afc4e7e",
   "metadata": {},
   "source": [
    "1) Python is a Interpreted, Dynamic and Objectect Oriented Programming Language\n",
    "Interpreter converts the high level language code into low level language code line by line.\n",
    "Dynamic Typed language is a language  in which user need not to mention the data type of variables"
   ]
  },
  {
   "cell_type": "markdown",
   "id": "d14a46e3",
   "metadata": {},
   "source": [
    "2) Identifier is an name of any function, variable or method while variable is an entity which is used to store some kind of data"
   ]
  },
  {
   "cell_type": "markdown",
   "id": "067f1c7a",
   "metadata": {},
   "source": [
    "3) Indexing is used to access the data according to their position from advanced data types like list, tuple.\n",
    "Slicing is used to access the specific range of elements"
   ]
  },
  {
   "cell_type": "markdown",
   "id": "1b9bf8c0",
   "metadata": {},
   "source": [
    "4) list and tuple are the advanced data types containing multiple values of different data types\n",
    "lists are mutable and tuples are immutable\n",
    "immutables cannot change their values once defined mutables can be changed"
   ]
  },
  {
   "cell_type": "markdown",
   "id": "2fb54e34",
   "metadata": {},
   "source": [
    "5) operators are used to perform any kind of operations on the operands\n",
    "their are relational, arithmetic, assignment, logical, comparison, bitwise,membership and identity operators. "
   ]
  },
  {
   "cell_type": "markdown",
   "id": "c5cadcd4",
   "metadata": {},
   "source": [
    "6) mean is the average value calculated by performing sum of values divide by number of values\n",
    " median is the middle value after performing sorting mode is the frequently occuring value in the given data"
   ]
  },
  {
   "cell_type": "markdown",
   "id": "6a0b32e2",
   "metadata": {},
   "source": [
    "7) key features of python\n",
    "object oriented, interpreted, dynamic, easy to use"
   ]
  },
  {
   "cell_type": "markdown",
   "id": "5d6bd949",
   "metadata": {},
   "source": [
    "8) data types\n",
    "int, float, char, string, boolean, list, tuple, set and dictionary"
   ]
  },
  {
   "cell_type": "markdown",
   "id": "07a99f8f",
   "metadata": {},
   "source": [
    "9) local variables are accessible within the function or within the local object\n",
    "global variables are accessible throughout the code"
   ]
  },
  {
   "cell_type": "markdown",
   "id": "5ae7423a",
   "metadata": {},
   "source": [
    "10) '#' is used to write an comment is python for single line\n",
    "'/* */' is used for multiline comment "
   ]
  },
  {
   "cell_type": "markdown",
   "id": "9df24049",
   "metadata": {},
   "source": [
    "11) '/* */' is used for multiline comment"
   ]
  },
  {
   "cell_type": "markdown",
   "id": "9bd87706",
   "metadata": {},
   "source": [
    "12) literals are a notation for representing a fixed value in source code."
   ]
  },
  {
   "cell_type": "markdown",
   "id": "c5f32fb0",
   "metadata": {},
   "source": [
    "13) we can assign values to variables using assignment operator as\n",
    "a=10, b=15"
   ]
  },
  {
   "cell_type": "markdown",
   "id": "549e93bd",
   "metadata": {},
   "source": [
    "14) list is advanced data type in python which is used to store multiple data values\n"
   ]
  },
  {
   "cell_type": "code",
   "execution_count": 19,
   "id": "2deaef2f",
   "metadata": {},
   "outputs": [],
   "source": [
    "list1=[1,2,3,4,5]"
   ]
  },
  {
   "cell_type": "code",
   "execution_count": 16,
   "id": "057ed726",
   "metadata": {},
   "outputs": [
    {
     "name": "stdout",
     "output_type": "stream",
     "text": [
      "3\n"
     ]
    }
   ],
   "source": [
    "print(list1[2])"
   ]
  },
  {
   "cell_type": "code",
   "execution_count": 17,
   "id": "cfa73d0c",
   "metadata": {},
   "outputs": [],
   "source": [
    "list1[3]=6"
   ]
  },
  {
   "cell_type": "code",
   "execution_count": 20,
   "id": "0f350364",
   "metadata": {},
   "outputs": [
    {
     "name": "stdout",
     "output_type": "stream",
     "text": [
      "4\n"
     ]
    }
   ],
   "source": [
    "print(list1[3])"
   ]
  },
  {
   "cell_type": "markdown",
   "id": "07f99a84",
   "metadata": {},
   "source": [
    "# Day 1"
   ]
  },
  {
   "cell_type": "markdown",
   "id": "9ea4114f",
   "metadata": {},
   "source": [
    "### Type Casting"
   ]
  },
  {
   "cell_type": "code",
   "execution_count": 1,
   "id": "dc2737c9",
   "metadata": {},
   "outputs": [],
   "source": [
    "a=10"
   ]
  },
  {
   "cell_type": "code",
   "execution_count": 2,
   "id": "e4b297b6",
   "metadata": {},
   "outputs": [],
   "source": [
    "b=bool(a)"
   ]
  },
  {
   "cell_type": "code",
   "execution_count": 3,
   "id": "5a7328e6",
   "metadata": {},
   "outputs": [
    {
     "name": "stdout",
     "output_type": "stream",
     "text": [
      "True\n"
     ]
    }
   ],
   "source": [
    "print(b)"
   ]
  },
  {
   "cell_type": "code",
   "execution_count": 4,
   "id": "a4b6ca2b",
   "metadata": {},
   "outputs": [],
   "source": [
    "c=0"
   ]
  },
  {
   "cell_type": "code",
   "execution_count": 5,
   "id": "bbc0d7db",
   "metadata": {},
   "outputs": [
    {
     "name": "stdout",
     "output_type": "stream",
     "text": [
      "False\n"
     ]
    }
   ],
   "source": [
    "print(bool(c))"
   ]
  },
  {
   "cell_type": "code",
   "execution_count": 16,
   "id": "1d8208ae",
   "metadata": {},
   "outputs": [],
   "source": [
    "d=10.5+0j"
   ]
  },
  {
   "cell_type": "code",
   "execution_count": 17,
   "id": "ead3fd36",
   "metadata": {},
   "outputs": [
    {
     "ename": "TypeError",
     "evalue": "float() argument must be a string or a real number, not 'complex'",
     "output_type": "error",
     "traceback": [
      "\u001b[1;31m---------------------------------------------------------------------------\u001b[0m",
      "\u001b[1;31mTypeError\u001b[0m                                 Traceback (most recent call last)",
      "Cell \u001b[1;32mIn[17], line 1\u001b[0m\n\u001b[1;32m----> 1\u001b[0m \u001b[38;5;28mprint\u001b[39m(\u001b[38;5;28;43mfloat\u001b[39;49m\u001b[43m(\u001b[49m\u001b[43md\u001b[49m\u001b[43m)\u001b[49m)\n",
      "\u001b[1;31mTypeError\u001b[0m: float() argument must be a string or a real number, not 'complex'"
     ]
    }
   ],
   "source": [
    "print(float(d))"
   ]
  },
  {
   "cell_type": "code",
   "execution_count": 21,
   "id": "e0ccba2a",
   "metadata": {},
   "outputs": [],
   "source": [
    "a=45.75"
   ]
  },
  {
   "cell_type": "code",
   "execution_count": 23,
   "id": "ec7ba70c",
   "metadata": {},
   "outputs": [
    {
     "name": "stdout",
     "output_type": "stream",
     "text": [
      "45\n"
     ]
    }
   ],
   "source": [
    "print(int(a))"
   ]
  },
  {
   "cell_type": "code",
   "execution_count": 25,
   "id": "73ce5ed0",
   "metadata": {},
   "outputs": [
    {
     "data": {
      "text/plain": [
       "float"
      ]
     },
     "execution_count": 25,
     "metadata": {},
     "output_type": "execute_result"
    }
   ],
   "source": [
    "type(a)"
   ]
  },
  {
   "cell_type": "code",
   "execution_count": 26,
   "id": "c4007d10",
   "metadata": {},
   "outputs": [],
   "source": [
    "a=\"Hello\""
   ]
  },
  {
   "cell_type": "code",
   "execution_count": 31,
   "id": "0a530de3",
   "metadata": {},
   "outputs": [
    {
     "ename": "ValueError",
     "evalue": "invalid literal for int() with base 10: 'Hello'",
     "output_type": "error",
     "traceback": [
      "\u001b[1;31m---------------------------------------------------------------------------\u001b[0m",
      "\u001b[1;31mValueError\u001b[0m                                Traceback (most recent call last)",
      "Cell \u001b[1;32mIn[31], line 1\u001b[0m\n\u001b[1;32m----> 1\u001b[0m \u001b[38;5;28mprint\u001b[39m(\u001b[38;5;28;43mint\u001b[39;49m\u001b[43m(\u001b[49m\u001b[43ma\u001b[49m\u001b[43m)\u001b[49m)\n",
      "\u001b[1;31mValueError\u001b[0m: invalid literal for int() with base 10: 'Hello'"
     ]
    }
   ],
   "source": [
    "print(int(a))"
   ]
  },
  {
   "cell_type": "markdown",
   "id": "2d70b434",
   "metadata": {},
   "source": [
    "### ASCII Value"
   ]
  },
  {
   "cell_type": "code",
   "execution_count": 40,
   "id": "6972fbbe",
   "metadata": {},
   "outputs": [
    {
     "name": "stdout",
     "output_type": "stream",
     "text": [
      "65\n"
     ]
    }
   ],
   "source": [
    "a='A'\n",
    "print(ord(a))"
   ]
  },
  {
   "cell_type": "code",
   "execution_count": 41,
   "id": "558e3c8e",
   "metadata": {},
   "outputs": [
    {
     "name": "stdout",
     "output_type": "stream",
     "text": [
      "<class 'str'>\n"
     ]
    }
   ],
   "source": [
    "print(type(a))"
   ]
  },
  {
   "cell_type": "code",
   "execution_count": 42,
   "id": "2955e3ee",
   "metadata": {},
   "outputs": [],
   "source": [
    "import numpy as np"
   ]
  },
  {
   "cell_type": "code",
   "execution_count": 50,
   "id": "15396402",
   "metadata": {},
   "outputs": [],
   "source": [
    "array=np.array([1,2,3,4,1.5,1.7,\"string\"]) #array is homogenous datatype\n",
    "# depends on the output data type"
   ]
  },
  {
   "cell_type": "code",
   "execution_count": 51,
   "id": "2e87e379",
   "metadata": {},
   "outputs": [
    {
     "data": {
      "text/plain": [
       "array(['1', '2', '3', '4', '1.5', '1.7', 'string'], dtype='<U32')"
      ]
     },
     "execution_count": 51,
     "metadata": {},
     "output_type": "execute_result"
    }
   ],
   "source": [
    "array"
   ]
  },
  {
   "cell_type": "markdown",
   "id": "8f34b455",
   "metadata": {},
   "source": [
    "1 List"
   ]
  },
  {
   "cell_type": "code",
   "execution_count": 52,
   "id": "d0f24485",
   "metadata": {},
   "outputs": [],
   "source": [
    "list1=[1,2,3,4,\"hii\",4.5] #list is heterogenous"
   ]
  },
  {
   "cell_type": "code",
   "execution_count": 53,
   "id": "d742e44a",
   "metadata": {},
   "outputs": [
    {
     "name": "stdout",
     "output_type": "stream",
     "text": [
      "[1, 2, 3, 4, 'hii', 4.5]\n"
     ]
    }
   ],
   "source": [
    "print(list1)"
   ]
  },
  {
   "cell_type": "code",
   "execution_count": 54,
   "id": "2918299f",
   "metadata": {},
   "outputs": [
    {
     "name": "stdout",
     "output_type": "stream",
     "text": [
      "4\n"
     ]
    }
   ],
   "source": [
    "#indexing\n",
    "print(list1[3])"
   ]
  },
  {
   "cell_type": "code",
   "execution_count": 55,
   "id": "1115481b",
   "metadata": {},
   "outputs": [
    {
     "name": "stdout",
     "output_type": "stream",
     "text": [
      "hii\n"
     ]
    }
   ],
   "source": [
    "print(list1[-2])"
   ]
  },
  {
   "cell_type": "code",
   "execution_count": 56,
   "id": "42fa6d18",
   "metadata": {},
   "outputs": [],
   "source": [
    "# Slicing used for accessing multiple elements"
   ]
  },
  {
   "cell_type": "code",
   "execution_count": 57,
   "id": "c26af456",
   "metadata": {},
   "outputs": [],
   "source": [
    "l=[1,2,3,4,5,6,7,8,9]"
   ]
  },
  {
   "cell_type": "code",
   "execution_count": 58,
   "id": "bc8e3d4b",
   "metadata": {},
   "outputs": [
    {
     "name": "stdout",
     "output_type": "stream",
     "text": [
      "[1, 2, 3, 4, 5]\n"
     ]
    }
   ],
   "source": [
    "print(l[0:5])"
   ]
  },
  {
   "cell_type": "code",
   "execution_count": 62,
   "id": "4ab32a99",
   "metadata": {},
   "outputs": [
    {
     "data": {
      "text/plain": [
       "[1, 2, 3, 4, 'hii', 4.5]"
      ]
     },
     "execution_count": 62,
     "metadata": {},
     "output_type": "execute_result"
    }
   ],
   "source": [
    "list1[0:]"
   ]
  },
  {
   "cell_type": "code",
   "execution_count": 68,
   "id": "a05e46b7",
   "metadata": {},
   "outputs": [
    {
     "data": {
      "text/plain": [
       "[2, 3, 4, 'hii', 4.5]"
      ]
     },
     "execution_count": 68,
     "metadata": {},
     "output_type": "execute_result"
    }
   ],
   "source": [
    "list1[-5:]"
   ]
  },
  {
   "cell_type": "code",
   "execution_count": 69,
   "id": "1cf20dcb",
   "metadata": {},
   "outputs": [
    {
     "data": {
      "text/plain": [
       "[4]"
      ]
     },
     "execution_count": 69,
     "metadata": {},
     "output_type": "execute_result"
    }
   ],
   "source": [
    "l[-6:-5]"
   ]
  },
  {
   "cell_type": "code",
   "execution_count": 70,
   "id": "6c53bdbf",
   "metadata": {},
   "outputs": [
    {
     "data": {
      "text/plain": [
       "[1, 3, 5, 7, 9]"
      ]
     },
     "execution_count": 70,
     "metadata": {},
     "output_type": "execute_result"
    }
   ],
   "source": [
    "l[::2]"
   ]
  },
  {
   "cell_type": "code",
   "execution_count": 71,
   "id": "cbc4a193",
   "metadata": {},
   "outputs": [
    {
     "data": {
      "text/plain": [
       "[1, 2, 3, 4, 5, 6, 7, 8, 9]"
      ]
     },
     "execution_count": 71,
     "metadata": {},
     "output_type": "execute_result"
    }
   ],
   "source": [
    "l[::1]"
   ]
  },
  {
   "cell_type": "code",
   "execution_count": 72,
   "id": "6b94cbb8",
   "metadata": {},
   "outputs": [
    {
     "data": {
      "text/plain": [
       "[9, 8, 7, 6, 5, 4, 3, 2, 1]"
      ]
     },
     "execution_count": 72,
     "metadata": {},
     "output_type": "execute_result"
    }
   ],
   "source": [
    "l[::-1]\n",
    "#reverse list using slicing without for loop or function"
   ]
  },
  {
   "cell_type": "code",
   "execution_count": 73,
   "id": "135e79ec",
   "metadata": {},
   "outputs": [
    {
     "data": {
      "text/plain": [
       "[9]"
      ]
     },
     "execution_count": 73,
     "metadata": {},
     "output_type": "execute_result"
    }
   ],
   "source": [
    "l[-1::]"
   ]
  },
  {
   "cell_type": "code",
   "execution_count": 74,
   "id": "4a1817ff",
   "metadata": {},
   "outputs": [
    {
     "data": {
      "text/plain": [
       "[1, 2, 3, 4, 5, 6, 7, 8, 9]"
      ]
     },
     "execution_count": 74,
     "metadata": {},
     "output_type": "execute_result"
    }
   ],
   "source": [
    "l[-9::1]"
   ]
  },
  {
   "cell_type": "code",
   "execution_count": 75,
   "id": "5a32db20",
   "metadata": {},
   "outputs": [
    {
     "data": {
      "text/plain": [
       "[9, 8, 7, 6, 5, 4, 3, 2, 1]"
      ]
     },
     "execution_count": 75,
     "metadata": {},
     "output_type": "execute_result"
    }
   ],
   "source": [
    "l[-1::-1]"
   ]
  },
  {
   "cell_type": "markdown",
   "id": "0d3e4bb8",
   "metadata": {},
   "source": [
    "# DAY 2"
   ]
  },
  {
   "cell_type": "markdown",
   "id": "a3f7a31a",
   "metadata": {},
   "source": [
    "### Append, Extend and Insert"
   ]
  },
  {
   "cell_type": "code",
   "execution_count": 63,
   "id": "358c8eb7",
   "metadata": {},
   "outputs": [],
   "source": [
    "l1=[1,2,3]\n",
    "l2=[4,5,6]"
   ]
  },
  {
   "cell_type": "code",
   "execution_count": 24,
   "id": "18e21986",
   "metadata": {},
   "outputs": [
    {
     "name": "stdout",
     "output_type": "stream",
     "text": [
      "[1, 2, 3, [4, 5, 6]]\n"
     ]
    }
   ],
   "source": [
    "l1.append(l2)\n",
    "print(l1)"
   ]
  },
  {
   "cell_type": "code",
   "execution_count": 64,
   "id": "b462d9de",
   "metadata": {},
   "outputs": [
    {
     "name": "stdout",
     "output_type": "stream",
     "text": [
      "[1, 2, 3, 4, 5, 6]\n"
     ]
    }
   ],
   "source": [
    "l1.extend(l2)\n",
    "print(l1)"
   ]
  },
  {
   "cell_type": "code",
   "execution_count": 6,
   "id": "a6a5503d",
   "metadata": {},
   "outputs": [
    {
     "name": "stdout",
     "output_type": "stream",
     "text": [
      "p\n",
      "y\n",
      "t\n",
      "h\n",
      "o\n",
      "n\n"
     ]
    }
   ],
   "source": [
    "for i in \"python\":\n",
    "    print(i)"
   ]
  },
  {
   "cell_type": "code",
   "execution_count": 34,
   "id": "1086745e",
   "metadata": {},
   "outputs": [],
   "source": [
    "odd=[]\n",
    "even=[]"
   ]
  },
  {
   "cell_type": "code",
   "execution_count": 35,
   "id": "f53ffc77",
   "metadata": {},
   "outputs": [],
   "source": [
    "for i in l1:\n",
    "    if i%2==0:\n",
    "        even.append(i)\n",
    "    else:\n",
    "        odd.append(i)"
   ]
  },
  {
   "cell_type": "code",
   "execution_count": 36,
   "id": "1a614636",
   "metadata": {},
   "outputs": [
    {
     "name": "stdout",
     "output_type": "stream",
     "text": [
      "[1, 3, 5]\n",
      "[2, 4, 6]\n"
     ]
    }
   ],
   "source": [
    "print(odd)\n",
    "print(even)\n"
   ]
  },
  {
   "cell_type": "code",
   "execution_count": 39,
   "id": "765231f6",
   "metadata": {},
   "outputs": [
    {
     "name": "stdout",
     "output_type": "stream",
     "text": [
      "[1, 2, 3, 4, 5, 6, (7, 8, 9)]\n"
     ]
    }
   ],
   "source": [
    "l1=[1,2,3,4,5,6,(7,8,9)]\n",
    "res=[]\n",
    "print(l1)"
   ]
  },
  {
   "cell_type": "code",
   "execution_count": 38,
   "id": "55e78062",
   "metadata": {},
   "outputs": [
    {
     "name": "stdout",
     "output_type": "stream",
     "text": [
      "[1, 2, 3, 4, 5, 6, 7, 8, 9]\n"
     ]
    }
   ],
   "source": [
    "for i in l1:\n",
    "    if isinstance(i,(tuple)):\n",
    "        res.extend(i)\n",
    "    else:\n",
    "        res.append(i)\n",
    "print(res)"
   ]
  },
  {
   "cell_type": "code",
   "execution_count": 47,
   "id": "4c4bd00d",
   "metadata": {},
   "outputs": [
    {
     "name": "stdout",
     "output_type": "stream",
     "text": [
      "[1, 2, 3, 4, 5, 6]\n"
     ]
    }
   ],
   "source": [
    "print(l1)"
   ]
  },
  {
   "cell_type": "code",
   "execution_count": 51,
   "id": "99282d52",
   "metadata": {},
   "outputs": [
    {
     "name": "stdout",
     "output_type": "stream",
     "text": [
      "[1, 2, 3, 4, 'Python', 5, 6]\n"
     ]
    }
   ],
   "source": [
    "l1.insert(4,\"Python\")\n",
    "print(l1)"
   ]
  },
  {
   "cell_type": "markdown",
   "id": "ca256102",
   "metadata": {},
   "source": [
    "### delete"
   ]
  },
  {
   "cell_type": "code",
   "execution_count": 52,
   "id": "b2eff64e",
   "metadata": {},
   "outputs": [
    {
     "name": "stdout",
     "output_type": "stream",
     "text": [
      "[1, 2, 3, 4, 5, 6]\n"
     ]
    }
   ],
   "source": [
    "l1.remove(\"Python\")\n",
    "print(l1)"
   ]
  },
  {
   "cell_type": "code",
   "execution_count": 53,
   "id": "26ac0707",
   "metadata": {},
   "outputs": [
    {
     "name": "stdout",
     "output_type": "stream",
     "text": [
      "[1, 2, 3, 4, 5]\n"
     ]
    }
   ],
   "source": [
    "l1.pop() #last element\n",
    "print(l1)"
   ]
  },
  {
   "cell_type": "code",
   "execution_count": 54,
   "id": "814a8791",
   "metadata": {},
   "outputs": [
    {
     "name": "stdout",
     "output_type": "stream",
     "text": [
      "[1, 2, 4, 5]\n"
     ]
    }
   ],
   "source": [
    "l1.pop(2) #index\n",
    "print(l1)"
   ]
  },
  {
   "cell_type": "markdown",
   "id": "d8d19750",
   "metadata": {},
   "source": [
    "### clear"
   ]
  },
  {
   "cell_type": "code",
   "execution_count": 57,
   "id": "4fefe8e4",
   "metadata": {},
   "outputs": [
    {
     "name": "stdout",
     "output_type": "stream",
     "text": [
      "[1, 2, 3, 4, 5, 6]\n"
     ]
    }
   ],
   "source": [
    "\n",
    "print(l1)"
   ]
  },
  {
   "cell_type": "code",
   "execution_count": 60,
   "id": "25ab723c",
   "metadata": {},
   "outputs": [],
   "source": [
    "l1.clear() #structure remains"
   ]
  },
  {
   "cell_type": "code",
   "execution_count": 61,
   "id": "233c3b7a",
   "metadata": {},
   "outputs": [
    {
     "data": {
      "text/plain": [
       "[]"
      ]
     },
     "execution_count": 61,
     "metadata": {},
     "output_type": "execute_result"
    }
   ],
   "source": [
    "l1"
   ]
  },
  {
   "cell_type": "markdown",
   "id": "f52088b5",
   "metadata": {},
   "source": [
    "### del"
   ]
  },
  {
   "cell_type": "code",
   "execution_count": 65,
   "id": "d3beef80",
   "metadata": {},
   "outputs": [
    {
     "data": {
      "text/plain": [
       "[1, 2, 3, 4, 5, 6]"
      ]
     },
     "execution_count": 65,
     "metadata": {},
     "output_type": "execute_result"
    }
   ],
   "source": [
    "l1\n"
   ]
  },
  {
   "cell_type": "code",
   "execution_count": 66,
   "id": "0546cfb8",
   "metadata": {},
   "outputs": [
    {
     "ename": "NameError",
     "evalue": "name 'l1' is not defined",
     "output_type": "error",
     "traceback": [
      "\u001b[1;31m---------------------------------------------------------------------------\u001b[0m",
      "\u001b[1;31mNameError\u001b[0m                                 Traceback (most recent call last)",
      "Cell \u001b[1;32mIn[66], line 2\u001b[0m\n\u001b[0;32m      1\u001b[0m \u001b[38;5;28;01mdel\u001b[39;00m l1\n\u001b[1;32m----> 2\u001b[0m \u001b[43ml1\u001b[49m\n",
      "\u001b[1;31mNameError\u001b[0m: name 'l1' is not defined"
     ]
    }
   ],
   "source": [
    "del l1 #delete structure\n",
    "l1"
   ]
  },
  {
   "cell_type": "markdown",
   "id": "f31ed585",
   "metadata": {},
   "source": [
    "### Sorting List"
   ]
  },
  {
   "cell_type": "code",
   "execution_count": 67,
   "id": "532dfe87",
   "metadata": {},
   "outputs": [],
   "source": [
    "l1=[5,2,4,8,9,3,1,7]"
   ]
  },
  {
   "cell_type": "code",
   "execution_count": 68,
   "id": "2d9ffe69",
   "metadata": {},
   "outputs": [
    {
     "data": {
      "text/plain": [
       "[1, 2, 3, 4, 5, 7, 8, 9]"
      ]
     },
     "execution_count": 68,
     "metadata": {},
     "output_type": "execute_result"
    }
   ],
   "source": [
    "l1.sort()\n",
    "l1"
   ]
  },
  {
   "cell_type": "code",
   "execution_count": 69,
   "id": "aa227aed",
   "metadata": {},
   "outputs": [
    {
     "data": {
      "text/plain": [
       "[9, 8, 7, 5, 4, 3, 2, 1]"
      ]
     },
     "execution_count": 69,
     "metadata": {},
     "output_type": "execute_result"
    }
   ],
   "source": [
    "l1.sort(reverse=True)\n",
    "l1\n"
   ]
  },
  {
   "cell_type": "code",
   "execution_count": 70,
   "id": "cc97d5a7",
   "metadata": {},
   "outputs": [
    {
     "data": {
      "text/plain": [
       "[9, 8, 7, 5, 4, 3, 2, 1]"
      ]
     },
     "execution_count": 70,
     "metadata": {},
     "output_type": "execute_result"
    }
   ],
   "source": [
    "l1\n"
   ]
  },
  {
   "cell_type": "markdown",
   "id": "5eb95151",
   "metadata": {},
   "source": [
    "### reverse function"
   ]
  },
  {
   "cell_type": "code",
   "execution_count": 71,
   "id": "68f538ee",
   "metadata": {},
   "outputs": [
    {
     "data": {
      "text/plain": [
       "[1, 2, 3, 4, 5, 7, 8, 9]"
      ]
     },
     "execution_count": 71,
     "metadata": {},
     "output_type": "execute_result"
    }
   ],
   "source": [
    "l1.reverse()\n",
    "l1"
   ]
  },
  {
   "cell_type": "code",
   "execution_count": 72,
   "id": "aa0fde86",
   "metadata": {},
   "outputs": [
    {
     "data": {
      "text/plain": [
       "5"
      ]
     },
     "execution_count": 72,
     "metadata": {},
     "output_type": "execute_result"
    }
   ],
   "source": [
    "l1.index(7)"
   ]
  },
  {
   "cell_type": "code",
   "execution_count": 79,
   "id": "0aad384f",
   "metadata": {},
   "outputs": [
    {
     "data": {
      "text/plain": [
       "6"
      ]
     },
     "execution_count": 79,
     "metadata": {},
     "output_type": "execute_result"
    }
   ],
   "source": [
    "l1.append(4)\n",
    "\n",
    "l1.count(4)"
   ]
  },
  {
   "cell_type": "code",
   "execution_count": 80,
   "id": "f6a5be88",
   "metadata": {},
   "outputs": [
    {
     "data": {
      "text/plain": [
       "[1, 2, 3, 4, 5, 7, 8, 9, 4, 4, 4, 4, 4]"
      ]
     },
     "execution_count": 80,
     "metadata": {},
     "output_type": "execute_result"
    }
   ],
   "source": [
    "l1\n"
   ]
  },
  {
   "cell_type": "code",
   "execution_count": 81,
   "id": "48507999",
   "metadata": {},
   "outputs": [
    {
     "data": {
      "text/plain": [
       "6"
      ]
     },
     "execution_count": 81,
     "metadata": {},
     "output_type": "execute_result"
    }
   ],
   "source": [
    "l1.count(4)"
   ]
  },
  {
   "cell_type": "code",
   "execution_count": 83,
   "id": "45883418",
   "metadata": {},
   "outputs": [
    {
     "data": {
      "text/plain": [
       "1"
      ]
     },
     "execution_count": 83,
     "metadata": {},
     "output_type": "execute_result"
    }
   ],
   "source": [
    "min(l1)"
   ]
  },
  {
   "cell_type": "code",
   "execution_count": 84,
   "id": "67804b37",
   "metadata": {},
   "outputs": [
    {
     "data": {
      "text/plain": [
       "9"
      ]
     },
     "execution_count": 84,
     "metadata": {},
     "output_type": "execute_result"
    }
   ],
   "source": [
    "max(l1)"
   ]
  },
  {
   "cell_type": "markdown",
   "id": "2c532ad6",
   "metadata": {},
   "source": [
    "### String"
   ]
  },
  {
   "cell_type": "markdown",
   "id": "8f9ec163",
   "metadata": {},
   "source": [
    "collection of characters surrounded by single, double or single/double triple quotes"
   ]
  },
  {
   "cell_type": "code",
   "execution_count": 1,
   "id": "c8f8ae65",
   "metadata": {},
   "outputs": [],
   "source": [
    "s='Python'\n",
    "s=\"Python\"\n",
    "s='''Python'''\n",
    "s=\"\"\"Python\"\"\""
   ]
  },
  {
   "cell_type": "markdown",
   "id": "257218f9",
   "metadata": {},
   "source": [
    "#### indexing"
   ]
  },
  {
   "cell_type": "markdown",
   "id": "aaa1ea91",
   "metadata": {},
   "source": [
    "access the character"
   ]
  },
  {
   "cell_type": "code",
   "execution_count": 3,
   "id": "71449636",
   "metadata": {},
   "outputs": [
    {
     "name": "stdout",
     "output_type": "stream",
     "text": [
      "yth\n",
      "o\n"
     ]
    }
   ],
   "source": [
    "s='python'\n",
    "print(s[1:4])\n",
    "print(s[4])"
   ]
  },
  {
   "cell_type": "code",
   "execution_count": 4,
   "id": "5d36cb6a",
   "metadata": {},
   "outputs": [
    {
     "name": "stdout",
     "output_type": "stream",
     "text": [
      "python\n"
     ]
    }
   ],
   "source": [
    "print(s)"
   ]
  },
  {
   "cell_type": "code",
   "execution_count": 6,
   "id": "93427771",
   "metadata": {},
   "outputs": [
    {
     "data": {
      "text/plain": [
       "'python'"
      ]
     },
     "execution_count": 6,
     "metadata": {},
     "output_type": "execute_result"
    }
   ],
   "source": [
    "s[:]"
   ]
  },
  {
   "cell_type": "code",
   "execution_count": 11,
   "id": "088eb5e2",
   "metadata": {},
   "outputs": [
    {
     "data": {
      "text/plain": [
       "'ytho'"
      ]
     },
     "execution_count": 11,
     "metadata": {},
     "output_type": "execute_result"
    }
   ],
   "source": [
    "s[-5:-1:1]"
   ]
  },
  {
   "cell_type": "code",
   "execution_count": 12,
   "id": "c4f3b62a",
   "metadata": {},
   "outputs": [
    {
     "data": {
      "text/plain": [
       "'ohty'"
      ]
     },
     "execution_count": 12,
     "metadata": {},
     "output_type": "execute_result"
    }
   ],
   "source": [
    "s[-2:-6:-1]"
   ]
  },
  {
   "cell_type": "code",
   "execution_count": 13,
   "id": "99af9e75",
   "metadata": {},
   "outputs": [
    {
     "data": {
      "text/plain": [
       "'noht'"
      ]
     },
     "execution_count": 13,
     "metadata": {},
     "output_type": "execute_result"
    }
   ],
   "source": [
    "s[:-5:-1]"
   ]
  },
  {
   "cell_type": "markdown",
   "id": "61008ff6",
   "metadata": {},
   "source": [
    "#### string function"
   ]
  },
  {
   "cell_type": "code",
   "execution_count": 17,
   "id": "08e6bf76",
   "metadata": {},
   "outputs": [
    {
     "data": {
      "text/plain": [
       "'Python'"
      ]
     },
     "execution_count": 17,
     "metadata": {},
     "output_type": "execute_result"
    }
   ],
   "source": [
    "#capitalize first letter\n",
    "\n",
    "s=\"python\"\n",
    "s.capitalize()"
   ]
  },
  {
   "cell_type": "code",
   "execution_count": 18,
   "id": "b177cab7",
   "metadata": {},
   "outputs": [
    {
     "data": {
      "text/plain": [
       "' python'"
      ]
     },
     "execution_count": 18,
     "metadata": {},
     "output_type": "execute_result"
    }
   ],
   "source": [
    "\n",
    "s=\" python\"\n",
    "s.capitalize()"
   ]
  },
  {
   "cell_type": "code",
   "execution_count": 19,
   "id": "3c3bb56c",
   "metadata": {},
   "outputs": [
    {
     "data": {
      "text/plain": [
       "'python'"
      ]
     },
     "execution_count": 19,
     "metadata": {},
     "output_type": "execute_result"
    }
   ],
   "source": [
    "\n",
    "s=\"PYTHON\"\n",
    "s.lower()"
   ]
  },
  {
   "cell_type": "code",
   "execution_count": 20,
   "id": "67b4e5fe",
   "metadata": {},
   "outputs": [
    {
     "data": {
      "text/plain": [
       "'PYTHON'"
      ]
     },
     "execution_count": 20,
     "metadata": {},
     "output_type": "execute_result"
    }
   ],
   "source": [
    "\n",
    "s=\"python\"\n",
    "s.upper()"
   ]
  },
  {
   "cell_type": "code",
   "execution_count": 21,
   "id": "79e0509b",
   "metadata": {},
   "outputs": [
    {
     "data": {
      "text/plain": [
       "'I Love India'"
      ]
     },
     "execution_count": 21,
     "metadata": {},
     "output_type": "execute_result"
    }
   ],
   "source": [
    "# Title\n",
    "s=\"i love india\"\n",
    "s.title()"
   ]
  },
  {
   "cell_type": "code",
   "execution_count": 22,
   "id": "332631f0",
   "metadata": {},
   "outputs": [
    {
     "data": {
      "text/plain": [
       "'i love india'"
      ]
     },
     "execution_count": 22,
     "metadata": {},
     "output_type": "execute_result"
    }
   ],
   "source": [
    "s=\"         i love india\"\n",
    "s.lstrip()"
   ]
  },
  {
   "cell_type": "code",
   "execution_count": 23,
   "id": "19735e69",
   "metadata": {},
   "outputs": [
    {
     "data": {
      "text/plain": [
       "'i love india'"
      ]
     },
     "execution_count": 23,
     "metadata": {},
     "output_type": "execute_result"
    }
   ],
   "source": [
    "s=\"i love india          \"\n",
    "s.rstrip()"
   ]
  },
  {
   "cell_type": "code",
   "execution_count": 24,
   "id": "8962f97a",
   "metadata": {},
   "outputs": [
    {
     "data": {
      "text/plain": [
       "'i love india'"
      ]
     },
     "execution_count": 24,
     "metadata": {},
     "output_type": "execute_result"
    }
   ],
   "source": [
    "s=\"   i love india     \"\n",
    "s.strip()"
   ]
  },
  {
   "cell_type": "code",
   "execution_count": 21,
   "id": "f3675a95",
   "metadata": {},
   "outputs": [
    {
     "name": "stdout",
     "output_type": "stream",
     "text": [
      "Vowels 8\n",
      "Spaces 3\n",
      "Consonants 16\n",
      "oaaieeai\n",
      "pythnndmchnlrnng\n",
      "pythn nd mchn lrnng\n"
     ]
    }
   ],
   "source": [
    "s=\"python and machine learning\"\n",
    "vow=\"\"\n",
    "con=\"\"\n",
    "cnt=0\n",
    "cnt2=0\n",
    "cnt3=0\n",
    "s1=\"\"\n",
    "for i in s:\n",
    "    \n",
    "    if i=='a'or i=='e'or i=='i'or i=='o'or i=='u':\n",
    "        cnt+=1\n",
    "        vow+=i\n",
    "        s=s.replace(i,\"\")\n",
    "        \n",
    "    elif i==' ':\n",
    "        cnt2+=1\n",
    "    else:\n",
    "        cnt3+=1\n",
    "        con+=i\n",
    "\n",
    "        \n",
    "print(\"Vowels\",cnt)\n",
    "print(\"Spaces\",cnt2)\n",
    "print(\"Consonants\",cnt3)\n",
    "print(vow)\n",
    "print(con)\n",
    "print(s)"
   ]
  },
  {
   "cell_type": "code",
   "execution_count": 10,
   "id": "28c6f1c5",
   "metadata": {},
   "outputs": [
    {
     "name": "stdout",
     "output_type": "stream",
     "text": [
      "python and MACHINE LEARNING\n"
     ]
    }
   ],
   "source": [
    "s=\"PYTHON AND machine learning\"\n",
    "s2=\"\"\n",
    "for i in s:\n",
    "    if i.isupper():\n",
    "        s2+=i.lower()\n",
    "    else:\n",
    "        s2+=i.upper()\n",
    "print(s2)"
   ]
  },
  {
   "cell_type": "markdown",
   "id": "2222cbaf",
   "metadata": {},
   "source": [
    "### Dictionary"
   ]
  },
  {
   "cell_type": "markdown",
   "id": "8c706d7e",
   "metadata": {},
   "source": [
    "collection of key-value pair,\n",
    "ordered,\n",
    "keys immutable,\n",
    "values mutable,\n",
    "duplicate keys not allowed,\n",
    "indexing & Slicing not allowed,\n",
    "duplicate values allowed,enclosed within curly braces"
   ]
  },
  {
   "cell_type": "code",
   "execution_count": 24,
   "id": "230837e9",
   "metadata": {},
   "outputs": [],
   "source": [
    "d={'course':'python','subject':'machine'}"
   ]
  },
  {
   "cell_type": "code",
   "execution_count": 25,
   "id": "35485a98",
   "metadata": {},
   "outputs": [
    {
     "data": {
      "text/plain": [
       "{'course': 'python', 'subject': 'machine'}"
      ]
     },
     "execution_count": 25,
     "metadata": {},
     "output_type": "execute_result"
    }
   ],
   "source": [
    "d\n"
   ]
  },
  {
   "cell_type": "code",
   "execution_count": 26,
   "id": "6673f1aa",
   "metadata": {},
   "outputs": [
    {
     "ename": "KeyError",
     "evalue": "1",
     "output_type": "error",
     "traceback": [
      "\u001b[1;31m---------------------------------------------------------------------------\u001b[0m",
      "\u001b[1;31mKeyError\u001b[0m                                  Traceback (most recent call last)",
      "Cell \u001b[1;32mIn[26], line 1\u001b[0m\n\u001b[1;32m----> 1\u001b[0m \u001b[43md\u001b[49m\u001b[43m[\u001b[49m\u001b[38;5;241;43m1\u001b[39;49m\u001b[43m]\u001b[49m\n",
      "\u001b[1;31mKeyError\u001b[0m: 1"
     ]
    }
   ],
   "source": [
    "d[1]"
   ]
  },
  {
   "cell_type": "code",
   "execution_count": 31,
   "id": "1bb8311b",
   "metadata": {},
   "outputs": [
    {
     "data": {
      "text/plain": [
       "'python'"
      ]
     },
     "execution_count": 31,
     "metadata": {},
     "output_type": "execute_result"
    }
   ],
   "source": [
    "\n",
    "d['course']"
   ]
  },
  {
   "cell_type": "code",
   "execution_count": 32,
   "id": "f9ca478d",
   "metadata": {},
   "outputs": [
    {
     "data": {
      "text/plain": [
       "{'c': 100, 's': 1000}"
      ]
     },
     "execution_count": 32,
     "metadata": {},
     "output_type": "execute_result"
    }
   ],
   "source": [
    "d={'c':100,'s':200,'s':1000}\n",
    "d"
   ]
  },
  {
   "cell_type": "markdown",
   "id": "5731ed9f",
   "metadata": {},
   "source": []
  },
  {
   "cell_type": "markdown",
   "id": "b2e588c1",
   "metadata": {},
   "source": [
    "#### Dictionary Functions"
   ]
  },
  {
   "cell_type": "code",
   "execution_count": 35,
   "id": "99436969",
   "metadata": {},
   "outputs": [
    {
     "data": {
      "text/plain": [
       "300"
      ]
     },
     "execution_count": 35,
     "metadata": {},
     "output_type": "execute_result"
    }
   ],
   "source": [
    "#get\n",
    "d={'a':100,'b':200,'c':300,'d':400,'e':500}\n",
    "d.get('c')"
   ]
  },
  {
   "cell_type": "code",
   "execution_count": 38,
   "id": "ab8bc280",
   "metadata": {},
   "outputs": [
    {
     "data": {
      "text/plain": [
       "dict_keys(['a', 'b', 'c', 'd', 'e'])"
      ]
     },
     "execution_count": 38,
     "metadata": {},
     "output_type": "execute_result"
    }
   ],
   "source": [
    "#keys\n",
    "d={'a':100,'b':200,'c':300,'d':400,'e':500}\n",
    "d.keys()"
   ]
  },
  {
   "cell_type": "code",
   "execution_count": 40,
   "id": "d4d57167",
   "metadata": {},
   "outputs": [
    {
     "data": {
      "text/plain": [
       "dict_values([100, 200, 300, 400, 500])"
      ]
     },
     "execution_count": 40,
     "metadata": {},
     "output_type": "execute_result"
    }
   ],
   "source": [
    "#values\n",
    "d={'a':100,'b':200,'c':300,'d':400,'e':500}\n",
    "d.values()"
   ]
  },
  {
   "cell_type": "code",
   "execution_count": 44,
   "id": "f7757191",
   "metadata": {},
   "outputs": [
    {
     "data": {
      "text/plain": [
       "{'a': 92, 'b': 89, 'c': 87, 'd': 79}"
      ]
     },
     "execution_count": 44,
     "metadata": {},
     "output_type": "execute_result"
    }
   ],
   "source": [
    "d1={'a':90,'b':89}\n",
    "d2={'a':92,'c':87,'d':79}\n",
    "d1.update(d2)\n",
    "d1"
   ]
  },
  {
   "cell_type": "markdown",
   "id": "2372eb00",
   "metadata": {},
   "source": [
    "### Delete Function"
   ]
  },
  {
   "cell_type": "code",
   "execution_count": 3,
   "id": "2912b209",
   "metadata": {},
   "outputs": [
    {
     "data": {
      "text/plain": [
       "100"
      ]
     },
     "execution_count": 3,
     "metadata": {},
     "output_type": "execute_result"
    }
   ],
   "source": [
    "d={'a':100,'b':200,'c':300,'d':400,'e':500}\n",
    "d.pop('a')"
   ]
  },
  {
   "cell_type": "code",
   "execution_count": 4,
   "id": "5e04aaf0",
   "metadata": {},
   "outputs": [
    {
     "data": {
      "text/plain": [
       "{'b': 200, 'c': 300, 'd': 400, 'e': 500}"
      ]
     },
     "execution_count": 4,
     "metadata": {},
     "output_type": "execute_result"
    }
   ],
   "source": [
    "d\n"
   ]
  },
  {
   "cell_type": "code",
   "execution_count": 5,
   "id": "b67a6ae4",
   "metadata": {},
   "outputs": [
    {
     "data": {
      "text/plain": [
       "('e', 500)"
      ]
     },
     "execution_count": 5,
     "metadata": {},
     "output_type": "execute_result"
    }
   ],
   "source": [
    "d.popitem()"
   ]
  },
  {
   "cell_type": "code",
   "execution_count": 6,
   "id": "b23966c2",
   "metadata": {},
   "outputs": [
    {
     "data": {
      "text/plain": [
       "{'b': 200, 'c': 300, 'd': 400}"
      ]
     },
     "execution_count": 6,
     "metadata": {},
     "output_type": "execute_result"
    }
   ],
   "source": [
    "d\n"
   ]
  },
  {
   "cell_type": "code",
   "execution_count": 14,
   "id": "734131a2",
   "metadata": {},
   "outputs": [
    {
     "data": {
      "text/plain": [
       "{'a': 100, 'b': 200, 'c': 300, 'd': 400, 'e': 500}"
      ]
     },
     "execution_count": 14,
     "metadata": {},
     "output_type": "execute_result"
    }
   ],
   "source": [
    "d={'a':100,'b':200,'c':300,'d':400,'e':500}\n",
    "d"
   ]
  },
  {
   "cell_type": "code",
   "execution_count": 15,
   "id": "a8cc934e",
   "metadata": {},
   "outputs": [],
   "source": [
    "d.clear()"
   ]
  },
  {
   "cell_type": "code",
   "execution_count": 16,
   "id": "ac47746c",
   "metadata": {},
   "outputs": [
    {
     "data": {
      "text/plain": [
       "{}"
      ]
     },
     "execution_count": 16,
     "metadata": {},
     "output_type": "execute_result"
    }
   ],
   "source": [
    "d"
   ]
  },
  {
   "cell_type": "code",
   "execution_count": 17,
   "id": "c63a8564",
   "metadata": {},
   "outputs": [],
   "source": [
    "del d\n"
   ]
  },
  {
   "cell_type": "code",
   "execution_count": 23,
   "id": "4bf8f27c",
   "metadata": {},
   "outputs": [
    {
     "data": {
      "text/plain": [
       "{'f001': {'name': 'vivek'}, 'f002': {'name': 'prasanna'}}"
      ]
     },
     "execution_count": 23,
     "metadata": {},
     "output_type": "execute_result"
    }
   ],
   "source": [
    "d={'f001':{'name':'vivek'},'f002':{'name':'prasanna'}}\n",
    "d"
   ]
  },
  {
   "cell_type": "code",
   "execution_count": 24,
   "id": "0821d4a7",
   "metadata": {},
   "outputs": [
    {
     "data": {
      "text/plain": [
       "{'name': 'vivek'}"
      ]
     },
     "execution_count": 24,
     "metadata": {},
     "output_type": "execute_result"
    }
   ],
   "source": [
    "d['f001']"
   ]
  },
  {
   "cell_type": "code",
   "execution_count": 25,
   "id": "a9989ea4",
   "metadata": {},
   "outputs": [
    {
     "data": {
      "text/plain": [
       "{'name': 'prasanna'}"
      ]
     },
     "execution_count": 25,
     "metadata": {},
     "output_type": "execute_result"
    }
   ],
   "source": [
    "d['f002']"
   ]
  },
  {
   "cell_type": "code",
   "execution_count": 30,
   "id": "f2c70931",
   "metadata": {},
   "outputs": [],
   "source": [
    "import pandas as pd\n",
    "df=pd.DataFrame(d)"
   ]
  },
  {
   "cell_type": "code",
   "execution_count": 31,
   "id": "b967f093",
   "metadata": {},
   "outputs": [
    {
     "data": {
      "text/html": [
       "<div>\n",
       "<style scoped>\n",
       "    .dataframe tbody tr th:only-of-type {\n",
       "        vertical-align: middle;\n",
       "    }\n",
       "\n",
       "    .dataframe tbody tr th {\n",
       "        vertical-align: top;\n",
       "    }\n",
       "\n",
       "    .dataframe thead th {\n",
       "        text-align: right;\n",
       "    }\n",
       "</style>\n",
       "<table border=\"1\" class=\"dataframe\">\n",
       "  <thead>\n",
       "    <tr style=\"text-align: right;\">\n",
       "      <th></th>\n",
       "      <th>f001</th>\n",
       "      <th>f002</th>\n",
       "    </tr>\n",
       "  </thead>\n",
       "  <tbody>\n",
       "    <tr>\n",
       "      <th>name</th>\n",
       "      <td>vivek</td>\n",
       "      <td>prasanna</td>\n",
       "    </tr>\n",
       "  </tbody>\n",
       "</table>\n",
       "</div>"
      ],
      "text/plain": [
       "       f001      f002\n",
       "name  vivek  prasanna"
      ]
     },
     "execution_count": 31,
     "metadata": {},
     "output_type": "execute_result"
    }
   ],
   "source": [
    "df\n"
   ]
  },
  {
   "cell_type": "code",
   "execution_count": 36,
   "id": "c12d10b1",
   "metadata": {},
   "outputs": [
    {
     "name": "stdout",
     "output_type": "stream",
     "text": [
      "1\n",
      "2\n",
      "3\n",
      "Max Value 3\n"
     ]
    }
   ],
   "source": [
    "a=int(input())\n",
    "b=int(input())\n",
    "c=int(input())\n",
    "\n",
    "if a>b and a>c:\n",
    "    print(\"Max Value\",a)\n",
    "elif b>c and b>a:\n",
    "    print(\"Max Value\",b)\n",
    "else:\n",
    "    print(\"Max Value\",c)"
   ]
  },
  {
   "cell_type": "code",
   "execution_count": 37,
   "id": "6eea0730",
   "metadata": {},
   "outputs": [
    {
     "name": "stdout",
     "output_type": "stream",
     "text": [
      "5\n",
      "odd\n"
     ]
    }
   ],
   "source": [
    "a=int(input())\n",
    "\n",
    "if a%2==0:\n",
    "    print(\"even\")\n",
    "else:\n",
    "    print(\"odd\")\n"
   ]
  },
  {
   "cell_type": "code",
   "execution_count": 39,
   "id": "df905a56",
   "metadata": {},
   "outputs": [
    {
     "name": "stdout",
     "output_type": "stream",
     "text": [
      "99\n",
      "Grade A\n"
     ]
    }
   ],
   "source": [
    "a=int(input())\n",
    "\n",
    "if a>=90 :\n",
    "    print(\"Grade A\")\n",
    "elif a>=80 and a<=89:\n",
    "    print(\"Grade B\")\n",
    "elif a>=70 and a<=9:\n",
    "    print(\"Grade B\")\n",
    "else:\n",
    "    print(\"Failed\")"
   ]
  },
  {
   "cell_type": "code",
   "execution_count": 2,
   "id": "df837c85",
   "metadata": {},
   "outputs": [
    {
     "name": "stdout",
     "output_type": "stream",
     "text": [
      "245\n",
      "Positive\n"
     ]
    }
   ],
   "source": [
    "a=int(input())\n",
    "\n",
    "if a>0 :\n",
    "    print(\"Positive\")\n",
    "elif a<0:\n",
    "    print(\"Negative\")\n",
    "else:\n",
    "    print(\"Zero\")"
   ]
  },
  {
   "cell_type": "code",
   "execution_count": 1,
   "id": "f090c139",
   "metadata": {},
   "outputs": [
    {
     "name": "stdout",
     "output_type": "stream",
     "text": [
      "S\n",
      "Consosnant\n"
     ]
    }
   ],
   "source": [
    "a=str(input())\n",
    "a=a.lower()\n",
    "if a==\"a\" or a==\"e\" or a==\"i\" or a==\"o\" or a==\"u\":\n",
    "    print(\"Vowel\")\n",
    "else:\n",
    "    print(\"Consosnant\")"
   ]
  },
  {
   "cell_type": "code",
   "execution_count": 3,
   "id": "3e8d4752",
   "metadata": {},
   "outputs": [
    {
     "name": "stdout",
     "output_type": "stream",
     "text": [
      "45\n",
      "Adult\n"
     ]
    }
   ],
   "source": [
    "a=int(input())\n",
    "\n",
    "if a>=65 :\n",
    "    print(\"Senior Citizen\")\n",
    "elif a>=20 and a<=64:\n",
    "    print(\"Adult\")\n",
    "elif a>=13 and a<=19:\n",
    "    print(\"Teenager\")\n",
    "else:\n",
    "    print(\"Child\")"
   ]
  },
  {
   "cell_type": "code",
   "execution_count": 37,
   "id": "1f7c2914",
   "metadata": {
    "scrolled": true
   },
   "outputs": [
    {
     "name": "stdout",
     "output_type": "stream",
     "text": [
      "(99, 81, 'ipl', 'machine', 'fuel', 'python', 'india')\n"
     ]
    }
   ],
   "source": [
    "l=[99,81,\"python\",\"machine\",{99,\"ipl\",\"india\",\"python\"}]\n",
    "t=(99,81,\"ipl\",\"machine\",\"fuel\")\n",
    "t2=[]\n",
    "\n",
    "for i in l:\n",
    "    if isinstance(i,set):\n",
    "        l.extend(i)        \n",
    "l2=list(t)\n",
    "for i in l:\n",
    "    if i not in l2 and type(i)!=set:\n",
    "        l2.append(i)\n",
    "print(tuple(l2))\n",
    "    \n"
   ]
  },
  {
   "cell_type": "markdown",
   "id": "51444720",
   "metadata": {},
   "source": [
    "## Interview Question"
   ]
  },
  {
   "cell_type": "code",
   "execution_count": 61,
   "id": "bd13257f",
   "metadata": {},
   "outputs": [
    {
     "name": "stdout",
     "output_type": "stream",
     "text": [
      "[4, 54, 6, 9, 45]\n"
     ]
    }
   ],
   "source": [
    "l=[[[4]],[[[[[54]]]]],[6],[9],[[[[45]]]]]  #Interview Question\n",
    "\n",
    "def rec(l):\n",
    "    l2=[]\n",
    "    for i in l:\n",
    "        if isinstance(i,list):\n",
    "            l2.extend(rec(i))\n",
    "        else:\n",
    "            l2.append(i)\n",
    "    return l2    \n",
    "l1=rec(l)        \n",
    "print(l1)"
   ]
  }
 ],
 "metadata": {
  "kernelspec": {
   "display_name": "Python 3 (ipykernel)",
   "language": "python",
   "name": "python3"
  },
  "language_info": {
   "codemirror_mode": {
    "name": "ipython",
    "version": 3
   },
   "file_extension": ".py",
   "mimetype": "text/x-python",
   "name": "python",
   "nbconvert_exporter": "python",
   "pygments_lexer": "ipython3",
   "version": "3.10.9"
  }
 },
 "nbformat": 4,
 "nbformat_minor": 5
}
