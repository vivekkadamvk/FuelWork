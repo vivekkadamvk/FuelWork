{
 "cells": [
  {
   "cell_type": "code",
   "execution_count": 1,
   "id": "c5a4b28a",
   "metadata": {},
   "outputs": [
    {
     "name": "stdout",
     "output_type": "stream",
     "text": [
      "['False', 'None', 'True', 'and', 'as', 'assert', 'async', 'await', 'break', 'class', 'continue', 'def', 'del', 'elif', 'else', 'except', 'finally', 'for', 'from', 'global', 'if', 'import', 'in', 'is', 'lambda', 'nonlocal', 'not', 'or', 'pass', 'raise', 'return', 'try', 'while', 'with', 'yield']\n"
     ]
    }
   ],
   "source": [
    "import keyword\n",
    "print(keyword.kwlist)"
   ]
  },
  {
   "cell_type": "code",
   "execution_count": 9,
   "id": "632ac483",
   "metadata": {},
   "outputs": [
    {
     "data": {
      "text/plain": [
       "False"
      ]
     },
     "execution_count": 9,
     "metadata": {},
     "output_type": "execute_result"
    }
   ],
   "source": [
    "import keyword\n",
    "\n",
    "txt=\"sauru\"\n",
    "x=keyword.iskeyword(txt)\n",
    "x"
   ]
  },
  {
   "cell_type": "markdown",
   "id": "f22bb81f",
   "metadata": {},
   "source": [
    "\n",
    "### and=m is a logical operater which returns true if both the operands are true else return false\n",
    "### or= this also a logical operater which return true if any one operant is true else return false\n",
    "### not= it is logical operater which return true if operand is false or false:\n",
    "### if= is a conditional statement  :\n",
    "### else=if if condition is false then it is executed:\n",
    "### elif = is executed whem the if is not stisfied:\n",
    "### for= is a keyword used for making the iteration :\n",
    "### while is also  used for the iteration :\n",
    "### break = is used for the termination of the given condition of the loop\n",
    "### as=use to create the alternative \n",
    "### def = is used for defining the function\n",
    "### return=it will eturn a value and exit the function\n",
    "### true= is a boolean value which represent the 1\n",
    "### false= is also a boolean key word which represent the 0\n",
    "### try= used in exception handling \n",
    "### except= Code to be written when exception occurs\n",
    "### class= to define a class \n",
    "### continue= is used for the \n",
    "### del= is used for delet the object\n",
    "### exception= it handel the exception in exception handaling:\n",
    "### globale= it will be globaly\n",
    "### import= used to import odule \n",
    "### in = is element present in or not\n",
    "### is= compares a objector variables\n",
    "### raise= raise the exception\n",
    "### yield=it and the function and returnds a generater\n",
    "### return= return the value and the function\n",
    "### input= to take user input\n",
    "\n",
    "\n"
   ]
  },
  {
   "cell_type": "code",
   "execution_count": 10,
   "id": "c0891a54",
   "metadata": {},
   "outputs": [
    {
     "name": "stdout",
     "output_type": "stream",
     "text": [
      "True\n"
     ]
    }
   ],
   "source": [
    "# 1]if \n",
    "#2]or \n",
    "#3]true\n",
    "if 5<10 or 5<4:\n",
    "    print(True)"
   ]
  },
  {
   "cell_type": "code",
   "execution_count": 13,
   "id": "6e1f5191",
   "metadata": {},
   "outputs": [
    {
     "name": "stdout",
     "output_type": "stream",
     "text": [
      "True\n"
     ]
    }
   ],
   "source": [
    "#4]false \n",
    "#5]or\n",
    "if 5<10 and 5>4:\n",
    " print(True)"
   ]
  },
  {
   "cell_type": "code",
   "execution_count": 14,
   "id": "5b61df06",
   "metadata": {},
   "outputs": [
    {
     "name": "stdout",
     "output_type": "stream",
     "text": [
      "True\n"
     ]
    }
   ],
   "source": [
    "#6]def\n",
    "#7]return\n",
    "#9]print\n",
    "def vk(n):\n",
    "   if n>8:\n",
    "     return True\n",
    "print(vk(10))"
   ]
  },
  {
   "cell_type": "code",
   "execution_count": 5,
   "id": "d235ae3e",
   "metadata": {},
   "outputs": [
    {
     "name": "stdout",
     "output_type": "stream",
     "text": [
      "0\n",
      "1\n",
      "2\n",
      "3\n",
      "4\n",
      "None\n"
     ]
    }
   ],
   "source": [
    "#10]in \n",
    "#11]range\n",
    "#12]break\n",
    "def vk():\n",
    "    for i in range(0,10):\n",
    "       if i==5:\n",
    "        break\n",
    "       else:\n",
    "        print(i)\n",
    "print(vk())"
   ]
  },
  {
   "cell_type": "code",
   "execution_count": 17,
   "id": "73917515",
   "metadata": {},
   "outputs": [
    {
     "name": "stdout",
     "output_type": "stream",
     "text": [
      "0\n",
      "1\n",
      "2\n",
      "4\n",
      "5\n",
      "6\n",
      "8\n",
      "9\n",
      "Success\n"
     ]
    }
   ],
   "source": [
    "#13]continue\n",
    "#14]for\n",
    "def vk():\n",
    "    for i in range(10):\n",
    "       if i==3 or i==7:\n",
    "        continue\n",
    "       else:\n",
    "        print(i)\n",
    "    return \"Success\"\n",
    "print(vk())"
   ]
  },
  {
   "cell_type": "code",
   "execution_count": 19,
   "id": "51c87777",
   "metadata": {},
   "outputs": [
    {
     "name": "stdout",
     "output_type": "stream",
     "text": [
      "vivek\n",
      "58\n",
      "Have a Nice Day\n"
     ]
    }
   ],
   "source": [
    "#15]yeild\n",
    "def myfun():\n",
    "  yield \"vivek\"\n",
    "  yield\"58\"\n",
    "  yield\"Have a Nice Day\"\n",
    "x=myfun()\n",
    "for z in x:\n",
    "        print(z)\n"
   ]
  },
  {
   "cell_type": "code",
   "execution_count": 21,
   "id": "0a344e6e",
   "metadata": {},
   "outputs": [
    {
     "name": "stdout",
     "output_type": "stream",
     "text": [
      "enter the input:4\n",
      "4\n",
      "5\n",
      "6\n",
      "7\n"
     ]
    }
   ],
   "source": [
    "#16] while\n",
    "a=int(input(\"enter the input:\"))\n",
    "while(a<8):\n",
    "    print(a)\n",
    "    a+=1\n"
   ]
  },
  {
   "cell_type": "code",
   "execution_count": 22,
   "id": "e1e11c11",
   "metadata": {},
   "outputs": [],
   "source": [
    "#17]pass\n",
    "def vk():\n",
    "    pass"
   ]
  },
  {
   "cell_type": "code",
   "execution_count": 23,
   "id": "91468a69",
   "metadata": {},
   "outputs": [
    {
     "name": "stdout",
     "output_type": "stream",
     "text": [
      "True\n"
     ]
    }
   ],
   "source": [
    "#18]not\n",
    "a=10\n",
    "\n",
    "if not a==8:\n",
    "    print (True)"
   ]
  },
  {
   "cell_type": "code",
   "execution_count": 11,
   "id": "14d9a43c",
   "metadata": {},
   "outputs": [
    {
     "name": "stdout",
     "output_type": "stream",
     "text": [
      "Cannot divide by zero.\n",
      "always executed\n"
     ]
    }
   ],
   "source": [
    "#19]try \n",
    "#20]except\n",
    "#21]finally\n",
    "try:\n",
    "    result = 10 / 0\n",
    "except ZeroDivisionError:\n",
    "    print(\"Cannot divide by zero.\")\n",
    "finally:\n",
    "    print(\"always executed\")"
   ]
  },
  {
   "cell_type": "code",
   "execution_count": 24,
   "id": "053a1a8e",
   "metadata": {},
   "outputs": [
    {
     "data": {
      "text/plain": [
       "100"
      ]
     },
     "execution_count": 24,
     "metadata": {},
     "output_type": "execute_result"
    }
   ],
   "source": [
    "#22]lambda\n",
    "squ = lambda x: x**2\n",
    "squ(10)"
   ]
  },
  {
   "cell_type": "code",
   "execution_count": 17,
   "id": "04d8cda9",
   "metadata": {},
   "outputs": [
    {
     "name": "stdout",
     "output_type": "stream",
     "text": [
      "5.0\n"
     ]
    }
   ],
   "source": [
    "#23]import\n",
    "#24]as\n",
    "import math as m\n",
    "print(m.sqrt(25))"
   ]
  },
  {
   "cell_type": "code",
   "execution_count": 10,
   "id": "51e5f660",
   "metadata": {},
   "outputs": [
    {
     "name": "stdout",
     "output_type": "stream",
     "text": [
      "10\n",
      "None\n"
     ]
    }
   ],
   "source": [
    "#25]global\n",
    "def sidd():\n",
    "    global a\n",
    "    a= 10\n",
    "    print(a)\n",
    "print(sidd())\n"
   ]
  },
  {
   "cell_type": "code",
   "execution_count": 28,
   "id": "0b88bc41",
   "metadata": {},
   "outputs": [
    {
     "data": {
      "text/plain": [
       "[1, 3]"
      ]
     },
     "execution_count": 28,
     "metadata": {},
     "output_type": "execute_result"
    }
   ],
   "source": [
    "#26]del\n",
    "vivek= [1, \"Harrdy\", 3]\n",
    "del vivek[1]\n",
    "vivek\n"
   ]
  },
  {
   "cell_type": "code",
   "execution_count": 16,
   "id": "0331ac1f",
   "metadata": {},
   "outputs": [],
   "source": [
    "#27]class\n",
    "class MyClass:\n",
    "    def _init_(self, value):\n",
    "        pass"
   ]
  },
  {
   "cell_type": "code",
   "execution_count": 26,
   "id": "6d2a1776",
   "metadata": {},
   "outputs": [
    {
     "name": "stdout",
     "output_type": "stream",
     "text": [
      "None\n"
     ]
    }
   ],
   "source": [
    "#28]none\n",
    "variable = None\n",
    "print(variable)\n"
   ]
  },
  {
   "cell_type": "code",
   "execution_count": 21,
   "id": "c5c19cbf",
   "metadata": {},
   "outputs": [
    {
     "name": "stdout",
     "output_type": "stream",
     "text": [
      "elif\n"
     ]
    }
   ],
   "source": [
    "#29]elif\n",
    "a=4\n",
    "if a>5:\n",
    "    print(True)\n",
    "elif a<5:\n",
    "    print(\"elif\")"
   ]
  },
  {
   "cell_type": "code",
   "execution_count": 29,
   "id": "c08dfb34",
   "metadata": {},
   "outputs": [
    {
     "name": "stdout",
     "output_type": "stream",
     "text": [
      "6\n"
     ]
    }
   ],
   "source": [
    "#30 def\n",
    "def vk():\n",
    "   return 3+3\n",
    "   print(\"hello world\")\n",
    "print(vk())"
   ]
  },
  {
   "cell_type": "code",
   "execution_count": null,
   "id": "49281b59",
   "metadata": {},
   "outputs": [],
   "source": []
  }
 ],
 "metadata": {
  "kernelspec": {
   "display_name": "Python 3 (ipykernel)",
   "language": "python",
   "name": "python3"
  },
  "language_info": {
   "codemirror_mode": {
    "name": "ipython",
    "version": 3
   },
   "file_extension": ".py",
   "mimetype": "text/x-python",
   "name": "python",
   "nbconvert_exporter": "python",
   "pygments_lexer": "ipython3",
   "version": "3.10.9"
  }
 },
 "nbformat": 4,
 "nbformat_minor": 5
}
