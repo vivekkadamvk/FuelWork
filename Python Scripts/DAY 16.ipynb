{
 "cells": [
  {
   "cell_type": "code",
   "execution_count": 1,
   "id": "52494f81",
   "metadata": {},
   "outputs": [],
   "source": [
    "import numpy as np"
   ]
  },
  {
   "cell_type": "code",
   "execution_count": 2,
   "id": "8c2a19db",
   "metadata": {},
   "outputs": [],
   "source": [
    "l=[1,2,3,4,5,6]\n",
    "ar=np.array(l)"
   ]
  },
  {
   "cell_type": "code",
   "execution_count": 3,
   "id": "d876629d",
   "metadata": {},
   "outputs": [
    {
     "data": {
      "text/plain": [
       "array([1, 2, 3, 4, 5, 6])"
      ]
     },
     "execution_count": 3,
     "metadata": {},
     "output_type": "execute_result"
    }
   ],
   "source": [
    "ar"
   ]
  },
  {
   "cell_type": "code",
   "execution_count": 4,
   "id": "04855478",
   "metadata": {},
   "outputs": [
    {
     "data": {
      "text/plain": [
       "array([1. , 2. , 3. , 4. , 5. , 6.7])"
      ]
     },
     "execution_count": 4,
     "metadata": {},
     "output_type": "execute_result"
    }
   ],
   "source": [
    "l=[1,2,3,4,5,6.7]\n",
    "ar=np.array(l)\n",
    "ar"
   ]
  },
  {
   "cell_type": "code",
   "execution_count": 5,
   "id": "78c908e2",
   "metadata": {},
   "outputs": [
    {
     "data": {
      "text/plain": [
       "numpy.ndarray"
      ]
     },
     "execution_count": 5,
     "metadata": {},
     "output_type": "execute_result"
    }
   ],
   "source": [
    "type(ar)"
   ]
  },
  {
   "cell_type": "code",
   "execution_count": 6,
   "id": "c0d56db4",
   "metadata": {},
   "outputs": [
    {
     "data": {
      "text/plain": [
       "array(['1', '2', '3', '4', '5', '6', 'Hello'], dtype='<U11')"
      ]
     },
     "execution_count": 6,
     "metadata": {},
     "output_type": "execute_result"
    }
   ],
   "source": [
    "l=[1,2,3,4,5,6,'Hello']\n",
    "ar=np.array(l)\n",
    "ar"
   ]
  },
  {
   "cell_type": "code",
   "execution_count": 8,
   "id": "3e78d583",
   "metadata": {},
   "outputs": [
    {
     "data": {
      "text/plain": [
       "numpy.ndarray"
      ]
     },
     "execution_count": 8,
     "metadata": {},
     "output_type": "execute_result"
    }
   ],
   "source": [
    "type(ar)"
   ]
  },
  {
   "cell_type": "code",
   "execution_count": 9,
   "id": "a71c8a5e",
   "metadata": {},
   "outputs": [
    {
     "data": {
      "text/plain": [
       "array(['1', '2', '3', '4', '5', '6', 'Hello', '(4+3j)'], dtype='<U64')"
      ]
     },
     "execution_count": 9,
     "metadata": {},
     "output_type": "execute_result"
    }
   ],
   "source": [
    "l=[1,2,3,4,5,6,'Hello',4+3j]\n",
    "ar=np.array(l)\n",
    "ar"
   ]
  },
  {
   "cell_type": "code",
   "execution_count": 11,
   "id": "b959cefc",
   "metadata": {},
   "outputs": [
    {
     "data": {
      "text/plain": [
       "array([1, 2, 3, 4, 5, 6, 6])"
      ]
     },
     "execution_count": 11,
     "metadata": {},
     "output_type": "execute_result"
    }
   ],
   "source": [
    "l=[1,2,3,4,5,6,6.7]\n",
    "ar=np.array(l,dtype=int)\n",
    "ar"
   ]
  },
  {
   "cell_type": "code",
   "execution_count": 12,
   "id": "992bea92",
   "metadata": {},
   "outputs": [
    {
     "ename": "TypeError",
     "evalue": "int() argument must be a string, a bytes-like object or a real number, not 'complex'",
     "output_type": "error",
     "traceback": [
      "\u001b[1;31m---------------------------------------------------------------------------\u001b[0m",
      "\u001b[1;31mTypeError\u001b[0m                                 Traceback (most recent call last)",
      "Cell \u001b[1;32mIn[12], line 2\u001b[0m\n\u001b[0;32m      1\u001b[0m l\u001b[38;5;241m=\u001b[39m[\u001b[38;5;241m1\u001b[39m,\u001b[38;5;241m2\u001b[39m,\u001b[38;5;241m3\u001b[39m,\u001b[38;5;241m4\u001b[39m,\u001b[38;5;241m5\u001b[39m,\u001b[38;5;241m6\u001b[39m,\u001b[38;5;241m4\u001b[39m\u001b[38;5;241m+\u001b[39m\u001b[38;5;241m3\u001b[39mj]\n\u001b[1;32m----> 2\u001b[0m ar\u001b[38;5;241m=\u001b[39m\u001b[43mnp\u001b[49m\u001b[38;5;241;43m.\u001b[39;49m\u001b[43marray\u001b[49m\u001b[43m(\u001b[49m\u001b[43ml\u001b[49m\u001b[43m,\u001b[49m\u001b[43mdtype\u001b[49m\u001b[38;5;241;43m=\u001b[39;49m\u001b[38;5;28;43mint\u001b[39;49m\u001b[43m)\u001b[49m\n\u001b[0;32m      3\u001b[0m ar\n",
      "\u001b[1;31mTypeError\u001b[0m: int() argument must be a string, a bytes-like object or a real number, not 'complex'"
     ]
    }
   ],
   "source": [
    "l=[1,2,3,4,5,6,4+3j]\n",
    "ar=np.array(l,dtype=int)\n",
    "ar"
   ]
  },
  {
   "cell_type": "code",
   "execution_count": 13,
   "id": "2311dc7a",
   "metadata": {},
   "outputs": [
    {
     "data": {
      "text/plain": [
       "array(['1', '2', '3', '4', '5', '6', '(4+3j)'], dtype='<U6')"
      ]
     },
     "execution_count": 13,
     "metadata": {},
     "output_type": "execute_result"
    }
   ],
   "source": [
    "l=[1,2,3,4,5,6,4+3j]\n",
    "ar=np.array(l,dtype=str)\n",
    "ar"
   ]
  },
  {
   "cell_type": "code",
   "execution_count": 17,
   "id": "7d90f95f",
   "metadata": {},
   "outputs": [
    {
     "name": "stdout",
     "output_type": "stream",
     "text": [
      "Time Taken by List:  2.8251094818115234\n",
      "Time Taken by Numpy Array:  1.6818046569824219\n"
     ]
    }
   ],
   "source": [
    "import time\n",
    "\n",
    "s=time.time()\n",
    "l=list(range(10000000))\n",
    "for i in range(len(l)):\n",
    "    l[i]=l[i]*2\n",
    "e=time.time()\n",
    "print(\"Time Taken by List: \",e-s)\n",
    "\n",
    "\n",
    "\n",
    "s=time.time()\n",
    "l=np.array(range(10000000))\n",
    "l*=2\n",
    "e=time.time()\n",
    "print(\"Time Taken by Numpy Array: \",e-s)"
   ]
  },
  {
   "cell_type": "markdown",
   "id": "db7c7f76",
   "metadata": {},
   "source": [
    "### 0 Dimension Array"
   ]
  },
  {
   "cell_type": "code",
   "execution_count": 19,
   "id": "ccc3762a",
   "metadata": {},
   "outputs": [
    {
     "data": {
      "text/plain": [
       "array(10)"
      ]
     },
     "execution_count": 19,
     "metadata": {},
     "output_type": "execute_result"
    }
   ],
   "source": [
    "array0=np.array(10)\n",
    "array0\n"
   ]
  },
  {
   "cell_type": "code",
   "execution_count": 20,
   "id": "93b19e14",
   "metadata": {},
   "outputs": [
    {
     "data": {
      "text/plain": [
       "numpy.ndarray"
      ]
     },
     "execution_count": 20,
     "metadata": {},
     "output_type": "execute_result"
    }
   ],
   "source": [
    "type(array0)"
   ]
  },
  {
   "cell_type": "code",
   "execution_count": 21,
   "id": "a2ead9ca",
   "metadata": {},
   "outputs": [
    {
     "data": {
      "text/plain": [
       "0"
      ]
     },
     "execution_count": 21,
     "metadata": {},
     "output_type": "execute_result"
    }
   ],
   "source": [
    "array0.ndim"
   ]
  },
  {
   "cell_type": "markdown",
   "id": "2e0faf94",
   "metadata": {},
   "source": [
    "### 1 Dimension Array"
   ]
  },
  {
   "cell_type": "code",
   "execution_count": 23,
   "id": "5607ed9b",
   "metadata": {},
   "outputs": [
    {
     "data": {
      "text/plain": [
       "1"
      ]
     },
     "execution_count": 23,
     "metadata": {},
     "output_type": "execute_result"
    }
   ],
   "source": [
    "a=np.array([1,2,3,4,5,6])\n",
    "a.ndim"
   ]
  },
  {
   "cell_type": "markdown",
   "id": "31a66c8c",
   "metadata": {},
   "source": [
    "### 2 Dimension Array"
   ]
  },
  {
   "cell_type": "code",
   "execution_count": 33,
   "id": "1776511b",
   "metadata": {},
   "outputs": [
    {
     "data": {
      "text/plain": [
       "array([[1, 2, 3, 4, 5, 6],\n",
       "       [1, 2, 3, 4, 5, 6],\n",
       "       [1, 2, 3, 4, 5, 6]])"
      ]
     },
     "execution_count": 33,
     "metadata": {},
     "output_type": "execute_result"
    }
   ],
   "source": [
    "a=np.array([[1,2,3,4,5,6],[1,2,3,4,5,6],[1,2,3,4,5,6]])\n",
    "a.ndim\n",
    "a"
   ]
  },
  {
   "cell_type": "code",
   "execution_count": 34,
   "id": "bd5650bd",
   "metadata": {},
   "outputs": [
    {
     "data": {
      "text/plain": [
       "2"
      ]
     },
     "execution_count": 34,
     "metadata": {},
     "output_type": "execute_result"
    }
   ],
   "source": [
    "a.ndim"
   ]
  },
  {
   "cell_type": "markdown",
   "id": "33613a2e",
   "metadata": {},
   "source": [
    "### 3 Dimensional Array"
   ]
  },
  {
   "cell_type": "code",
   "execution_count": 35,
   "id": "8b4e6df1",
   "metadata": {},
   "outputs": [
    {
     "data": {
      "text/plain": [
       "array([[[1, 2, 3, 4, 5, 6],\n",
       "        [1, 2, 3, 4, 5, 6],\n",
       "        [1, 2, 3, 4, 5, 6],\n",
       "        [1, 2, 3, 4, 5, 6]]])"
      ]
     },
     "execution_count": 35,
     "metadata": {},
     "output_type": "execute_result"
    }
   ],
   "source": [
    "a=np.array([[[1,2,3,4,5,6],[1,2,3,4,5,6],[1,2,3,4,5,6],[1,2,3,4,5,6]]])\n",
    "a"
   ]
  },
  {
   "cell_type": "code",
   "execution_count": 36,
   "id": "c6640adb",
   "metadata": {},
   "outputs": [
    {
     "data": {
      "text/plain": [
       "3"
      ]
     },
     "execution_count": 36,
     "metadata": {},
     "output_type": "execute_result"
    }
   ],
   "source": [
    "a.ndim"
   ]
  },
  {
   "cell_type": "markdown",
   "id": "b6c07df0",
   "metadata": {},
   "source": [
    "### Indexing and Slicing "
   ]
  },
  {
   "cell_type": "code",
   "execution_count": 38,
   "id": "a7cf2a80",
   "metadata": {},
   "outputs": [
    {
     "data": {
      "text/plain": [
       "array([4])"
      ]
     },
     "execution_count": 38,
     "metadata": {},
     "output_type": "execute_result"
    }
   ],
   "source": [
    "a=np.array([1,2,3,4,5,6])\n",
    "a[3:4]"
   ]
  },
  {
   "cell_type": "code",
   "execution_count": 43,
   "id": "325cadd1",
   "metadata": {},
   "outputs": [
    {
     "data": {
      "text/plain": [
       "array([[ 1,  2,  3, 66, 52, 56],\n",
       "       [ 1,  2,  3, 66,  5, 56],\n",
       "       [ 1,  2,  3, 66,  5, 56],\n",
       "       [ 1,  2,  3, 44,  5,  6],\n",
       "       [ 1, 20,  3, 45, 59, 69]])"
      ]
     },
     "execution_count": 43,
     "metadata": {},
     "output_type": "execute_result"
    }
   ],
   "source": [
    "a=np.array([[1,2,3,66,52,56],[1,2,3,66,5,56],[1,2,3,66,5,56],[1,2,3,44,5,6],[1,20,3,45,59,69]])\n",
    "a"
   ]
  },
  {
   "cell_type": "code",
   "execution_count": 44,
   "id": "48fdd609",
   "metadata": {},
   "outputs": [
    {
     "data": {
      "text/plain": [
       "66"
      ]
     },
     "execution_count": 44,
     "metadata": {},
     "output_type": "execute_result"
    }
   ],
   "source": [
    "a[1,3]"
   ]
  },
  {
   "cell_type": "code",
   "execution_count": 46,
   "id": "00ea1429",
   "metadata": {},
   "outputs": [
    {
     "data": {
      "text/plain": [
       "array([5, 5, 5])"
      ]
     },
     "execution_count": 46,
     "metadata": {},
     "output_type": "execute_result"
    }
   ],
   "source": [
    "a[1:4,4]"
   ]
  },
  {
   "cell_type": "code",
   "execution_count": 47,
   "id": "5cf25c6e",
   "metadata": {},
   "outputs": [
    {
     "data": {
      "text/plain": [
       "array([56, 56, 56])"
      ]
     },
     "execution_count": 47,
     "metadata": {},
     "output_type": "execute_result"
    }
   ],
   "source": [
    "a[:3,5]"
   ]
  },
  {
   "cell_type": "code",
   "execution_count": 48,
   "id": "40317991",
   "metadata": {},
   "outputs": [
    {
     "data": {
      "text/plain": [
       "array([[ 1,  2,  3, 66, 52, 56],\n",
       "       [ 1,  2,  3, 66,  5, 56],\n",
       "       [ 1,  2,  3, 66,  5, 56],\n",
       "       [ 1,  2,  3, 44,  5,  6],\n",
       "       [ 1, 20,  3, 45, 59, 69]])"
      ]
     },
     "execution_count": 48,
     "metadata": {},
     "output_type": "execute_result"
    }
   ],
   "source": [
    "a=np.array([[1,2,3,66,52,56],[1,2,3,66,5,56],[1,2,3,66,5,56],[1,2,3,44,5,6],[1,20,3,45,59,69]])\n",
    "a"
   ]
  },
  {
   "cell_type": "markdown",
   "id": "5de3ab22",
   "metadata": {},
   "source": [
    "### Numpy function"
   ]
  },
  {
   "cell_type": "code",
   "execution_count": 50,
   "id": "cdeebd8a",
   "metadata": {},
   "outputs": [
    {
     "data": {
      "text/plain": [
       "(5, 6)"
      ]
     },
     "execution_count": 50,
     "metadata": {},
     "output_type": "execute_result"
    }
   ],
   "source": [
    "a.shape"
   ]
  },
  {
   "cell_type": "code",
   "execution_count": 51,
   "id": "cb0f24d8",
   "metadata": {},
   "outputs": [
    {
     "name": "stdout",
     "output_type": "stream",
     "text": [
      "i>> 1\n",
      "i>> 2\n",
      "i>> 3\n",
      "i>> 66\n",
      "i>> 52\n",
      "i>> 56\n",
      "i>> 1\n",
      "i>> 2\n",
      "i>> 3\n",
      "i>> 66\n",
      "i>> 5\n",
      "i>> 56\n",
      "i>> 1\n",
      "i>> 2\n",
      "i>> 3\n",
      "i>> 66\n",
      "i>> 5\n",
      "i>> 56\n",
      "i>> 1\n",
      "i>> 2\n",
      "i>> 3\n",
      "i>> 44\n",
      "i>> 5\n",
      "i>> 6\n",
      "i>> 1\n",
      "i>> 20\n",
      "i>> 3\n",
      "i>> 45\n",
      "i>> 59\n",
      "i>> 69\n"
     ]
    }
   ],
   "source": [
    "for i in a:\n",
    "    for j in i:\n",
    "        print(\"i>>\",j)"
   ]
  },
  {
   "cell_type": "code",
   "execution_count": 52,
   "id": "8f8eca84",
   "metadata": {},
   "outputs": [
    {
     "name": "stdout",
     "output_type": "stream",
     "text": [
      "i<< 1\n",
      "i<< 2\n",
      "i<< 3\n",
      "i<< 66\n",
      "i<< 52\n",
      "i<< 56\n",
      "i<< 1\n",
      "i<< 2\n",
      "i<< 3\n",
      "i<< 66\n",
      "i<< 5\n",
      "i<< 56\n",
      "i<< 1\n",
      "i<< 2\n",
      "i<< 3\n",
      "i<< 66\n",
      "i<< 5\n",
      "i<< 56\n",
      "i<< 1\n",
      "i<< 2\n",
      "i<< 3\n",
      "i<< 44\n",
      "i<< 5\n",
      "i<< 6\n",
      "i<< 1\n",
      "i<< 20\n",
      "i<< 3\n",
      "i<< 45\n",
      "i<< 59\n",
      "i<< 69\n"
     ]
    }
   ],
   "source": [
    "for i in np.nditer(a):\n",
    "    print(\"i<<\",i)"
   ]
  },
  {
   "cell_type": "code",
   "execution_count": 53,
   "id": "dfe1f59a",
   "metadata": {},
   "outputs": [
    {
     "name": "stdout",
     "output_type": "stream",
     "text": [
      "(0, 0) 1\n",
      "(0, 1) 2\n",
      "(0, 2) 3\n",
      "(0, 3) 66\n",
      "(0, 4) 52\n",
      "(0, 5) 56\n",
      "(1, 0) 1\n",
      "(1, 1) 2\n",
      "(1, 2) 3\n",
      "(1, 3) 66\n",
      "(1, 4) 5\n",
      "(1, 5) 56\n",
      "(2, 0) 1\n",
      "(2, 1) 2\n",
      "(2, 2) 3\n",
      "(2, 3) 66\n",
      "(2, 4) 5\n",
      "(2, 5) 56\n",
      "(3, 0) 1\n",
      "(3, 1) 2\n",
      "(3, 2) 3\n",
      "(3, 3) 44\n",
      "(3, 4) 5\n",
      "(3, 5) 6\n",
      "(4, 0) 1\n",
      "(4, 1) 20\n",
      "(4, 2) 3\n",
      "(4, 3) 45\n",
      "(4, 4) 59\n",
      "(4, 5) 69\n"
     ]
    }
   ],
   "source": [
    "for i,value in np.ndenumerate(a):\n",
    "    print(i,value)"
   ]
  },
  {
   "cell_type": "code",
   "execution_count": 55,
   "id": "f00504ad",
   "metadata": {},
   "outputs": [
    {
     "data": {
      "text/plain": [
       "array([ 1,  2,  3, 66, 52, 56,  1,  2,  3, 66,  5, 56,  1,  2,  3, 66,  5,\n",
       "       56,  1,  2,  3, 44,  5,  6,  1, 20,  3, 45, 59, 69])"
      ]
     },
     "execution_count": 55,
     "metadata": {},
     "output_type": "execute_result"
    }
   ],
   "source": [
    "a.flatten()"
   ]
  },
  {
   "cell_type": "code",
   "execution_count": 56,
   "id": "7198b12c",
   "metadata": {},
   "outputs": [
    {
     "data": {
      "text/plain": [
       "array([[ 1,  2,  3, 66, 52, 56],\n",
       "       [ 1,  2,  3, 66,  5, 56],\n",
       "       [ 1,  2,  3, 66,  5, 56],\n",
       "       [ 1,  2,  3, 44,  5,  6],\n",
       "       [ 1, 20,  3, 45, 59, 69]])"
      ]
     },
     "execution_count": 56,
     "metadata": {},
     "output_type": "execute_result"
    }
   ],
   "source": [
    "a=np.array([[1,2,3,66,52,56],[1,2,3,66,5,56],[1,2,3,66,5,56],[1,2,3,44,5,6],[1,20,3,45,59,69]])\n",
    "a\n"
   ]
  },
  {
   "cell_type": "code",
   "execution_count": 57,
   "id": "ae419380",
   "metadata": {},
   "outputs": [
    {
     "data": {
      "text/plain": [
       "array([ 1,  2,  3, 66, 52, 56,  1,  2,  3, 66,  5, 56,  1,  2,  3, 66,  5,\n",
       "       56,  1,  2,  3, 44,  5,  6,  1, 20,  3, 45, 59, 69])"
      ]
     },
     "execution_count": 57,
     "metadata": {},
     "output_type": "execute_result"
    }
   ],
   "source": [
    "ar=a.ravel()\n",
    "ar"
   ]
  },
  {
   "cell_type": "code",
   "execution_count": 62,
   "id": "dc2b939d",
   "metadata": {},
   "outputs": [
    {
     "name": "stdout",
     "output_type": "stream",
     "text": [
      "a>> [   1    2 1000   66   52   56    1    2    3   66    5   56    1    2\n",
      "    3   66    5   56    1    2    3   44    5    6    1   20    3   45\n",
      "   59   69]\n",
      "************************************************************\n",
      "Original>>> [[   1    2 1000   66   52   56]\n",
      " [   1    2    3   66    5   56]\n",
      " [   1    2    3   66    5   56]\n",
      " [   1    2    3   44    5    6]\n",
      " [   1   20    3   45   59   69]]\n"
     ]
    }
   ],
   "source": [
    "arr=np.array([[1,2,3,66,52,56],[1,2,3,66,5,56],[1,2,3,66,5,56],[1,2,3,44,5,6],[1,20,3,45,59,69]])\n",
    "a=arr.ravel()\n",
    "a[2]=1000\n",
    "print(\"a>>\",a)\n",
    "print('*'*60)\n",
    "print(\"Original>>>\",arr)\n",
    "### Value in Original array is also Changed using Ravel"
   ]
  },
  {
   "cell_type": "code",
   "execution_count": 65,
   "id": "b6257fb3",
   "metadata": {},
   "outputs": [
    {
     "name": "stdout",
     "output_type": "stream",
     "text": [
      "a>> [   1    2 1000   66   52   56    1    2    3   66    5   56    1    2\n",
      "    3   66    5   56    1    2    3   44    5    6    1   20    3   45\n",
      "   59   69]\n",
      "************************************************************\n",
      "Original>>> [[ 1  2  3 66 52 56]\n",
      " [ 1  2  3 66  5 56]\n",
      " [ 1  2  3 66  5 56]\n",
      " [ 1  2  3 44  5  6]\n",
      " [ 1 20  3 45 59 69]]\n"
     ]
    }
   ],
   "source": [
    "arr=np.array([[1,2,3,66,52,56],[1,2,3,66,5,56],[1,2,3,66,5,56],[1,2,3,44,5,6],[1,20,3,45,59,69]])\n",
    "b=arr.flatten()\n",
    "b[2]=1000\n",
    "print(\"a>>\",b)\n",
    "print('*'*60)\n",
    "print(\"Original>>>\",arr)\n",
    "### Value in Original array is not Changed "
   ]
  },
  {
   "cell_type": "code",
   "execution_count": 67,
   "id": "2c62c48b",
   "metadata": {
    "scrolled": true
   },
   "outputs": [
    {
     "data": {
      "text/plain": [
       "array([[1, 1, 1, 1],\n",
       "       [1, 1, 1, 1],\n",
       "       [1, 1, 1, 1],\n",
       "       [1, 1, 1, 1],\n",
       "       [1, 1, 1, 1],\n",
       "       [1, 1, 1, 1],\n",
       "       [1, 1, 1, 1],\n",
       "       [1, 1, 1, 1],\n",
       "       [1, 1, 1, 1],\n",
       "       [1, 1, 1, 1]])"
      ]
     },
     "execution_count": 67,
     "metadata": {},
     "output_type": "execute_result"
    }
   ],
   "source": [
    "ones=np.ones((10,4),dtype=int)\n",
    "ones"
   ]
  },
  {
   "cell_type": "code",
   "execution_count": 68,
   "id": "d2fe5120",
   "metadata": {},
   "outputs": [
    {
     "data": {
      "text/plain": [
       "array([[0, 0, 0, 0],\n",
       "       [0, 0, 0, 0],\n",
       "       [0, 0, 0, 0],\n",
       "       [0, 0, 0, 0],\n",
       "       [0, 0, 0, 0],\n",
       "       [0, 0, 0, 0],\n",
       "       [0, 0, 0, 0],\n",
       "       [0, 0, 0, 0],\n",
       "       [0, 0, 0, 0],\n",
       "       [0, 0, 0, 0]])"
      ]
     },
     "execution_count": 68,
     "metadata": {},
     "output_type": "execute_result"
    }
   ],
   "source": [
    "ones=np.zeros((10,4),dtype=int)\n",
    "zeroes"
   ]
  },
  {
   "cell_type": "code",
   "execution_count": 69,
   "id": "9e76f247",
   "metadata": {},
   "outputs": [
    {
     "data": {
      "text/plain": [
       "array([[45, 36, 50, 20, 23, 31],\n",
       "       [31, 32, 25, 20, 28, 16],\n",
       "       [41, 39, 48, 17, 21, 29],\n",
       "       [37, 17, 45, 45, 43, 35],\n",
       "       [30, 11, 50, 32, 23, 24],\n",
       "       [18, 43, 44, 16, 31, 26],\n",
       "       [16, 19, 33, 22, 44, 40],\n",
       "       [15, 11, 40, 45, 23, 33],\n",
       "       [22, 25, 32, 25, 35, 17],\n",
       "       [23, 23, 25, 40, 20, 20]])"
      ]
     },
     "execution_count": 69,
     "metadata": {},
     "output_type": "execute_result"
    }
   ],
   "source": [
    "arr=np.random.randint(11,51,size=(10,6))\n",
    "arr"
   ]
  },
  {
   "cell_type": "code",
   "execution_count": 70,
   "id": "918f83aa",
   "metadata": {},
   "outputs": [
    {
     "data": {
      "text/html": [
       "<div>\n",
       "<style scoped>\n",
       "    .dataframe tbody tr th:only-of-type {\n",
       "        vertical-align: middle;\n",
       "    }\n",
       "\n",
       "    .dataframe tbody tr th {\n",
       "        vertical-align: top;\n",
       "    }\n",
       "\n",
       "    .dataframe thead th {\n",
       "        text-align: right;\n",
       "    }\n",
       "</style>\n",
       "<table border=\"1\" class=\"dataframe\">\n",
       "  <thead>\n",
       "    <tr style=\"text-align: right;\">\n",
       "      <th></th>\n",
       "      <th>0</th>\n",
       "      <th>1</th>\n",
       "      <th>2</th>\n",
       "      <th>3</th>\n",
       "      <th>4</th>\n",
       "      <th>5</th>\n",
       "    </tr>\n",
       "  </thead>\n",
       "  <tbody>\n",
       "    <tr>\n",
       "      <th>0</th>\n",
       "      <td>45</td>\n",
       "      <td>36</td>\n",
       "      <td>50</td>\n",
       "      <td>20</td>\n",
       "      <td>23</td>\n",
       "      <td>31</td>\n",
       "    </tr>\n",
       "    <tr>\n",
       "      <th>1</th>\n",
       "      <td>31</td>\n",
       "      <td>32</td>\n",
       "      <td>25</td>\n",
       "      <td>20</td>\n",
       "      <td>28</td>\n",
       "      <td>16</td>\n",
       "    </tr>\n",
       "    <tr>\n",
       "      <th>2</th>\n",
       "      <td>41</td>\n",
       "      <td>39</td>\n",
       "      <td>48</td>\n",
       "      <td>17</td>\n",
       "      <td>21</td>\n",
       "      <td>29</td>\n",
       "    </tr>\n",
       "    <tr>\n",
       "      <th>3</th>\n",
       "      <td>37</td>\n",
       "      <td>17</td>\n",
       "      <td>45</td>\n",
       "      <td>45</td>\n",
       "      <td>43</td>\n",
       "      <td>35</td>\n",
       "    </tr>\n",
       "    <tr>\n",
       "      <th>4</th>\n",
       "      <td>30</td>\n",
       "      <td>11</td>\n",
       "      <td>50</td>\n",
       "      <td>32</td>\n",
       "      <td>23</td>\n",
       "      <td>24</td>\n",
       "    </tr>\n",
       "    <tr>\n",
       "      <th>5</th>\n",
       "      <td>18</td>\n",
       "      <td>43</td>\n",
       "      <td>44</td>\n",
       "      <td>16</td>\n",
       "      <td>31</td>\n",
       "      <td>26</td>\n",
       "    </tr>\n",
       "    <tr>\n",
       "      <th>6</th>\n",
       "      <td>16</td>\n",
       "      <td>19</td>\n",
       "      <td>33</td>\n",
       "      <td>22</td>\n",
       "      <td>44</td>\n",
       "      <td>40</td>\n",
       "    </tr>\n",
       "    <tr>\n",
       "      <th>7</th>\n",
       "      <td>15</td>\n",
       "      <td>11</td>\n",
       "      <td>40</td>\n",
       "      <td>45</td>\n",
       "      <td>23</td>\n",
       "      <td>33</td>\n",
       "    </tr>\n",
       "    <tr>\n",
       "      <th>8</th>\n",
       "      <td>22</td>\n",
       "      <td>25</td>\n",
       "      <td>32</td>\n",
       "      <td>25</td>\n",
       "      <td>35</td>\n",
       "      <td>17</td>\n",
       "    </tr>\n",
       "    <tr>\n",
       "      <th>9</th>\n",
       "      <td>23</td>\n",
       "      <td>23</td>\n",
       "      <td>25</td>\n",
       "      <td>40</td>\n",
       "      <td>20</td>\n",
       "      <td>20</td>\n",
       "    </tr>\n",
       "  </tbody>\n",
       "</table>\n",
       "</div>"
      ],
      "text/plain": [
       "    0   1   2   3   4   5\n",
       "0  45  36  50  20  23  31\n",
       "1  31  32  25  20  28  16\n",
       "2  41  39  48  17  21  29\n",
       "3  37  17  45  45  43  35\n",
       "4  30  11  50  32  23  24\n",
       "5  18  43  44  16  31  26\n",
       "6  16  19  33  22  44  40\n",
       "7  15  11  40  45  23  33\n",
       "8  22  25  32  25  35  17\n",
       "9  23  23  25  40  20  20"
      ]
     },
     "execution_count": 70,
     "metadata": {},
     "output_type": "execute_result"
    }
   ],
   "source": [
    "import pandas as pd\n",
    "df=pd.DataFrame(arr)\n",
    "df"
   ]
  },
  {
   "cell_type": "code",
   "execution_count": 71,
   "id": "fe370da7",
   "metadata": {},
   "outputs": [
    {
     "data": {
      "text/plain": [
       "<Axes: ylabel='Density'>"
      ]
     },
     "execution_count": 71,
     "metadata": {},
     "output_type": "execute_result"
    },
    {
     "data": {
      "image/png": "[encoded data removed]",
      "text/plain": [
       "<Figure size 640x480 with 1 Axes>"
      ]
     },
     "metadata": {},
     "output_type": "display_data"
    }
   ],
   "source": [
    "import seaborn as sns\n",
    "a=np.random.randn(10)\n",
    "sns.kdeplot(a)"
   ]
  },
  {
   "cell_type": "code",
   "execution_count": 74,
   "id": "d3c3b339",
   "metadata": {},
   "outputs": [
    {
     "data": {
      "text/plain": [
       "array([21, 32, 40, 39, 33, 19, 36, 10, 15, 49, 33, 15, 11, 32, 33, 30, 29,\n",
       "       49, 43, 36])"
      ]
     },
     "execution_count": 74,
     "metadata": {},
     "output_type": "execute_result"
    }
   ],
   "source": [
    "a=np.random.randint(10,50,size=20)\n",
    "a"
   ]
  },
  {
   "cell_type": "code",
   "execution_count": 76,
   "id": "fecd3058",
   "metadata": {},
   "outputs": [
    {
     "data": {
      "text/html": [
       "<div>\n",
       "<style scoped>\n",
       "    .dataframe tbody tr th:only-of-type {\n",
       "        vertical-align: middle;\n",
       "    }\n",
       "\n",
       "    .dataframe tbody tr th {\n",
       "        vertical-align: top;\n",
       "    }\n",
       "\n",
       "    .dataframe thead th {\n",
       "        text-align: right;\n",
       "    }\n",
       "</style>\n",
       "<table border=\"1\" class=\"dataframe\">\n",
       "  <thead>\n",
       "    <tr style=\"text-align: right;\">\n",
       "      <th></th>\n",
       "      <th>zeros</th>\n",
       "      <th>ones</th>\n",
       "      <th>full</th>\n",
       "      <th>arange</th>\n",
       "      <th>random</th>\n",
       "    </tr>\n",
       "  </thead>\n",
       "  <tbody>\n",
       "    <tr>\n",
       "      <th>0</th>\n",
       "      <td>0</td>\n",
       "      <td>1</td>\n",
       "      <td>8</td>\n",
       "      <td>11</td>\n",
       "      <td>45</td>\n",
       "    </tr>\n",
       "    <tr>\n",
       "      <th>1</th>\n",
       "      <td>0</td>\n",
       "      <td>1</td>\n",
       "      <td>8</td>\n",
       "      <td>12</td>\n",
       "      <td>24</td>\n",
       "    </tr>\n",
       "    <tr>\n",
       "      <th>2</th>\n",
       "      <td>0</td>\n",
       "      <td>1</td>\n",
       "      <td>8</td>\n",
       "      <td>13</td>\n",
       "      <td>13</td>\n",
       "    </tr>\n",
       "    <tr>\n",
       "      <th>3</th>\n",
       "      <td>0</td>\n",
       "      <td>1</td>\n",
       "      <td>8</td>\n",
       "      <td>14</td>\n",
       "      <td>44</td>\n",
       "    </tr>\n",
       "    <tr>\n",
       "      <th>4</th>\n",
       "      <td>0</td>\n",
       "      <td>1</td>\n",
       "      <td>8</td>\n",
       "      <td>15</td>\n",
       "      <td>28</td>\n",
       "    </tr>\n",
       "    <tr>\n",
       "      <th>5</th>\n",
       "      <td>0</td>\n",
       "      <td>1</td>\n",
       "      <td>8</td>\n",
       "      <td>16</td>\n",
       "      <td>45</td>\n",
       "    </tr>\n",
       "    <tr>\n",
       "      <th>6</th>\n",
       "      <td>0</td>\n",
       "      <td>1</td>\n",
       "      <td>8</td>\n",
       "      <td>17</td>\n",
       "      <td>30</td>\n",
       "    </tr>\n",
       "    <tr>\n",
       "      <th>7</th>\n",
       "      <td>0</td>\n",
       "      <td>1</td>\n",
       "      <td>8</td>\n",
       "      <td>18</td>\n",
       "      <td>23</td>\n",
       "    </tr>\n",
       "    <tr>\n",
       "      <th>8</th>\n",
       "      <td>0</td>\n",
       "      <td>1</td>\n",
       "      <td>8</td>\n",
       "      <td>19</td>\n",
       "      <td>36</td>\n",
       "    </tr>\n",
       "    <tr>\n",
       "      <th>9</th>\n",
       "      <td>0</td>\n",
       "      <td>1</td>\n",
       "      <td>8</td>\n",
       "      <td>20</td>\n",
       "      <td>41</td>\n",
       "    </tr>\n",
       "  </tbody>\n",
       "</table>\n",
       "</div>"
      ],
      "text/plain": [
       "   zeros  ones  full  arange  random\n",
       "0      0     1     8      11      45\n",
       "1      0     1     8      12      24\n",
       "2      0     1     8      13      13\n",
       "3      0     1     8      14      44\n",
       "4      0     1     8      15      28\n",
       "5      0     1     8      16      45\n",
       "6      0     1     8      17      30\n",
       "7      0     1     8      18      23\n",
       "8      0     1     8      19      36\n",
       "9      0     1     8      20      41"
      ]
     },
     "execution_count": 76,
     "metadata": {},
     "output_type": "execute_result"
    }
   ],
   "source": [
    "\n",
    "data={'zeros':np.zeros(10,dtype=int),\n",
    "     'ones':np.ones(10,dtype=int),\n",
    "     'full':np.full(10,8),\n",
    "     'arange':np.arange(11,21),\n",
    "     'random':np.random.randint(10,51,size=10)}\n",
    "df=pd.DataFrame(data)\n",
    "df"
   ]
  },
  {
   "cell_type": "code",
   "execution_count": null,
   "id": "8bd90004",
   "metadata": {},
   "outputs": [],
   "source": []
  }
 ],
 "metadata": {
  "kernelspec": {
   "display_name": "Python 3 (ipykernel)",
   "language": "python",
   "name": "python3"
  },
  "language_info": {
   "codemirror_mode": {
    "name": "ipython",
    "version": 3
   },
   "file_extension": ".py",
   "mimetype": "text/x-python",
   "name": "python",
   "nbconvert_exporter": "python",
   "pygments_lexer": "ipython3",
   "version": "3.10.9"
  }
 },
 "nbformat": 4,
 "nbformat_minor": 5
}
