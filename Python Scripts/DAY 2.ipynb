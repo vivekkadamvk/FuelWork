{
 "cells": [
  {
   "cell_type": "markdown",
   "id": "9bedc4b0",
   "metadata": {},
   "source": [
    "# Python Pretest"
   ]
  },
  {
   "cell_type": "markdown",
   "id": "3afc4e7e",
   "metadata": {},
   "source": [
    "1) Python is a Interpreted, Dynamic and Objectect Oriented Programming Language\n",
    "Interpreter converts the high level language code into low level language code line by line.\n",
    "Dynamic Typed language is a language  in which user need not to mention the data type of variables"
   ]
  },
  {
   "cell_type": "markdown",
   "id": "d14a46e3",
   "metadata": {},
   "source": [
    "2) Identifier is an name of any function, variable or method while variable is an entity which is used to store some kind of data"
   ]
  },
  {
   "cell_type": "markdown",
   "id": "067f1c7a",
   "metadata": {},
   "source": [
    "3) Indexing is used to access the data according to their position from advanced data types like list, tuple.\n",
    "Slicing is used to access the specific range of elements"
   ]
  },
  {
   "cell_type": "markdown",
   "id": "1b9bf8c0",
   "metadata": {},
   "source": [
    "4) list and tuple are the advanced data types containing multiple values of different data types\n",
    "lists are mutable and tuples are immutable\n",
    "immutables cannot change their values once defined mutables can be changed"
   ]
  },
  {
   "cell_type": "markdown",
   "id": "2fb54e34",
   "metadata": {},
   "source": [
    "5) operators are used to perform any kind of operations on the operands\n",
    "their are relational, arithmetic, assignment, logical, comparison, bitwise,membership and identity operators. "
   ]
  },
  {
   "cell_type": "markdown",
   "id": "c5cadcd4",
   "metadata": {},
   "source": [
    "6) mean is the average value calculated by performing sum of values divide by number of values\n",
    " median is the middle value after performing sorting mode is the frequently occuring value in the given data"
   ]
  },
  {
   "cell_type": "markdown",
   "id": "6a0b32e2",
   "metadata": {},
   "source": [
    "7) key features of python\n",
    "object oriented, interpreted, dynamic, easy to use"
   ]
  },
  {
   "cell_type": "markdown",
   "id": "5d6bd949",
   "metadata": {},
   "source": [
    "8) data types\n",
    "int, float, char, string, boolean, list, tuple, set and dictionary"
   ]
  },
  {
   "cell_type": "markdown",
   "id": "07a99f8f",
   "metadata": {},
   "source": [
    "9) local variables are accessible within the function or within the local object\n",
    "global variables are accessible throughout the code"
   ]
  },
  {
   "cell_type": "markdown",
   "id": "5ae7423a",
   "metadata": {},
   "source": [
    "10) '#' is used to write an comment is python for single line\n",
    "'/* */' is used for multiline comment "
   ]
  },
  {
   "cell_type": "markdown",
   "id": "9df24049",
   "metadata": {},
   "source": [
    "11) '/* */' is used for multiline comment"
   ]
  },
  {
   "cell_type": "markdown",
   "id": "9bd87706",
   "metadata": {},
   "source": [
    "12) literals are a notation for representing a fixed value in source code."
   ]
  },
  {
   "cell_type": "markdown",
   "id": "c5f32fb0",
   "metadata": {},
   "source": [
    "13) we can assign values to variables using assignment operator as\n",
    "a=10, b=15"
   ]
  },
  {
   "cell_type": "markdown",
   "id": "549e93bd",
   "metadata": {},
   "source": [
    "14) list is advanced data type in python which is used to store multiple data values\n"
   ]
  },
  {
   "cell_type": "code",
   "execution_count": 19,
   "id": "2deaef2f",
   "metadata": {},
   "outputs": [],
   "source": [
    "list1=[1,2,3,4,5]"
   ]
  },
  {
   "cell_type": "code",
   "execution_count": 16,
   "id": "057ed726",
   "metadata": {},
   "outputs": [
    {
     "name": "stdout",
     "output_type": "stream",
     "text": [
      "3\n"
     ]
    }
   ],
   "source": [
    "print(list1[2])"
   ]
  },
  {
   "cell_type": "code",
   "execution_count": 17,
   "id": "cfa73d0c",
   "metadata": {},
   "outputs": [],
   "source": [
    "list1[3]=6"
   ]
  },
  {
   "cell_type": "code",
   "execution_count": 20,
   "id": "0f350364",
   "metadata": {},
   "outputs": [
    {
     "name": "stdout",
     "output_type": "stream",
     "text": [
      "4\n"
     ]
    }
   ],
   "source": [
    "print(list1[3])"
   ]
  },
  {
   "cell_type": "markdown",
   "id": "07f99a84",
   "metadata": {},
   "source": [
    "# Day 1"
   ]
  },
  {
   "cell_type": "markdown",
   "id": "9ea4114f",
   "metadata": {},
   "source": [
    "### Type Casting"
   ]
  },
  {
   "cell_type": "code",
   "execution_count": 1,
   "id": "dc2737c9",
   "metadata": {},
   "outputs": [],
   "source": [
    "a=10"
   ]
  },
  {
   "cell_type": "code",
   "execution_count": 2,
   "id": "e4b297b6",
   "metadata": {},
   "outputs": [],
   "source": [
    "b=bool(a)"
   ]
  },
  {
   "cell_type": "code",
   "execution_count": 3,
   "id": "5a7328e6",
   "metadata": {},
   "outputs": [
    {
     "name": "stdout",
     "output_type": "stream",
     "text": [
      "True\n"
     ]
    }
   ],
   "source": [
    "print(b)"
   ]
  },
  {
   "cell_type": "code",
   "execution_count": 4,
   "id": "a4b6ca2b",
   "metadata": {},
   "outputs": [],
   "source": [
    "c=0"
   ]
  },
  {
   "cell_type": "code",
   "execution_count": 5,
   "id": "bbc0d7db",
   "metadata": {},
   "outputs": [
    {
     "name": "stdout",
     "output_type": "stream",
     "text": [
      "False\n"
     ]
    }
   ],
   "source": [
    "print(bool(c))"
   ]
  },
  {
   "cell_type": "code",
   "execution_count": 16,
   "id": "1d8208ae",
   "metadata": {},
   "outputs": [],
   "source": [
    "d=10.5+0j"
   ]
  },
  {
   "cell_type": "code",
   "execution_count": 17,
   "id": "ead3fd36",
   "metadata": {},
   "outputs": [
    {
     "ename": "TypeError",
     "evalue": "float() argument must be a string or a real number, not 'complex'",
     "output_type": "error",
     "traceback": [
      "\u001b[1;31m---------------------------------------------------------------------------\u001b[0m",
      "\u001b[1;31mTypeError\u001b[0m                                 Traceback (most recent call last)",
      "Cell \u001b[1;32mIn[17], line 1\u001b[0m\n\u001b[1;32m----> 1\u001b[0m \u001b[38;5;28mprint\u001b[39m(\u001b[38;5;28;43mfloat\u001b[39;49m\u001b[43m(\u001b[49m\u001b[43md\u001b[49m\u001b[43m)\u001b[49m)\n",
      "\u001b[1;31mTypeError\u001b[0m: float() argument must be a string or a real number, not 'complex'"
     ]
    }
   ],
   "source": [
    "print(float(d))"
   ]
  },
  {
   "cell_type": "code",
   "execution_count": 21,
   "id": "e0ccba2a",
   "metadata": {},
   "outputs": [],
   "source": [
    "a=45.75"
   ]
  },
  {
   "cell_type": "code",
   "execution_count": 23,
   "id": "ec7ba70c",
   "metadata": {},
   "outputs": [
    {
     "name": "stdout",
     "output_type": "stream",
     "text": [
      "45\n"
     ]
    }
   ],
   "source": [
    "print(int(a))"
   ]
  },
  {
   "cell_type": "code",
   "execution_count": 25,
   "id": "73ce5ed0",
   "metadata": {},
   "outputs": [
    {
     "data": {
      "text/plain": [
       "float"
      ]
     },
     "execution_count": 25,
     "metadata": {},
     "output_type": "execute_result"
    }
   ],
   "source": [
    "type(a)"
   ]
  },
  {
   "cell_type": "code",
   "execution_count": 26,
   "id": "c4007d10",
   "metadata": {},
   "outputs": [],
   "source": [
    "a=\"Hello\""
   ]
  },
  {
   "cell_type": "code",
   "execution_count": 31,
   "id": "0a530de3",
   "metadata": {},
   "outputs": [
    {
     "ename": "ValueError",
     "evalue": "invalid literal for int() with base 10: 'Hello'",
     "output_type": "error",
     "traceback": [
      "\u001b[1;31m---------------------------------------------------------------------------\u001b[0m",
      "\u001b[1;31mValueError\u001b[0m                                Traceback (most recent call last)",
      "Cell \u001b[1;32mIn[31], line 1\u001b[0m\n\u001b[1;32m----> 1\u001b[0m \u001b[38;5;28mprint\u001b[39m(\u001b[38;5;28;43mint\u001b[39;49m\u001b[43m(\u001b[49m\u001b[43ma\u001b[49m\u001b[43m)\u001b[49m)\n",
      "\u001b[1;31mValueError\u001b[0m: invalid literal for int() with base 10: 'Hello'"
     ]
    }
   ],
   "source": [
    "print(int(a))"
   ]
  },
  {
   "cell_type": "markdown",
   "id": "2d70b434",
   "metadata": {},
   "source": [
    "### ASCII Value"
   ]
  },
  {
   "cell_type": "code",
   "execution_count": 40,
   "id": "6972fbbe",
   "metadata": {},
   "outputs": [
    {
     "name": "stdout",
     "output_type": "stream",
     "text": [
      "65\n"
     ]
    }
   ],
   "source": [
    "a='A'\n",
    "print(ord(a))"
   ]
  },
  {
   "cell_type": "code",
   "execution_count": 41,
   "id": "558e3c8e",
   "metadata": {},
   "outputs": [
    {
     "name": "stdout",
     "output_type": "stream",
     "text": [
      "<class 'str'>\n"
     ]
    }
   ],
   "source": [
    "print(type(a))"
   ]
  },
  {
   "cell_type": "code",
   "execution_count": 42,
   "id": "2955e3ee",
   "metadata": {},
   "outputs": [],
   "source": [
    "import numpy as np"
   ]
  },
  {
   "cell_type": "code",
   "execution_count": 50,
   "id": "15396402",
   "metadata": {},
   "outputs": [],
   "source": [
    "array=np.array([1,2,3,4,1.5,1.7,\"string\"]) #array is homogenous datatype\n",
    "# depends on the output data type"
   ]
  },
  {
   "cell_type": "code",
   "execution_count": 51,
   "id": "2e87e379",
   "metadata": {},
   "outputs": [
    {
     "data": {
      "text/plain": [
       "array(['1', '2', '3', '4', '1.5', '1.7', 'string'], dtype='<U32')"
      ]
     },
     "execution_count": 51,
     "metadata": {},
     "output_type": "execute_result"
    }
   ],
   "source": [
    "array"
   ]
  },
  {
   "cell_type": "markdown",
   "id": "8f34b455",
   "metadata": {},
   "source": [
    "1 List"
   ]
  },
  {
   "cell_type": "code",
   "execution_count": 52,
   "id": "d0f24485",
   "metadata": {},
   "outputs": [],
   "source": [
    "list1=[1,2,3,4,\"hii\",4.5] #list is heterogenous"
   ]
  },
  {
   "cell_type": "code",
   "execution_count": 53,
   "id": "d742e44a",
   "metadata": {},
   "outputs": [
    {
     "name": "stdout",
     "output_type": "stream",
     "text": [
      "[1, 2, 3, 4, 'hii', 4.5]\n"
     ]
    }
   ],
   "source": [
    "print(list1)"
   ]
  },
  {
   "cell_type": "code",
   "execution_count": 54,
   "id": "2918299f",
   "metadata": {},
   "outputs": [
    {
     "name": "stdout",
     "output_type": "stream",
     "text": [
      "4\n"
     ]
    }
   ],
   "source": [
    "#indexing\n",
    "print(list1[3])"
   ]
  },
  {
   "cell_type": "code",
   "execution_count": 55,
   "id": "1115481b",
   "metadata": {},
   "outputs": [
    {
     "name": "stdout",
     "output_type": "stream",
     "text": [
      "hii\n"
     ]
    }
   ],
   "source": [
    "print(list1[-2])"
   ]
  },
  {
   "cell_type": "code",
   "execution_count": 56,
   "id": "42fa6d18",
   "metadata": {},
   "outputs": [],
   "source": [
    "# Slicing used for accessing multiple elements"
   ]
  },
  {
   "cell_type": "code",
   "execution_count": 57,
   "id": "c26af456",
   "metadata": {},
   "outputs": [],
   "source": [
    "l=[1,2,3,4,5,6,7,8,9]"
   ]
  },
  {
   "cell_type": "code",
   "execution_count": 58,
   "id": "bc8e3d4b",
   "metadata": {},
   "outputs": [
    {
     "name": "stdout",
     "output_type": "stream",
     "text": [
      "[1, 2, 3, 4, 5]\n"
     ]
    }
   ],
   "source": [
    "print(l[0:5])"
   ]
  },
  {
   "cell_type": "code",
   "execution_count": 62,
   "id": "4ab32a99",
   "metadata": {},
   "outputs": [
    {
     "data": {
      "text/plain": [
       "[1, 2, 3, 4, 'hii', 4.5]"
      ]
     },
     "execution_count": 62,
     "metadata": {},
     "output_type": "execute_result"
    }
   ],
   "source": [
    "list1[0:]"
   ]
  },
  {
   "cell_type": "code",
   "execution_count": 68,
   "id": "a05e46b7",
   "metadata": {},
   "outputs": [
    {
     "data": {
      "text/plain": [
       "[2, 3, 4, 'hii', 4.5]"
      ]
     },
     "execution_count": 68,
     "metadata": {},
     "output_type": "execute_result"
    }
   ],
   "source": [
    "list1[-5:]"
   ]
  },
  {
   "cell_type": "code",
   "execution_count": 69,
   "id": "1cf20dcb",
   "metadata": {},
   "outputs": [
    {
     "data": {
      "text/plain": [
       "[4]"
      ]
     },
     "execution_count": 69,
     "metadata": {},
     "output_type": "execute_result"
    }
   ],
   "source": [
    "l[-6:-5]"
   ]
  },
  {
   "cell_type": "code",
   "execution_count": 70,
   "id": "6c53bdbf",
   "metadata": {},
   "outputs": [
    {
     "data": {
      "text/plain": [
       "[1, 3, 5, 7, 9]"
      ]
     },
     "execution_count": 70,
     "metadata": {},
     "output_type": "execute_result"
    }
   ],
   "source": [
    "l[::2]"
   ]
  },
  {
   "cell_type": "code",
   "execution_count": 71,
   "id": "cbc4a193",
   "metadata": {},
   "outputs": [
    {
     "data": {
      "text/plain": [
       "[1, 2, 3, 4, 5, 6, 7, 8, 9]"
      ]
     },
     "execution_count": 71,
     "metadata": {},
     "output_type": "execute_result"
    }
   ],
   "source": [
    "l[::1]"
   ]
  },
  {
   "cell_type": "code",
   "execution_count": 72,
   "id": "6b94cbb8",
   "metadata": {},
   "outputs": [
    {
     "data": {
      "text/plain": [
       "[9, 8, 7, 6, 5, 4, 3, 2, 1]"
      ]
     },
     "execution_count": 72,
     "metadata": {},
     "output_type": "execute_result"
    }
   ],
   "source": [
    "l[::-1]\n",
    "#reverse list using slicing without for loop or function"
   ]
  },
  {
   "cell_type": "code",
   "execution_count": 73,
   "id": "135e79ec",
   "metadata": {},
   "outputs": [
    {
     "data": {
      "text/plain": [
       "[9]"
      ]
     },
     "execution_count": 73,
     "metadata": {},
     "output_type": "execute_result"
    }
   ],
   "source": [
    "l[-1::]"
   ]
  },
  {
   "cell_type": "code",
   "execution_count": 74,
   "id": "4a1817ff",
   "metadata": {},
   "outputs": [
    {
     "data": {
      "text/plain": [
       "[1, 2, 3, 4, 5, 6, 7, 8, 9]"
      ]
     },
     "execution_count": 74,
     "metadata": {},
     "output_type": "execute_result"
    }
   ],
   "source": [
    "l[-9::1]"
   ]
  },
  {
   "cell_type": "code",
   "execution_count": 75,
   "id": "5a32db20",
   "metadata": {},
   "outputs": [
    {
     "data": {
      "text/plain": [
       "[9, 8, 7, 6, 5, 4, 3, 2, 1]"
      ]
     },
     "execution_count": 75,
     "metadata": {},
     "output_type": "execute_result"
    }
   ],
   "source": [
    "l[-1::-1]"
   ]
  },
  {
   "cell_type": "markdown",
   "id": "0d3e4bb8",
   "metadata": {},
   "source": [
    "# DAY 2"
   ]
  },
  {
   "cell_type": "markdown",
   "id": "a3f7a31a",
   "metadata": {},
   "source": [
    "### Append, Extend and Insert"
   ]
  },
  {
   "cell_type": "code",
   "execution_count": 63,
   "id": "358c8eb7",
   "metadata": {},
   "outputs": [],
   "source": [
    "l1=[1,2,3]\n",
    "l2=[4,5,6]"
   ]
  },
  {
   "cell_type": "code",
   "execution_count": 24,
   "id": "18e21986",
   "metadata": {},
   "outputs": [
    {
     "name": "stdout",
     "output_type": "stream",
     "text": [
      "[1, 2, 3, [4, 5, 6]]\n"
     ]
    }
   ],
   "source": [
    "l1.append(l2)\n",
    "print(l1)"
   ]
  },
  {
   "cell_type": "code",
   "execution_count": 64,
   "id": "b462d9de",
   "metadata": {},
   "outputs": [
    {
     "name": "stdout",
     "output_type": "stream",
     "text": [
      "[1, 2, 3, 4, 5, 6]\n"
     ]
    }
   ],
   "source": [
    "l1.extend(l2)\n",
    "print(l1)"
   ]
  },
  {
   "cell_type": "code",
   "execution_count": 6,
   "id": "a6a5503d",
   "metadata": {},
   "outputs": [
    {
     "name": "stdout",
     "output_type": "stream",
     "text": [
      "p\n",
      "y\n",
      "t\n",
      "h\n",
      "o\n",
      "n\n"
     ]
    }
   ],
   "source": [
    "for i in \"python\":\n",
    "    print(i)"
   ]
  },
  {
   "cell_type": "code",
   "execution_count": 34,
   "id": "1086745e",
   "metadata": {},
   "outputs": [],
   "source": [
    "odd=[]\n",
    "even=[]"
   ]
  },
  {
   "cell_type": "code",
   "execution_count": 35,
   "id": "f53ffc77",
   "metadata": {},
   "outputs": [],
   "source": [
    "for i in l1:\n",
    "    if i%2==0:\n",
    "        even.append(i)\n",
    "    else:\n",
    "        odd.append(i)"
   ]
  },
  {
   "cell_type": "code",
   "execution_count": 36,
   "id": "1a614636",
   "metadata": {},
   "outputs": [
    {
     "name": "stdout",
     "output_type": "stream",
     "text": [
      "[1, 3, 5]\n",
      "[2, 4, 6]\n"
     ]
    }
   ],
   "source": [
    "print(odd)\n",
    "print(even)\n"
   ]
  },
  {
   "cell_type": "code",
   "execution_count": 39,
   "id": "765231f6",
   "metadata": {},
   "outputs": [
    {
     "name": "stdout",
     "output_type": "stream",
     "text": [
      "[1, 2, 3, 4, 5, 6, (7, 8, 9)]\n"
     ]
    }
   ],
   "source": [
    "l1=[1,2,3,4,5,6,(7,8,9)]\n",
    "res=[]\n",
    "print(l1)"
   ]
  },
  {
   "cell_type": "code",
   "execution_count": 38,
   "id": "55e78062",
   "metadata": {},
   "outputs": [
    {
     "name": "stdout",
     "output_type": "stream",
     "text": [
      "[1, 2, 3, 4, 5, 6, 7, 8, 9]\n"
     ]
    }
   ],
   "source": [
    "for i in l1:\n",
    "    if isinstance(i,(tuple)):\n",
    "        res.extend(i)\n",
    "    else:\n",
    "        res.append(i)\n",
    "print(res)"
   ]
  },
  {
   "cell_type": "code",
   "execution_count": 47,
   "id": "4c4bd00d",
   "metadata": {},
   "outputs": [
    {
     "name": "stdout",
     "output_type": "stream",
     "text": [
      "[1, 2, 3, 4, 5, 6]\n"
     ]
    }
   ],
   "source": [
    "print(l1)"
   ]
  },
  {
   "cell_type": "code",
   "execution_count": 51,
   "id": "99282d52",
   "metadata": {},
   "outputs": [
    {
     "name": "stdout",
     "output_type": "stream",
     "text": [
      "[1, 2, 3, 4, 'Python', 5, 6]\n"
     ]
    }
   ],
   "source": [
    "l1.insert(4,\"Python\")\n",
    "print(l1)"
   ]
  },
  {
   "cell_type": "markdown",
   "id": "ca256102",
   "metadata": {},
   "source": [
    "### delete"
   ]
  },
  {
   "cell_type": "code",
   "execution_count": 52,
   "id": "b2eff64e",
   "metadata": {},
   "outputs": [
    {
     "name": "stdout",
     "output_type": "stream",
     "text": [
      "[1, 2, 3, 4, 5, 6]\n"
     ]
    }
   ],
   "source": [
    "l1.remove(\"Python\")\n",
    "print(l1)"
   ]
  },
  {
   "cell_type": "code",
   "execution_count": 53,
   "id": "26ac0707",
   "metadata": {},
   "outputs": [
    {
     "name": "stdout",
     "output_type": "stream",
     "text": [
      "[1, 2, 3, 4, 5]\n"
     ]
    }
   ],
   "source": [
    "l1.pop() #last element\n",
    "print(l1)"
   ]
  },
  {
   "cell_type": "code",
   "execution_count": 54,
   "id": "814a8791",
   "metadata": {},
   "outputs": [
    {
     "name": "stdout",
     "output_type": "stream",
     "text": [
      "[1, 2, 4, 5]\n"
     ]
    }
   ],
   "source": [
    "l1.pop(2) #index\n",
    "print(l1)"
   ]
  },
  {
   "cell_type": "markdown",
   "id": "d8d19750",
   "metadata": {},
   "source": [
    "### clear"
   ]
  },
  {
   "cell_type": "code",
   "execution_count": 57,
   "id": "4fefe8e4",
   "metadata": {},
   "outputs": [
    {
     "name": "stdout",
     "output_type": "stream",
     "text": [
      "[1, 2, 3, 4, 5, 6]\n"
     ]
    }
   ],
   "source": [
    "\n",
    "print(l1)"
   ]
  },
  {
   "cell_type": "code",
   "execution_count": 60,
   "id": "25ab723c",
   "metadata": {},
   "outputs": [],
   "source": [
    "l1.clear() #structure remains"
   ]
  },
  {
   "cell_type": "code",
   "execution_count": 61,
   "id": "233c3b7a",
   "metadata": {},
   "outputs": [
    {
     "data": {
      "text/plain": [
       "[]"
      ]
     },
     "execution_count": 61,
     "metadata": {},
     "output_type": "execute_result"
    }
   ],
   "source": [
    "l1"
   ]
  },
  {
   "cell_type": "markdown",
   "id": "f52088b5",
   "metadata": {},
   "source": [
    "### del"
   ]
  },
  {
   "cell_type": "code",
   "execution_count": 65,
   "id": "d3beef80",
   "metadata": {},
   "outputs": [
    {
     "data": {
      "text/plain": [
       "[1, 2, 3, 4, 5, 6]"
      ]
     },
     "execution_count": 65,
     "metadata": {},
     "output_type": "execute_result"
    }
   ],
   "source": [
    "l1\n"
   ]
  },
  {
   "cell_type": "code",
   "execution_count": 66,
   "id": "0546cfb8",
   "metadata": {},
   "outputs": [
    {
     "ename": "NameError",
     "evalue": "name 'l1' is not defined",
     "output_type": "error",
     "traceback": [
      "\u001b[1;31m---------------------------------------------------------------------------\u001b[0m",
      "\u001b[1;31mNameError\u001b[0m                                 Traceback (most recent call last)",
      "Cell \u001b[1;32mIn[66], line 2\u001b[0m\n\u001b[0;32m      1\u001b[0m \u001b[38;5;28;01mdel\u001b[39;00m l1\n\u001b[1;32m----> 2\u001b[0m \u001b[43ml1\u001b[49m\n",
      "\u001b[1;31mNameError\u001b[0m: name 'l1' is not defined"
     ]
    }
   ],
   "source": [
    "del l1 #delete structure\n",
    "l1"
   ]
  },
  {
   "cell_type": "markdown",
   "id": "f31ed585",
   "metadata": {},
   "source": [
    "### Sorting List"
   ]
  },
  {
   "cell_type": "code",
   "execution_count": 67,
   "id": "532dfe87",
   "metadata": {},
   "outputs": [],
   "source": [
    "l1=[5,2,4,8,9,3,1,7]"
   ]
  },
  {
   "cell_type": "code",
   "execution_count": 68,
   "id": "2d9ffe69",
   "metadata": {},
   "outputs": [
    {
     "data": {
      "text/plain": [
       "[1, 2, 3, 4, 5, 7, 8, 9]"
      ]
     },
     "execution_count": 68,
     "metadata": {},
     "output_type": "execute_result"
    }
   ],
   "source": [
    "l1.sort()\n",
    "l1"
   ]
  },
  {
   "cell_type": "code",
   "execution_count": 69,
   "id": "aa227aed",
   "metadata": {},
   "outputs": [
    {
     "data": {
      "text/plain": [
       "[9, 8, 7, 5, 4, 3, 2, 1]"
      ]
     },
     "execution_count": 69,
     "metadata": {},
     "output_type": "execute_result"
    }
   ],
   "source": [
    "l1.sort(reverse=True)\n",
    "l1\n"
   ]
  },
  {
   "cell_type": "code",
   "execution_count": 70,
   "id": "cc97d5a7",
   "metadata": {},
   "outputs": [
    {
     "data": {
      "text/plain": [
       "[9, 8, 7, 5, 4, 3, 2, 1]"
      ]
     },
     "execution_count": 70,
     "metadata": {},
     "output_type": "execute_result"
    }
   ],
   "source": [
    "l1\n"
   ]
  },
  {
   "cell_type": "markdown",
   "id": "5eb95151",
   "metadata": {},
   "source": [
    "### reverse function"
   ]
  },
  {
   "cell_type": "code",
   "execution_count": 71,
   "id": "68f538ee",
   "metadata": {},
   "outputs": [
    {
     "data": {
      "text/plain": [
       "[1, 2, 3, 4, 5, 7, 8, 9]"
      ]
     },
     "execution_count": 71,
     "metadata": {},
     "output_type": "execute_result"
    }
   ],
   "source": [
    "l1.reverse()\n",
    "l1"
   ]
  },
  {
   "cell_type": "code",
   "execution_count": 72,
   "id": "aa0fde86",
   "metadata": {},
   "outputs": [
    {
     "data": {
      "text/plain": [
       "5"
      ]
     },
     "execution_count": 72,
     "metadata": {},
     "output_type": "execute_result"
    }
   ],
   "source": [
    "l1.index(7)"
   ]
  },
  {
   "cell_type": "code",
   "execution_count": 79,
   "id": "0aad384f",
   "metadata": {},
   "outputs": [
    {
     "data": {
      "text/plain": [
       "6"
      ]
     },
     "execution_count": 79,
     "metadata": {},
     "output_type": "execute_result"
    }
   ],
   "source": [
    "l1.append(4)\n",
    "\n",
    "l1.count(4)"
   ]
  },
  {
   "cell_type": "code",
   "execution_count": 80,
   "id": "f6a5be88",
   "metadata": {},
   "outputs": [
    {
     "data": {
      "text/plain": [
       "[1, 2, 3, 4, 5, 7, 8, 9, 4, 4, 4, 4, 4]"
      ]
     },
     "execution_count": 80,
     "metadata": {},
     "output_type": "execute_result"
    }
   ],
   "source": [
    "l1\n"
   ]
  },
  {
   "cell_type": "code",
   "execution_count": 81,
   "id": "48507999",
   "metadata": {},
   "outputs": [
    {
     "data": {
      "text/plain": [
       "6"
      ]
     },
     "execution_count": 81,
     "metadata": {},
     "output_type": "execute_result"
    }
   ],
   "source": [
    "l1.count(4)"
   ]
  },
  {
   "cell_type": "code",
   "execution_count": 83,
   "id": "45883418",
   "metadata": {},
   "outputs": [
    {
     "data": {
      "text/plain": [
       "1"
      ]
     },
     "execution_count": 83,
     "metadata": {},
     "output_type": "execute_result"
    }
   ],
   "source": [
    "min(l1)"
   ]
  },
  {
   "cell_type": "code",
   "execution_count": 84,
   "id": "67804b37",
   "metadata": {},
   "outputs": [
    {
     "data": {
      "text/plain": [
       "9"
      ]
     },
     "execution_count": 84,
     "metadata": {},
     "output_type": "execute_result"
    }
   ],
   "source": [
    "max(l1)"
   ]
  },
  {
   "cell_type": "markdown",
   "id": "060ca65e",
   "metadata": {},
   "source": [
    "### String"
   ]
  },
  {
   "cell_type": "markdown",
   "id": "a52fd50d",
   "metadata": {},
   "source": [
    "collection of characters surrounded by single, double or single/double triple quotes"
   ]
  },
  {
   "cell_type": "code",
   "execution_count": 1,
   "id": "d85641d9",
   "metadata": {},
   "outputs": [],
   "source": [
    "s='Python'\n",
    "s=\"Python\"\n",
    "s='''Python'''\n",
    "s=\"\"\"Python\"\"\""
   ]
  },
  {
   "cell_type": "markdown",
   "id": "71574ced",
   "metadata": {},
   "source": [
    "#### indexing"
   ]
  },
  {
   "cell_type": "markdown",
   "id": "7275f47c",
   "metadata": {},
   "source": [
    "access the character"
   ]
  },
  {
   "cell_type": "code",
   "execution_count": 3,
   "id": "f5b277b4",
   "metadata": {},
   "outputs": [
    {
     "name": "stdout",
     "output_type": "stream",
     "text": [
      "yth\n",
      "o\n"
     ]
    }
   ],
   "source": [
    "s='python'\n",
    "print(s[1:4])\n",
    "print(s[4])"
   ]
  },
  {
   "cell_type": "code",
   "execution_count": 4,
   "id": "e689a826",
   "metadata": {},
   "outputs": [
    {
     "name": "stdout",
     "output_type": "stream",
     "text": [
      "python\n"
     ]
    }
   ],
   "source": [
    "print(s)"
   ]
  },
  {
   "cell_type": "code",
   "execution_count": 6,
   "id": "191c94c7",
   "metadata": {},
   "outputs": [
    {
     "data": {
      "text/plain": [
       "'python'"
      ]
     },
     "execution_count": 6,
     "metadata": {},
     "output_type": "execute_result"
    }
   ],
   "source": [
    "s[:]"
   ]
  },
  {
   "cell_type": "code",
   "execution_count": 11,
   "id": "75f4f728",
   "metadata": {},
   "outputs": [
    {
     "data": {
      "text/plain": [
       "'ytho'"
      ]
     },
     "execution_count": 11,
     "metadata": {},
     "output_type": "execute_result"
    }
   ],
   "source": [
    "s[-5:-1:1]"
   ]
  },
  {
   "cell_type": "code",
   "execution_count": 12,
   "id": "03cd11dd",
   "metadata": {},
   "outputs": [
    {
     "data": {
      "text/plain": [
       "'ohty'"
      ]
     },
     "execution_count": 12,
     "metadata": {},
     "output_type": "execute_result"
    }
   ],
   "source": [
    "s[-2:-6:-1]"
   ]
  },
  {
   "cell_type": "code",
   "execution_count": 13,
   "id": "7f11f5c3",
   "metadata": {},
   "outputs": [
    {
     "data": {
      "text/plain": [
       "'noht'"
      ]
     },
     "execution_count": 13,
     "metadata": {},
     "output_type": "execute_result"
    }
   ],
   "source": [
    "s[:-5:-1]"
   ]
  },
  {
   "cell_type": "markdown",
   "id": "d4eecd69",
   "metadata": {},
   "source": [
    "#### string function"
   ]
  },
  {
   "cell_type": "code",
   "execution_count": 17,
   "id": "adab0368",
   "metadata": {},
   "outputs": [
    {
     "data": {
      "text/plain": [
       "'Python'"
      ]
     },
     "execution_count": 17,
     "metadata": {},
     "output_type": "execute_result"
    }
   ],
   "source": [
    "#capitalize first letter\n",
    "\n",
    "s=\"python\"\n",
    "s.capitalize()"
   ]
  },
  {
   "cell_type": "code",
   "execution_count": 18,
   "id": "1ffc1cc7",
   "metadata": {},
   "outputs": [
    {
     "data": {
      "text/plain": [
       "' python'"
      ]
     },
     "execution_count": 18,
     "metadata": {},
     "output_type": "execute_result"
    }
   ],
   "source": [
    "\n",
    "s=\" python\"\n",
    "s.capitalize()"
   ]
  },
  {
   "cell_type": "code",
   "execution_count": 19,
   "id": "fe7d52db",
   "metadata": {},
   "outputs": [
    {
     "data": {
      "text/plain": [
       "'python'"
      ]
     },
     "execution_count": 19,
     "metadata": {},
     "output_type": "execute_result"
    }
   ],
   "source": [
    "\n",
    "s=\"PYTHON\"\n",
    "s.lower()"
   ]
  },
  {
   "cell_type": "code",
   "execution_count": 20,
   "id": "6796d7f4",
   "metadata": {},
   "outputs": [
    {
     "data": {
      "text/plain": [
       "'PYTHON'"
      ]
     },
     "execution_count": 20,
     "metadata": {},
     "output_type": "execute_result"
    }
   ],
   "source": [
    "\n",
    "s=\"python\"\n",
    "s.upper()"
   ]
  },
  {
   "cell_type": "code",
   "execution_count": 21,
   "id": "02e97d3d",
   "metadata": {},
   "outputs": [
    {
     "data": {
      "text/plain": [
       "'I Love India'"
      ]
     },
     "execution_count": 21,
     "metadata": {},
     "output_type": "execute_result"
    }
   ],
   "source": [
    "# Title\n",
    "s=\"i love india\"\n",
    "s.title()"
   ]
  },
  {
   "cell_type": "code",
   "execution_count": 22,
   "id": "7ebc5780",
   "metadata": {},
   "outputs": [
    {
     "data": {
      "text/plain": [
       "'i love india'"
      ]
     },
     "execution_count": 22,
     "metadata": {},
     "output_type": "execute_result"
    }
   ],
   "source": [
    "s=\"         i love india\"\n",
    "s.lstrip()"
   ]
  },
  {
   "cell_type": "code",
   "execution_count": 23,
   "id": "2d653dfa",
   "metadata": {},
   "outputs": [
    {
     "data": {
      "text/plain": [
       "'i love india'"
      ]
     },
     "execution_count": 23,
     "metadata": {},
     "output_type": "execute_result"
    }
   ],
   "source": [
    "s=\"i love india          \"\n",
    "s.rstrip()"
   ]
  },
  {
   "cell_type": "code",
   "execution_count": 24,
   "id": "c905fb93",
   "metadata": {},
   "outputs": [
    {
     "data": {
      "text/plain": [
       "'i love india'"
      ]
     },
     "execution_count": 24,
     "metadata": {},
     "output_type": "execute_result"
    }
   ],
   "source": [
    "s=\"   i love india     \"\n",
    "s.strip()"
   ]
  },
  {
   "cell_type": "code",
   "execution_count": 25,
   "id": "07f6b0f6",
   "metadata": {},
   "outputs": [
    {
     "data": {
      "text/plain": [
       "'Python and Deep Learning'"
      ]
     },
     "execution_count": 25,
     "metadata": {},
     "output_type": "execute_result"
    }
   ],
   "source": [
    "s=\"Python and Machine Learning\"\n",
    "s.replace(\"Machine\",\"Deep\")"
   ]
  },
  {
   "cell_type": "code",
   "execution_count": 26,
   "id": "63ffad8f",
   "metadata": {},
   "outputs": [
    {
     "data": {
      "text/plain": [
       "'PythonandMachineLearning'"
      ]
     },
     "execution_count": 26,
     "metadata": {},
     "output_type": "execute_result"
    }
   ],
   "source": [
    "s=\"Python and Machine Learning\"\n",
    "s.replace(\" \",\"\")"
   ]
  },
  {
   "cell_type": "code",
   "execution_count": 28,
   "id": "6a9a087b",
   "metadata": {},
   "outputs": [
    {
     "data": {
      "text/plain": [
       "2"
      ]
     },
     "execution_count": 28,
     "metadata": {},
     "output_type": "execute_result"
    }
   ],
   "source": [
    "s=\"Python and Machine Learning Machine\"\n",
    "s.count(\"Machine\")"
   ]
  },
  {
   "cell_type": "code",
   "execution_count": 35,
   "id": "f71598b5",
   "metadata": {},
   "outputs": [
    {
     "data": {
      "text/plain": [
       "2"
      ]
     },
     "execution_count": 35,
     "metadata": {},
     "output_type": "execute_result"
    }
   ],
   "source": [
    "s=\"Python and Machine Learning Machine\"\n",
    "s.count(\"i\",9,25)"
   ]
  },
  {
   "cell_type": "code",
   "execution_count": 38,
   "id": "72f37492",
   "metadata": {},
   "outputs": [
    {
     "data": {
      "text/plain": [
       "True"
      ]
     },
     "execution_count": 38,
     "metadata": {},
     "output_type": "execute_result"
    }
   ],
   "source": [
    "s=\"Python and Machine Learning Machine\"\n",
    "s.startswith('P')"
   ]
  },
  {
   "cell_type": "code",
   "execution_count": 39,
   "id": "c444a4a3",
   "metadata": {},
   "outputs": [
    {
     "data": {
      "text/plain": [
       "True"
      ]
     },
     "execution_count": 39,
     "metadata": {},
     "output_type": "execute_result"
    }
   ],
   "source": [
    "s=\"Python and Machine Learning Machine\"\n",
    "s.endswith('e')"
   ]
  },
  {
   "cell_type": "code",
   "execution_count": 40,
   "id": "3caddf69",
   "metadata": {},
   "outputs": [
    {
     "data": {
      "text/plain": [
       "False"
      ]
     },
     "execution_count": 40,
     "metadata": {},
     "output_type": "execute_result"
    }
   ],
   "source": [
    "s=\"Python and Machine Learning Machine\"\n",
    "s.endswith('n')"
   ]
  },
  {
   "cell_type": "code",
   "execution_count": 42,
   "id": "2b9eef4c",
   "metadata": {},
   "outputs": [
    {
     "data": {
      "text/plain": [
       "False"
      ]
     },
     "execution_count": 42,
     "metadata": {},
     "output_type": "execute_result"
    }
   ],
   "source": [
    "s=\"Python and Machine Learning Machine\"\n",
    "s.islower()"
   ]
  },
  {
   "cell_type": "code",
   "execution_count": 47,
   "id": "1f4ca511",
   "metadata": {},
   "outputs": [
    {
     "data": {
      "text/plain": [
       "False"
      ]
     },
     "execution_count": 47,
     "metadata": {},
     "output_type": "execute_result"
    }
   ],
   "source": [
    "s=\"Python and Machine Learning Machine\"\n",
    "s.isupper()"
   ]
  },
  {
   "cell_type": "code",
   "execution_count": 45,
   "id": "80835c12",
   "metadata": {},
   "outputs": [
    {
     "data": {
      "text/plain": [
       "False"
      ]
     },
     "execution_count": 45,
     "metadata": {},
     "output_type": "execute_result"
    }
   ],
   "source": [
    "s.lower()\n",
    "s.isupper()"
   ]
  },
  {
   "cell_type": "code",
   "execution_count": 49,
   "id": "d9109084",
   "metadata": {},
   "outputs": [
    {
     "data": {
      "text/plain": [
       "True"
      ]
     },
     "execution_count": 49,
     "metadata": {},
     "output_type": "execute_result"
    }
   ],
   "source": [
    "s=\"python and machine learning\"\n",
    "s.lower()\n",
    "s.islower()"
   ]
  },
  {
   "cell_type": "code",
   "execution_count": 52,
   "id": "b4345c6c",
   "metadata": {},
   "outputs": [],
   "source": [
    "s=s.upper()\n"
   ]
  },
  {
   "cell_type": "code",
   "execution_count": 53,
   "id": "44f3f7e1",
   "metadata": {},
   "outputs": [
    {
     "data": {
      "text/plain": [
       "True"
      ]
     },
     "execution_count": 53,
     "metadata": {},
     "output_type": "execute_result"
    }
   ],
   "source": [
    "s.isupper()"
   ]
  },
  {
   "cell_type": "code",
   "execution_count": 54,
   "id": "c2d13cea",
   "metadata": {},
   "outputs": [
    {
     "data": {
      "text/plain": [
       "True"
      ]
     },
     "execution_count": 54,
     "metadata": {},
     "output_type": "execute_result"
    }
   ],
   "source": [
    "s=\"123456789\"\n",
    "s.isdigit()"
   ]
  },
  {
   "cell_type": "code",
   "execution_count": 57,
   "id": "288c8b97",
   "metadata": {},
   "outputs": [
    {
     "data": {
      "text/plain": [
       "True"
      ]
     },
     "execution_count": 57,
     "metadata": {},
     "output_type": "execute_result"
    }
   ],
   "source": [
    "s=\" \"\n",
    "s.isspace()"
   ]
  },
  {
   "cell_type": "code",
   "execution_count": 58,
   "id": "0cb1498b",
   "metadata": {},
   "outputs": [],
   "source": [
    "s=\"python and MACHINE LEARNING 12345\"\n"
   ]
  },
  {
   "cell_type": "code",
   "execution_count": 60,
   "id": "0ac1a67e",
   "metadata": {},
   "outputs": [
    {
     "name": "stdout",
     "output_type": "stream",
     "text": [
      "Lower 9\n",
      "Upper 15\n",
      "Digit 5\n"
     ]
    }
   ],
   "source": [
    "cnt1=0\n",
    "cnt2=0\n",
    "cnt3=0\n",
    "for i in s:\n",
    "    if i.islower():\n",
    "        cnt1=cnt1+1\n",
    "    elif i.isupper():\n",
    "        cnt2=cnt2+1\n",
    "    elif i.isdigit():\n",
    "        cnt3=cnt3+1\n",
    "\n",
    "print(\"Lower\",cnt1)\n",
    "print(\"Upper\",cnt2)\n",
    "print(\"Digit\",cnt3)"
   ]
  },
  {
   "cell_type": "code",
   "execution_count": 113,
   "id": "b0e79103",
   "metadata": {},
   "outputs": [],
   "source": [
    "l=[1,2,3,4,5,6,1,2,1,5,9,8,6.7,'python','machine','deep','learning']"
   ]
  },
  {
   "cell_type": "code",
   "execution_count": 116,
   "id": "44dc8529",
   "metadata": {},
   "outputs": [
    {
     "name": "stdout",
     "output_type": "stream",
     "text": [
      "int [1, 2, 3, 4, 5, 6, 1, 2, 1, 5, 9, 8]\n",
      "float [6.7]\n",
      "string ['python', 'machine', 'deep', 'learning']\n"
     ]
    }
   ],
   "source": [
    "il=[]\n",
    "fl=[]\n",
    "sl=[]\n",
    "for i in l:\n",
    "    if (type(i)==int):\n",
    "        il.append(i)\n",
    "    elif type(i)==float:\n",
    "        fl.append(i)\n",
    "    elif type(i)==str:\n",
    "        sl.append(i)\n",
    "\n",
    "print(\"int\",il)\n",
    "print(\"float\",fl)\n",
    "print(\"string\",sl)"
   ]
  },
  {
   "cell_type": "code",
   "execution_count": 117,
   "id": "d1d96cd3",
   "metadata": {},
   "outputs": [],
   "source": [
    "l=[1,0,2,0,3,0,4,-1]"
   ]
  },
  {
   "cell_type": "code",
   "execution_count": 118,
   "id": "8c09874c",
   "metadata": {},
   "outputs": [
    {
     "name": "stdout",
     "output_type": "stream",
     "text": [
      "[1, 2, 3, 4, -1, 0, 0, 0]\n"
     ]
    }
   ],
   "source": [
    "\n",
    "for i in l:\n",
    "    if i==0:\n",
    "        l.remove(i)\n",
    "        l.append(i)\n",
    "    \n",
    "\n",
    "print(l)"
   ]
  },
  {
   "cell_type": "code",
   "execution_count": null,
   "id": "0d49a1da",
   "metadata": {},
   "outputs": [],
   "source": []
  }
 ],
 "metadata": {
  "kernelspec": {
   "display_name": "Python 3 (ipykernel)",
   "language": "python",
   "name": "python3"
  },
  "language_info": {
   "codemirror_mode": {
    "name": "ipython",
    "version": 3
   },
   "file_extension": ".py",
   "mimetype": "text/x-python",
   "name": "python",
   "nbconvert_exporter": "python",
   "pygments_lexer": "ipython3",
   "version": "3.10.9"
  }
 },
 "nbformat": 4,
 "nbformat_minor": 5
}
