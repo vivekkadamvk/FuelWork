{
 "cells": [
  {
   "cell_type": "code",
   "execution_count": 1,
   "id": "a11edd32",
   "metadata": {},
   "outputs": [
    {
     "name": "stdout",
     "output_type": "stream",
     "text": [
      "Maximum between 10 and 20 is: 20\n"
     ]
    }
   ],
   "source": [
    "def max_between_two(a, b):\n",
    "    if a > b:\n",
    "        return a\n",
    "    else:\n",
    "        return b\n",
    "\n",
    "num1 = 10\n",
    "num2 = 20\n",
    "print(\"Maximum between\", num1, \"and\", num2, \"is:\", max_between_two(num1, num2))\n"
   ]
  },
  {
   "cell_type": "code",
   "execution_count": 2,
   "id": "8a57a7d4",
   "metadata": {},
   "outputs": [
    {
     "name": "stdout",
     "output_type": "stream",
     "text": [
      "Maximum between 10 , 20 and 15 is: 20\n"
     ]
    }
   ],
   "source": [
    "def max_between_three(a, b, c):\n",
    "    return max(a, b, c)\n",
    "\n",
    "num1 = 10\n",
    "num2 = 20\n",
    "num3 = 15\n",
    "print(\"Maximum between\", num1, \",\", num2, \"and\", num3, \"is:\", max_between_three(num1, num2, num3))\n"
   ]
  },
  {
   "cell_type": "code",
   "execution_count": 3,
   "id": "81de582c",
   "metadata": {},
   "outputs": [
    {
     "name": "stdout",
     "output_type": "stream",
     "text": [
      "-10 is Negative\n"
     ]
    }
   ],
   "source": [
    "def check_number(n):\n",
    "    if n > 0:\n",
    "        return \"Positive\"\n",
    "    elif n < 0:\n",
    "        return \"Negative\"\n",
    "    else:\n",
    "        return \"Zero\"\n",
    "\n",
    "num = -10\n",
    "print(num, \"is\", check_number(num))\n"
   ]
  },
  {
   "cell_type": "code",
   "execution_count": 4,
   "id": "5ae1bf67",
   "metadata": {},
   "outputs": [
    {
     "name": "stdout",
     "output_type": "stream",
     "text": [
      "55 is Divisible by 5 and 11\n"
     ]
    }
   ],
   "source": [
    "def check_divisibility(n):\n",
    "    if n % 5 == 0 and n % 11 == 0:\n",
    "        return \"Divisible by 5 and 11\"\n",
    "    else:\n",
    "        return \"Not divisible by both 5 and 11\"\n",
    "\n",
    "num = 55\n",
    "print(num, \"is\", check_divisibility(num))\n"
   ]
  },
  {
   "cell_type": "code",
   "execution_count": 5,
   "id": "27dccd6c",
   "metadata": {},
   "outputs": [
    {
     "name": "stdout",
     "output_type": "stream",
     "text": [
      "7 is Odd\n"
     ]
    }
   ],
   "source": [
    "def check_even_odd(n):\n",
    "    if n % 2 == 0:\n",
    "        return \"Even\"\n",
    "    else:\n",
    "        return \"Odd\"\n",
    "\n",
    "num = 7\n",
    "print(num, \"is\", check_even_odd(num))\n"
   ]
  },
  {
   "cell_type": "code",
   "execution_count": 6,
   "id": "128c0c52",
   "metadata": {},
   "outputs": [
    {
     "name": "stdout",
     "output_type": "stream",
     "text": [
      "2024 is a leap year\n"
     ]
    }
   ],
   "source": [
    "def is_leap_year(year):\n",
    "    if (year % 4 == 0 and year % 100 != 0) or (year % 400 == 0):\n",
    "        return True\n",
    "    else:\n",
    "        return False\n",
    "\n",
    "year = 2024\n",
    "if is_leap_year(year):\n",
    "    print(year, \"is a leap year\")\n",
    "else:\n",
    "    print(year, \"is not a leap year\")\n"
   ]
  },
  {
   "cell_type": "code",
   "execution_count": 7,
   "id": "8ff9a84f",
   "metadata": {},
   "outputs": [
    {
     "name": "stdout",
     "output_type": "stream",
     "text": [
      "9 is not an alphabet\n"
     ]
    }
   ],
   "source": [
    "def is_alphabet(char):\n",
    "    if (char >= 'a' and char <= 'z') or (char >= 'A' and char <= 'Z'):\n",
    "        return True\n",
    "    else:\n",
    "        return False\n",
    "\n",
    "char = '9'\n",
    "if is_alphabet(char):\n",
    "    print(char, \"is an alphabet\")\n",
    "else:\n",
    "    print(char, \"is not an alphabet\")\n"
   ]
  },
  {
   "cell_type": "code",
   "execution_count": 9,
   "id": "6369e994",
   "metadata": {},
   "outputs": [
    {
     "name": "stdout",
     "output_type": "stream",
     "text": [
      "E is a Vowel\n"
     ]
    }
   ],
   "source": [
    "def check_vowel_or_consonant(char):\n",
    "    vowels = ['a', 'e', 'i', 'o', 'u']\n",
    "    if char.lower() in vowels:\n",
    "        return \"Vowel\"\n",
    "    else:\n",
    "        return \"Consonant\"\n",
    "\n",
    "char = 'E'\n",
    "print(char, \"is a\", check_vowel_or_consonant(char))\n"
   ]
  },
  {
   "cell_type": "code",
   "execution_count": 11,
   "id": "816e3605",
   "metadata": {},
   "outputs": [
    {
     "name": "stdout",
     "output_type": "stream",
     "text": [
      "$ is a Special character\n"
     ]
    }
   ],
   "source": [
    "def check_char_type(char):\n",
    "    if char.isalpha():\n",
    "        return \"Alphabet\"\n",
    "    elif char.isdigit():\n",
    "        return \"Digit\"\n",
    "    else:\n",
    "        return \"Special character\"\n",
    "char = '$'\n",
    "print(char, \"is a\", check_char_type(char))\n"
   ]
  },
  {
   "cell_type": "code",
   "execution_count": 12,
   "id": "8e7aba82",
   "metadata": {},
   "outputs": [
    {
     "name": "stdout",
     "output_type": "stream",
     "text": [
      "A is Uppercase\n"
     ]
    }
   ],
   "source": [
    "def check_case(char):\n",
    "    if char.islower():\n",
    "        return \"Lowercase\"\n",
    "    elif char.isupper():\n",
    "        return \"Uppercase\"\n",
    "    else:\n",
    "        return \"Not an alphabet\"\n",
    "\n",
    "char = 'A'\n",
    "print(char, \"is\", check_case(char))\n"
   ]
  },
  {
   "cell_type": "code",
   "execution_count": 13,
   "id": "86c35886",
   "metadata": {},
   "outputs": [
    {
     "name": "stdout",
     "output_type": "stream",
     "text": [
      "Week 3 falls on Wednesday\n"
     ]
    }
   ],
   "source": [
    "def get_weekday(week_number):\n",
    "    weekdays = [\"Monday\", \"Tuesday\", \"Wednesday\", \"Thursday\", \"Friday\", \"Saturday\", \"Sunday\"]\n",
    "    if week_number >= 1 and week_number <= 7:\n",
    "        return weekdays[week_number - 1]\n",
    "    else:\n",
    "        return \"Invalid week number\"\n",
    "\n",
    "week_number = 3\n",
    "print(\"Week\", week_number, \"falls on\", get_weekday(week_number))\n"
   ]
  },
  {
   "cell_type": "code",
   "execution_count": 14,
   "id": "905052d4",
   "metadata": {},
   "outputs": [
    {
     "name": "stdout",
     "output_type": "stream",
     "text": [
      "Month 5 is May\n"
     ]
    }
   ],
   "source": [
    "def get_month_name(month_number):\n",
    "    months = [\"January\", \"February\", \"March\", \"April\", \"May\", \"June\", \"July\", \"August\", \"September\", \"October\", \"November\", \"December\"]\n",
    "    if month_number >= 1 and month_number <= 12:\n",
    "        return months[month_number - 1]\n",
    "    else:\n",
    "        return \"Invalid month number\"\n",
    "\n",
    "month_number = 5\n",
    "print(\"Month\", month_number, \"is\", get_month_name(month_number))\n"
   ]
  },
  {
   "cell_type": "code",
   "execution_count": 15,
   "id": "9b4f7d38",
   "metadata": {},
   "outputs": [
    {
     "name": "stdout",
     "output_type": "stream",
     "text": [
      "Notes count for 2517 is: {2000: 1, 500: 1, 10: 1, 5: 1, 2: 1}\n"
     ]
    }
   ],
   "source": [
    "def count_notes(amount):\n",
    "    denominations = [2000, 500, 200, 100, 50, 20, 10, 5, 2, 1]\n",
    "    notes_count = {}\n",
    "    for denomination in denominations:\n",
    "        count = amount // denomination\n",
    "        if count > 0:\n",
    "            notes_count[denomination] = count\n",
    "            amount %= denomination\n",
    "    return notes_count\n",
    "\n",
    "amount = 2517\n",
    "notes = count_notes(amount)\n",
    "print(\"Notes count for\", amount, \"is:\", notes)\n"
   ]
  },
  {
   "cell_type": "code",
   "execution_count": 16,
   "id": "8c64e052",
   "metadata": {},
   "outputs": [
    {
     "name": "stdout",
     "output_type": "stream",
     "text": [
      "Triangle with angles 60 , 60 , and 60 is valid\n"
     ]
    }
   ],
   "source": [
    "def check_triangle_validity(angle1, angle2, angle3):\n",
    "    if angle1 + angle2 + angle3 == 180:\n",
    "        return True\n",
    "    else:\n",
    "        return False\n",
    "\n",
    "angle1 = 60\n",
    "angle2 = 60\n",
    "angle3 = 60\n",
    "if check_triangle_validity(angle1, angle2, angle3):\n",
    "    print(\"Triangle with angles\", angle1, \",\", angle2, \", and\", angle3, \"is valid\")\n",
    "else:\n",
    "    print(\"Triangle with angles\", angle1, \",\", angle2, \", and\", angle3, \"is not valid\")\n"
   ]
  },
  {
   "cell_type": "code",
   "execution_count": 17,
   "id": "99b4694e",
   "metadata": {},
   "outputs": [
    {
     "name": "stdout",
     "output_type": "stream",
     "text": [
      "Triangle with sides 3 , 4 , and 5 is valid\n"
     ]
    }
   ],
   "source": [
    "def check_triangle_validity(side1, side2, side3):\n",
    "    if side1 + side2 > side3 and side1 + side3 > side2 and side2 + side3 > side1:\n",
    "        return True\n",
    "    else:\n",
    "        return False\n",
    "\n",
    "side1 = 3\n",
    "side2 = 4\n",
    "side3 = 5\n",
    "if check_triangle_validity(side1, side2, side3):\n",
    "    print(\"Triangle with sides\", side1, \",\", side2, \", and\", side3, \"is valid\")\n",
    "else:\n",
    "    print(\"Triangle with sides\", side1, \",\", side2, \", and\", side3, \"is not valid\")\n"
   ]
  },
  {
   "cell_type": "code",
   "execution_count": 18,
   "id": "56ddc531",
   "metadata": {},
   "outputs": [
    {
     "name": "stdout",
     "output_type": "stream",
     "text": [
      "Triangle with sides 3 , 4 , and 5 is Scalene\n"
     ]
    }
   ],
   "source": [
    "def check_triangle_type(side1, side2, side3):\n",
    "    if side1 == side2 == side3:\n",
    "        return \"Equilateral\"\n",
    "    elif side1 == side2 or side1 == side3 or side2 == side3:\n",
    "        return \"Isosceles\"\n",
    "    else:\n",
    "        return \"Scalene\"\n",
    "\n",
    "side1 = 3\n",
    "side2 = 4\n",
    "side3 = 5\n",
    "print(\"Triangle with sides\", side1, \",\", side2, \", and\", side3, \"is\", check_triangle_type(side1, side2, side3))\n"
   ]
  },
  {
   "cell_type": "code",
   "execution_count": 19,
   "id": "89c7bf0d",
   "metadata": {},
   "outputs": [
    {
     "name": "stdout",
     "output_type": "stream",
     "text": [
      "Roots of the quadratic equation are: (2.0, 1.0)\n"
     ]
    }
   ],
   "source": [
    "import math\n",
    "\n",
    "def quadratic_roots(a, b, c):\n",
    "    discriminant = b**2 - 4*a*c\n",
    "    if discriminant > 0:\n",
    "        root1 = (-b + math.sqrt(discriminant)) / (2*a)\n",
    "        root2 = (-b - math.sqrt(discriminant)) / (2*a)\n",
    "        return root1, root2\n",
    "    elif discriminant == 0:\n",
    "        root = -b / (2*a)\n",
    "        return root, root\n",
    "    else:\n",
    "        real_part = -b / (2*a)\n",
    "        imaginary_part = math.sqrt(abs(discriminant)) / (2*a)\n",
    "        return (real_part, imaginary_part), (real_part, -imaginary_part)\n",
    "\n",
    "a = 1\n",
    "b = -3\n",
    "c = 2\n",
    "roots = quadratic_roots(a, b, c)\n",
    "print(\"Roots of the quadratic equation are:\", roots)\n"
   ]
  },
  {
   "cell_type": "code",
   "execution_count": 20,
   "id": "1203cce6",
   "metadata": {},
   "outputs": [
    {
     "name": "stdout",
     "output_type": "stream",
     "text": [
      "('Profit of', 20)\n"
     ]
    }
   ],
   "source": [
    "def calculate_profit_loss(cost_price, selling_price):\n",
    "    if selling_price > cost_price:\n",
    "        return \"Profit of\", selling_price - cost_price\n",
    "    elif selling_price < cost_price:\n",
    "        return \"Loss of\", cost_price - selling_price\n",
    "    else:\n",
    "        return \"No Profit No Loss\"\n",
    "\n",
    "cost_price = 100\n",
    "selling_price = 120\n",
    "result = calculate_profit_loss(cost_price, selling_price)\n",
    "print(result)\n"
   ]
  },
  {
   "cell_type": "code",
   "execution_count": 21,
   "id": "36993b8a",
   "metadata": {},
   "outputs": [
    {
     "name": "stdout",
     "output_type": "stream",
     "text": [
      "Percentage: 85.0 %\n",
      "Grade: Grade B\n"
     ]
    }
   ],
   "source": [
    "def calculate_grade(physics, chemistry, biology, mathematics, computer):\n",
    "    total_marks = physics + chemistry + biology + mathematics + computer\n",
    "    percentage = (total_marks / 500) * 100\n",
    "    if percentage >= 90:\n",
    "        return \"Grade A\"\n",
    "    elif percentage >= 80:\n",
    "        return \"Grade B\"\n",
    "    elif percentage >= 70:\n",
    "        return \"Grade C\"\n",
    "    elif percentage >= 60:\n",
    "        return \"Grade D\"\n",
    "    elif percentage >= 40:\n",
    "        return \"Grade E\"\n",
    "    else:\n",
    "        return \"Grade F\"\n",
    "\n",
    "physics = 75\n",
    "chemistry = 80\n",
    "biology = 85\n",
    "mathematics = 90\n",
    "computer = 95\n",
    "grade = calculate_grade(physics, chemistry, biology, mathematics, computer)\n",
    "print(\"Percentage:\", (physics + chemistry + biology + mathematics + computer) / 5, \"%\")\n",
    "print(\"Grade:\", grade)\n"
   ]
  },
  {
   "cell_type": "code",
   "execution_count": 22,
   "id": "e5c5a7d0",
   "metadata": {},
   "outputs": [
    {
     "name": "stdout",
     "output_type": "stream",
     "text": [
      "Gross salary: 32250.0\n"
     ]
    }
   ],
   "source": [
    "def calculate_gross_salary(basic_salary):\n",
    "    if basic_salary <= 10000:\n",
    "        hra = 0.2 * basic_salary\n",
    "        da = 0.8 * basic_salary\n",
    "    elif basic_salary <= 20000:\n",
    "        hra = 0.25 * basic_salary\n",
    "        da = 0.9 * basic_salary\n",
    "    else:\n",
    "        hra = 0.3 * basic_salary\n",
    "        da = 0.95 * basic_salary\n",
    "    gross_salary = basic_salary + hra + da\n",
    "    return gross_salary\n",
    "\n",
    "basic_salary = 15000\n",
    "gross_salary = calculate_gross_salary(basic_salary)\n",
    "print(\"Gross salary:\", gross_salary)\n"
   ]
  },
  {
   "cell_type": "code",
   "execution_count": 3,
   "id": "ce7b8306",
   "metadata": {},
   "outputs": [
    {
     "name": "stdout",
     "output_type": "stream",
     "text": [
      "1500\n",
      "3\n"
     ]
    }
   ],
   "source": [
    "notes=[500,2000,100,50,20,10]\n",
    "amt=int(input())\n",
    "cnt=0\n",
    "while amt>=10:\n",
    "    i=0\n",
    "    if amt>=notes[i]:\n",
    "        amt-=notes[i]\n",
    "        cnt+=1\n",
    "    else:\n",
    "        i+=1\n",
    "print(cnt)"
   ]
  },
  {
   "cell_type": "code",
   "execution_count": null,
   "id": "6865459c",
   "metadata": {},
   "outputs": [],
   "source": []
  }
 ],
 "metadata": {
  "kernelspec": {
   "display_name": "Python 3 (ipykernel)",
   "language": "python",
   "name": "python3"
  },
  "language_info": {
   "codemirror_mode": {
    "name": "ipython",
    "version": 3
   },
   "file_extension": ".py",
   "mimetype": "text/x-python",
   "name": "python",
   "nbconvert_exporter": "python",
   "pygments_lexer": "ipython3",
   "version": "3.10.9"
  }
 },
 "nbformat": 4,
 "nbformat_minor": 5
}
