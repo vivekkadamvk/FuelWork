{
 "cells": [
  {
   "cell_type": "markdown",
   "id": "9bedc4b0",
   "metadata": {},
   "source": [
    " Python Pretest"
   ]
  },
  {
   "cell_type": "markdown",
   "id": "3afc4e7e",
   "metadata": {},
   "source": [
    "1) Python is a Interpreted, Dynamic and Objectect Oriented Programming Language\n",
    "Interpreter converts the high level language code into low level language code line by line.\n",
    "Dynamic Typed language is a language  in which user need not to mention the data type of variables"
   ]
  },
  {
   "cell_type": "markdown",
   "id": "d14a46e3",
   "metadata": {},
   "source": [
    "2) Identifier is an name of any function, variable or method while variable is an entity which is used to store some kind of data"
   ]
  },
  {
   "cell_type": "markdown",
   "id": "067f1c7a",
   "metadata": {},
   "source": [
    "3) Indexing is used to access the data according to their position from advanced data types like list, tuple.\n",
    "Slicing is used to access the specific range of elements"
   ]
  },
  {
   "cell_type": "markdown",
   "id": "1b9bf8c0",
   "metadata": {},
   "source": [
    "4) list and tuple are the advanced data types containing multiple values of different data types\n",
    "lists are mutable and tuples are immutable\n",
    "immutables cannot change their values once defined mutables can be changed"
   ]
  },
  {
   "cell_type": "markdown",
   "id": "2fb54e34",
   "metadata": {},
   "source": [
    "5) operators are used to perform any kind of operations on the operands\n",
    "their are relational, arithmetic, assignment, logical, comparison, bitwise,membership and identity operators. "
   ]
  },
  {
   "cell_type": "markdown",
   "id": "c5cadcd4",
   "metadata": {},
   "source": [
    "6) mean is the average value calculated by performing sum of values divide by number of values\n",
    " median is the middle value after performing sorting mode is the frequently occuring value in the given data"
   ]
  },
  {
   "cell_type": "markdown",
   "id": "6a0b32e2",
   "metadata": {},
   "source": [
    "7) key features of python\n",
    "object oriented, interpreted, dynamic, easy to use"
   ]
  },
  {
   "cell_type": "markdown",
   "id": "5d6bd949",
   "metadata": {},
   "source": [
    "8) data types\n",
    "int, float, char, string, boolean, list, tuple, set and dictionary"
   ]
  },
  {
   "cell_type": "markdown",
   "id": "07a99f8f",
   "metadata": {},
   "source": [
    "9) local variables are accessible within the function or within the local object\n",
    "global variables are accessible throughout the code"
   ]
  },
  {
   "cell_type": "markdown",
   "id": "5ae7423a",
   "metadata": {},
   "source": [
    "10) '#' is used to write an comment is python for single line\n",
    "'/* */' is used for multiline comment "
   ]
  },
  {
   "cell_type": "markdown",
   "id": "9df24049",
   "metadata": {},
   "source": [
    "11) '/* */' is used for multiline comment"
   ]
  },
  {
   "cell_type": "markdown",
   "id": "9bd87706",
   "metadata": {},
   "source": [
    "12) literals are a notation for representing a fixed value in source code."
   ]
  },
  {
   "cell_type": "markdown",
   "id": "c5f32fb0",
   "metadata": {},
   "source": [
    "13) we can assign values to variables using assignment operator as\n",
    "a=10, b=15"
   ]
  },
  {
   "cell_type": "markdown",
   "id": "549e93bd",
   "metadata": {},
   "source": [
    "14) list is advanced data type in python which is used to store multiple data values\n"
   ]
  },
  {
   "cell_type": "code",
   "execution_count": 19,
   "id": "2deaef2f",
   "metadata": {},
   "outputs": [],
   "source": [
    "list1=[1,2,3,4,5]"
   ]
  },
  {
   "cell_type": "code",
   "execution_count": 16,
   "id": "057ed726",
   "metadata": {},
   "outputs": [
    {
     "name": "stdout",
     "output_type": "stream",
     "text": [
      "3\n"
     ]
    }
   ],
   "source": [
    "print(list1[2])"
   ]
  },
  {
   "cell_type": "code",
   "execution_count": 17,
   "id": "cfa73d0c",
   "metadata": {},
   "outputs": [],
   "source": [
    "list1[3]=6"
   ]
  },
  {
   "cell_type": "code",
   "execution_count": 20,
   "id": "0f350364",
   "metadata": {},
   "outputs": [
    {
     "name": "stdout",
     "output_type": "stream",
     "text": [
      "4\n"
     ]
    }
   ],
   "source": [
    "print(list1[3])"
   ]
  },
  {
   "cell_type": "markdown",
   "id": "07f99a84",
   "metadata": {},
   "source": [
    "# Day 1"
   ]
  },
  {
   "cell_type": "code",
   "execution_count": 1,
   "id": "dc2737c9",
   "metadata": {},
   "outputs": [],
   "source": [
    "a=10"
   ]
  },
  {
   "cell_type": "code",
   "execution_count": 2,
   "id": "e4b297b6",
   "metadata": {},
   "outputs": [],
   "source": [
    "b=bool(a)"
   ]
  },
  {
   "cell_type": "code",
   "execution_count": 3,
   "id": "5a7328e6",
   "metadata": {},
   "outputs": [
    {
     "name": "stdout",
     "output_type": "stream",
     "text": [
      "True\n"
     ]
    }
   ],
   "source": [
    "print(b)"
   ]
  },
  {
   "cell_type": "code",
   "execution_count": 4,
   "id": "a4b6ca2b",
   "metadata": {},
   "outputs": [],
   "source": [
    "c=0"
   ]
  },
  {
   "cell_type": "code",
   "execution_count": 5,
   "id": "bbc0d7db",
   "metadata": {},
   "outputs": [
    {
     "name": "stdout",
     "output_type": "stream",
     "text": [
      "False\n"
     ]
    }
   ],
   "source": [
    "print(bool(c))"
   ]
  },
  {
   "cell_type": "code",
   "execution_count": 16,
   "id": "1d8208ae",
   "metadata": {},
   "outputs": [],
   "source": [
    "d=10.5+0j"
   ]
  },
  {
   "cell_type": "code",
   "execution_count": 17,
   "id": "ead3fd36",
   "metadata": {},
   "outputs": [
    {
     "ename": "TypeError",
     "evalue": "float() argument must be a string or a real number, not 'complex'",
     "output_type": "error",
     "traceback": [
      "\u001b[1;31m---------------------------------------------------------------------------\u001b[0m",
      "\u001b[1;31mTypeError\u001b[0m                                 Traceback (most recent call last)",
      "Cell \u001b[1;32mIn[17], line 1\u001b[0m\n\u001b[1;32m----> 1\u001b[0m \u001b[38;5;28mprint\u001b[39m(\u001b[38;5;28;43mfloat\u001b[39;49m\u001b[43m(\u001b[49m\u001b[43md\u001b[49m\u001b[43m)\u001b[49m)\n",
      "\u001b[1;31mTypeError\u001b[0m: float() argument must be a string or a real number, not 'complex'"
     ]
    }
   ],
   "source": [
    "print(float(d))"
   ]
  },
  {
   "cell_type": "code",
   "execution_count": 21,
   "id": "e0ccba2a",
   "metadata": {},
   "outputs": [],
   "source": [
    "a=45.75"
   ]
  },
  {
   "cell_type": "code",
   "execution_count": 23,
   "id": "ec7ba70c",
   "metadata": {},
   "outputs": [
    {
     "name": "stdout",
     "output_type": "stream",
     "text": [
      "45\n"
     ]
    }
   ],
   "source": [
    "print(int(a))"
   ]
  },
  {
   "cell_type": "code",
   "execution_count": 25,
   "id": "73ce5ed0",
   "metadata": {},
   "outputs": [
    {
     "data": {
      "text/plain": [
       "float"
      ]
     },
     "execution_count": 25,
     "metadata": {},
     "output_type": "execute_result"
    }
   ],
   "source": [
    "type(a)"
   ]
  },
  {
   "cell_type": "code",
   "execution_count": 26,
   "id": "c4007d10",
   "metadata": {},
   "outputs": [],
   "source": [
    "a=\"Hello\""
   ]
  },
  {
   "cell_type": "code",
   "execution_count": 31,
   "id": "0a530de3",
   "metadata": {},
   "outputs": [
    {
     "ename": "ValueError",
     "evalue": "invalid literal for int() with base 10: 'Hello'",
     "output_type": "error",
     "traceback": [
      "\u001b[1;31m---------------------------------------------------------------------------\u001b[0m",
      "\u001b[1;31mValueError\u001b[0m                                Traceback (most recent call last)",
      "Cell \u001b[1;32mIn[31], line 1\u001b[0m\n\u001b[1;32m----> 1\u001b[0m \u001b[38;5;28mprint\u001b[39m(\u001b[38;5;28;43mint\u001b[39;49m\u001b[43m(\u001b[49m\u001b[43ma\u001b[49m\u001b[43m)\u001b[49m)\n",
      "\u001b[1;31mValueError\u001b[0m: invalid literal for int() with base 10: 'Hello'"
     ]
    }
   ],
   "source": [
    "print(int(a))"
   ]
  },
  {
   "cell_type": "code",
   "execution_count": 40,
   "id": "6972fbbe",
   "metadata": {},
   "outputs": [
    {
     "name": "stdout",
     "output_type": "stream",
     "text": [
      "65\n"
     ]
    }
   ],
   "source": [
    "a='A'\n",
    "print(ord(a))"
   ]
  },
  {
   "cell_type": "code",
   "execution_count": 41,
   "id": "558e3c8e",
   "metadata": {},
   "outputs": [
    {
     "name": "stdout",
     "output_type": "stream",
     "text": [
      "<class 'str'>\n"
     ]
    }
   ],
   "source": [
    "print(type(a))"
   ]
  },
  {
   "cell_type": "code",
   "execution_count": 42,
   "id": "2955e3ee",
   "metadata": {},
   "outputs": [],
   "source": [
    "import numpy as np"
   ]
  },
  {
   "cell_type": "code",
   "execution_count": 50,
   "id": "15396402",
   "metadata": {},
   "outputs": [],
   "source": [
    "array=np.array([1,2,3,4,1.5,1.7,\"string\"])"
   ]
  },
  {
   "cell_type": "code",
   "execution_count": 51,
   "id": "2e87e379",
   "metadata": {},
   "outputs": [
    {
     "data": {
      "text/plain": [
       "array(['1', '2', '3', '4', '1.5', '1.7', 'string'], dtype='<U32')"
      ]
     },
     "execution_count": 51,
     "metadata": {},
     "output_type": "execute_result"
    }
   ],
   "source": [
    "array"
   ]
  },
  {
   "cell_type": "markdown",
   "id": "8f34b455",
   "metadata": {},
   "source": [
    "1 List"
   ]
  },
  {
   "cell_type": "code",
   "execution_count": 52,
   "id": "d0f24485",
   "metadata": {},
   "outputs": [],
   "source": [
    "list1=[1,2,3,4,\"hii\",4.5]"
   ]
  },
  {
   "cell_type": "code",
   "execution_count": 53,
   "id": "d742e44a",
   "metadata": {},
   "outputs": [
    {
     "name": "stdout",
     "output_type": "stream",
     "text": [
      "[1, 2, 3, 4, 'hii', 4.5]\n"
     ]
    }
   ],
   "source": [
    "print(list1)"
   ]
  },
  {
   "cell_type": "code",
   "execution_count": 54,
   "id": "2918299f",
   "metadata": {},
   "outputs": [
    {
     "name": "stdout",
     "output_type": "stream",
     "text": [
      "4\n"
     ]
    }
   ],
   "source": [
    "#indexing\n",
    "print(list1[3])"
   ]
  },
  {
   "cell_type": "code",
   "execution_count": 55,
   "id": "1115481b",
   "metadata": {},
   "outputs": [
    {
     "name": "stdout",
     "output_type": "stream",
     "text": [
      "hii\n"
     ]
    }
   ],
   "source": [
    "print(list1[-2])"
   ]
  },
  {
   "cell_type": "code",
   "execution_count": 56,
   "id": "42fa6d18",
   "metadata": {},
   "outputs": [],
   "source": [
    "# Slicing used for accessing multiple elements"
   ]
  },
  {
   "cell_type": "code",
   "execution_count": 57,
   "id": "c26af456",
   "metadata": {},
   "outputs": [],
   "source": [
    "l=[1,2,3,4,5,6,7,8,9]"
   ]
  },
  {
   "cell_type": "code",
   "execution_count": 58,
   "id": "bc8e3d4b",
   "metadata": {},
   "outputs": [
    {
     "name": "stdout",
     "output_type": "stream",
     "text": [
      "[1, 2, 3, 4, 5]\n"
     ]
    }
   ],
   "source": [
    "print(l[0:5])"
   ]
  },
  {
   "cell_type": "code",
   "execution_count": 62,
   "id": "4ab32a99",
   "metadata": {},
   "outputs": [
    {
     "data": {
      "text/plain": [
       "[1, 2, 3, 4, 'hii', 4.5]"
      ]
     },
     "execution_count": 62,
     "metadata": {},
     "output_type": "execute_result"
    }
   ],
   "source": [
    "list1[0:]"
   ]
  },
  {
   "cell_type": "code",
   "execution_count": 68,
   "id": "a05e46b7",
   "metadata": {},
   "outputs": [
    {
     "data": {
      "text/plain": [
       "[2, 3, 4, 'hii', 4.5]"
      ]
     },
     "execution_count": 68,
     "metadata": {},
     "output_type": "execute_result"
    }
   ],
   "source": [
    "list1[-5:]"
   ]
  },
  {
   "cell_type": "code",
   "execution_count": 69,
   "id": "1cf20dcb",
   "metadata": {},
   "outputs": [
    {
     "data": {
      "text/plain": [
       "[4]"
      ]
     },
     "execution_count": 69,
     "metadata": {},
     "output_type": "execute_result"
    }
   ],
   "source": [
    "l[-6:-5]"
   ]
  },
  {
   "cell_type": "code",
   "execution_count": 70,
   "id": "6c53bdbf",
   "metadata": {},
   "outputs": [
    {
     "data": {
      "text/plain": [
       "[1, 3, 5, 7, 9]"
      ]
     },
     "execution_count": 70,
     "metadata": {},
     "output_type": "execute_result"
    }
   ],
   "source": [
    "l[::2]"
   ]
  },
  {
   "cell_type": "code",
   "execution_count": 71,
   "id": "6ef37f14",
   "metadata": {},
   "outputs": [
    {
     "data": {
      "text/plain": [
       "[1, 2, 3, 4, 5, 6, 7, 8, 9]"
      ]
     },
     "execution_count": 71,
     "metadata": {},
     "output_type": "execute_result"
    }
   ],
   "source": [
    "l[::1]"
   ]
  },
  {
   "cell_type": "code",
   "execution_count": 72,
   "id": "37b3c963",
   "metadata": {},
   "outputs": [
    {
     "data": {
      "text/plain": [
       "[9, 8, 7, 6, 5, 4, 3, 2, 1]"
      ]
     },
     "execution_count": 72,
     "metadata": {},
     "output_type": "execute_result"
    }
   ],
   "source": [
    "l[::-1]\n",
    "#reverse list using slicing without for loop or function"
   ]
  },
  {
   "cell_type": "code",
   "execution_count": 73,
   "id": "7866f927",
   "metadata": {},
   "outputs": [
    {
     "data": {
      "text/plain": [
       "[9]"
      ]
     },
     "execution_count": 73,
     "metadata": {},
     "output_type": "execute_result"
    }
   ],
   "source": [
    "l[-1::]"
   ]
  },
  {
   "cell_type": "code",
   "execution_count": 74,
   "id": "e6f909c2",
   "metadata": {},
   "outputs": [
    {
     "data": {
      "text/plain": [
       "[1, 2, 3, 4, 5, 6, 7, 8, 9]"
      ]
     },
     "execution_count": 74,
     "metadata": {},
     "output_type": "execute_result"
    }
   ],
   "source": [
    "l[-9::1]"
   ]
  },
  {
   "cell_type": "code",
   "execution_count": 75,
   "id": "24c99053",
   "metadata": {},
   "outputs": [
    {
     "data": {
      "text/plain": [
       "[9, 8, 7, 6, 5, 4, 3, 2, 1]"
      ]
     },
     "execution_count": 75,
     "metadata": {},
     "output_type": "execute_result"
    }
   ],
   "source": [
    "l[-1::-1]"
   ]
  },
  {
   "cell_type": "code",
   "execution_count": null,
   "id": "318279aa",
   "metadata": {},
   "outputs": [],
   "source": [
    "\n",
    "\n"
   ]
  }
 ],
 "metadata": {
  "kernelspec": {
   "display_name": "Python 3 (ipykernel)",
   "language": "python",
   "name": "python3"
  },
  "language_info": {
   "codemirror_mode": {
    "name": "ipython",
    "version": 3
   },
   "file_extension": ".py",
   "mimetype": "text/x-python",
   "name": "python",
   "nbconvert_exporter": "python",
   "pygments_lexer": "ipython3",
   "version": "3.10.9"
  }
 },
 "nbformat": 4,
 "nbformat_minor": 5
}
