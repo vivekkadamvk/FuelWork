{
 "cells": [
  {
   "cell_type": "markdown",
   "id": "91abadaf",
   "metadata": {},
   "source": [
    "## Regression"
   ]
  },
  {
   "cell_type": "markdown",
   "id": "703741eb",
   "metadata": {},
   "source": [
    "ML Regression is technique for investigating relationship between independent and dependent variable of feature and dependent variable or outcome. it is used as learning , in which algorithm is used to predict continuous outcome"
   ]
  },
  {
   "cell_type": "markdown",
   "id": "cbf8988c",
   "metadata": {},
   "source": [
    "### Linear regression\n"
   ]
  },
  {
   "cell_type": "markdown",
   "id": "c8f8a0df",
   "metadata": {},
   "source": [
    "- predictive model for finding relationship between dependent and one or more independent variable \n",
    "- parametric algorithm -- Assumption on Distribution of Data\n",
    "- Types of Linear regression --- \n",
    "1. Simple Linear regression:\n",
    "Only one independent variable\n",
    "y=mx+c\n",
    "\n",
    "2. Multiple Linear regression:\n",
    "two or more Independent Variable \n",
    "y=mx1+mx2+....+C"
   ]
  },
  {
   "cell_type": "markdown",
   "id": "3e418a44",
   "metadata": {},
   "source": [
    "## What is Cost or lost function"
   ]
  },
  {
   "cell_type": "markdown",
   "id": "da2d599c",
   "metadata": {},
   "source": [
    "- The cost function is error in our prediction value of M and C\n",
    "- our goal is to minimize this error to obtain best fit line\n",
    "- loss is use the mean squared error(MSE) function to calculate loss"
   ]
  },
  {
   "cell_type": "markdown",
   "id": "2883b668",
   "metadata": {},
   "source": [
    "### Assumption\n",
    "\n"
   ]
  },
  {
   "cell_type": "markdown",
   "id": "7508175f",
   "metadata": {},
   "source": [
    "1. Linearity :\n",
    "- dependent variable Y should be linearly related to independent variable\n",
    "- to check this use coefficient of correlation or scatter plot or correlation matrix\n",
    "- R Coe. of Correlation > 0.7 good correlation\n",
    "- R<0.2 bad relation\n",
    "\n",
    "2. No Multicolinearity :\n",
    "- it occurs when one independent variable is linearly correlated with another independent variable\n",
    "- it can be a problem in regression because it could not distinguish between the individual detail of the independent variable of the dependent variable\n",
    "\n",
    "#####    How to detect?:\n",
    "\n",
    "\n",
    "- VIF - Variance Inflation Factor\n",
    "- VIF explains how independent variable explains other independent variable\n",
    "- VIF =1 No Correlation\n",
    "- VIF =1 to 5 Moderate Correlation\n",
    "- VIF = 10 High Correlation\n",
    "\n",
    "##### Handling Multicolinearity:\n",
    "\n",
    "- Dropping Variable\n",
    "- Combining Variable\n",
    "\n",
    "3. Normality of residual:\n",
    "- X and Y should be normally distributed\n",
    "- kdeplot\n",
    "- Hypothesis testing\n",
    "- 1.shapiro\n",
    "- 2.kteset\n",
    "- 3. normal test\n",
    "- Q-Q test\n",
    "- skewness of residual\n",
    "\n",
    "4. Homoscedasticity:\n",
    "- Homoscedasticity means error is constant along value of dependent variable"
   ]
  },
  {
   "cell_type": "code",
   "execution_count": null,
   "id": "f546ac85",
   "metadata": {},
   "outputs": [],
   "source": []
  }
 ],
 "metadata": {
  "kernelspec": {
   "display_name": "Python 3 (ipykernel)",
   "language": "python",
   "name": "python3"
  },
  "language_info": {
   "codemirror_mode": {
    "name": "ipython",
    "version": 3
   },
   "file_extension": ".py",
   "mimetype": "text/x-python",
   "name": "python",
   "nbconvert_exporter": "python",
   "pygments_lexer": "ipython3",
   "version": "3.10.9"
  }
 },
 "nbformat": 4,
 "nbformat_minor": 5
}
